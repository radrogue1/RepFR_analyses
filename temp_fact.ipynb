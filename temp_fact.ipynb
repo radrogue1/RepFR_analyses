{
 "cells": [
  {
   "cell_type": "code",
   "execution_count": 81,
   "id": "9c255a22-925e-4f15-b64a-488bb1dfb6bf",
   "metadata": {},
   "outputs": [],
   "source": [
    "import cmlreaders as cml\n",
    "import matplotlib.pyplot as plt\n",
    "import seaborn as sns\n",
    "import numpy as np\n",
    "import pandas as pd\n",
    "import warnings; warnings.simplefilter('ignore')\n",
    "pd.options.display.max_columns=None\n",
    "pd.options.display.max_rows=100\n",
    "from IPython.display import display, Markdown, HTML\n",
    "import pandas_to_pybeh as pb\n",
    "import time\n",
    "import rep_pybeh as rpb\n",
    "from tqdm import tqdm_notebook as lol\n",
    "import glob\n",
    "from plotting import *"
   ]
  },
  {
   "cell_type": "code",
   "execution_count": 82,
   "id": "5d01e0a3-3380-4ca2-a188-69298dffa029",
   "metadata": {},
   "outputs": [
    {
     "data": {
      "text/plain": [
       "array(['R1204T', 'R1501J', 'R1514E', 'R1516E', 'R1528E', 'R1531T',\n",
       "       'R1534D', 'R1547D', 'R1556J', 'R1564J', 'R1566D', 'R1568E',\n",
       "       'R1579T', 'R1582E', 'R1584J', 'R1586T', 'R1587J', 'R1589T',\n",
       "       'R1590T', 'R1594E', 'R1596T'], dtype=object)"
      ]
     },
     "execution_count": 82,
     "metadata": {},
     "output_type": "execute_result"
    }
   ],
   "source": [
    "evs = []\n",
    "data = cml.get_data_index(kind = 'r1'); data = data[data['experiment'] == 'RepFR1']\n",
    "for subject, df in data.groupby('subject'):\n",
    "    for session in pd.unique(df['session']):\n",
    "        r = cml.CMLReader(subject=subject, experiment='RepFR1', session=session)\n",
    "        temp = r.load('task_events')\n",
    "        evs.append(temp)\n",
    "evs = pd.concat(evs)\n",
    "evs = evs[evs.list != 0]\n",
    "evs.subject.unique()"
   ]
  },
  {
   "cell_type": "code",
   "execution_count": 83,
   "id": "7637c214-5353-449e-ad93-36bb81384e53",
   "metadata": {
    "tags": []
   },
   "outputs": [
    {
     "data": {
      "text/plain": [
       "0.5409596530920056"
      ]
     },
     "execution_count": 83,
     "metadata": {},
     "output_type": "execute_result"
    }
   ],
   "source": [
    "beh = evs[evs.subject == 'R1596T']\n",
    "beh = beh[beh.session == 0]\n",
    "evs = rpb.get_act_spos(beh)\n",
    "rpb.temp_fact(evs, 27)"
   ]
  },
  {
   "cell_type": "code",
   "execution_count": 69,
   "id": "ab771987-5889-4563-8b7a-40390154f3bc",
   "metadata": {
    "tags": []
   },
   "outputs": [
    {
     "name": "stdout",
     "output_type": "stream",
     "text": [
      "0.628597592883306\n"
     ]
    }
   ],
   "source": [
    "actual = []\n",
    "list_length = 27\n",
    "recs = evs[evs.type == 'REC_WORD']\n",
    "for l, df in recs.groupby('list'):\n",
    "    used_positions = np.zeros(list_length)\n",
    "    serialpos = df.act_serialpos.to_numpy()\n",
    "    crp = pd.DataFrame(columns=['lag', 'prob'])\n",
    "    crp['lag'] = pd.Series(range(-list_length +1, list_length))\n",
    "    for i in range(len(serialpos)-1):\n",
    "        try:\n",
    "            for j, previous in enumerate(serialpos[i]):\n",
    "                for k, current in enumerate(serialpos[i+1]):\n",
    "                    lag = abs(current - previous)\n",
    "                    actual.append(lag)\n",
    "            total = 0\n",
    "            count = 0\n",
    "            open_pos = np.where(used_positions==0)\n",
    "            possible = []\n",
    "            for j, position in enumerate(serialpos[i]):\n",
    "                possible = abs(open_pos - position)[0]\n",
    "            for lag in actual:\n",
    "                rank = temp_percentile_rank(lag, possible)\n",
    "                if rank is not None:\n",
    "                    total += rank\n",
    "                    count += 1\n",
    "        except Exception as e:\n",
    "            pass\n",
    "if count == 0:\n",
    "            count= np.nan\n",
    "temp_fact = total / count"
   ]
  },
  {
   "cell_type": "code",
   "execution_count": 71,
   "id": "0943d86b-6f9a-4fd3-8a22-ffb970085e14",
   "metadata": {},
   "outputs": [],
   "source": [
    "def temp_fact(evs, list_length): \n",
    "    actual = []\n",
    "    recs = evs[evs.type == 'REC_WORD']\n",
    "    for l, df in recs.groupby('list'):\n",
    "        used_positions = np.zeros(list_length)\n",
    "        serialpos = df.act_serialpos.to_numpy()\n",
    "        crp = pd.DataFrame(columns=['lag', 'prob'])\n",
    "        crp['lag'] = pd.Series(range(-list_length +1, list_length))\n",
    "        for i in range(len(serialpos)-1):\n",
    "            try:\n",
    "\n",
    "                for j, previous in enumerate(serialpos[i]):\n",
    "\n",
    "                    for k, current in enumerate(serialpos[i+1]):\n",
    "                        lag = abs(current - previous)\n",
    "                        actual.append(lag)\n",
    "\n",
    "                total = 0\n",
    "                count = 0\n",
    "                open_pos = np.where(used_positions==0)\n",
    "                possible = []\n",
    "                for j, position in enumerate(serialpos[i]):\n",
    "                    possible = abs(open_pos - position)[0]\n",
    "                for lag in actual:\n",
    "                    rank = temp_percentile_rank(lag, possible)\n",
    "                    if rank is not None:\n",
    "                        total += rank\n",
    "                        count += 1\n",
    "            except Exception as e:\n",
    "                pass\n",
    "\n",
    "    if count == 0:\n",
    "                count= np.nan\n",
    "    temp_fact = total / count\n",
    "    return temp_fact"
   ]
  },
  {
   "cell_type": "code",
   "execution_count": 65,
   "id": "80b966f6-6388-4cb8-926e-599e31855d4d",
   "metadata": {},
   "outputs": [],
   "source": [
    "def temp_percentile_rank(actual, possible):\n",
    "    \"\"\"\n",
    "    Helper function to return the percentile rank of the actual transition within the list of possible transitions.\n",
    "\n",
    "    :param actual: The distance of the actual transition that was made.\n",
    "    :param possible: The list of all possible transition distances that could have been made.\n",
    "\n",
    "    :return: The proportion of possible transitions that were more distant than the actual transition.\n",
    "    \"\"\"\n",
    "    # If there were fewer than 2 possible transitions, we can't compute a meaningful percentile rank\n",
    "    if len(possible) < 2:\n",
    "        return None\n",
    "\n",
    "    # Sort possible transitions from largest to smallest\n",
    "    possible = sorted(possible)[::-1]\n",
    "\n",
    "    # Get indices of the one or more possible transitions with the same distance as the actual transition\n",
    "    matches, = np.where(possible == actual)\n",
    "\n",
    "    if len(matches) > 0:\n",
    "        # Get the number of possible transitions that were more distant than the actual transition\n",
    "        # If there were multiple transitions with the same distance as the actual one, average across their ranks\n",
    "        rank = np.mean(matches)\n",
    "        # Convert rank to the proportion of possible transitions that were more distant than the actual transition\n",
    "        ptile_rank = rank / (len(possible) - 1.)\n",
    "    else:\n",
    "        ptile_rank = None\n",
    "\n",
    "    return ptile_rank"
   ]
  },
  {
   "cell_type": "code",
   "execution_count": null,
   "id": "42ee0205-acba-47db-909d-39fb7fb9526d",
   "metadata": {},
   "outputs": [],
   "source": []
  },
  {
   "cell_type": "code",
   "execution_count": null,
   "id": "526cb791-f6f9-4972-a201-e67cd1bc7d3f",
   "metadata": {},
   "outputs": [],
   "source": []
  }
 ],
 "metadata": {
  "kernelspec": {
   "display_name": "bub",
   "language": "python",
   "name": "bub"
  },
  "language_info": {
   "codemirror_mode": {
    "name": "ipython",
    "version": 3
   },
   "file_extension": ".py",
   "mimetype": "text/x-python",
   "name": "python",
   "nbconvert_exporter": "python",
   "pygments_lexer": "ipython3",
   "version": "3.7.3"
  }
 },
 "nbformat": 4,
 "nbformat_minor": 5
}
