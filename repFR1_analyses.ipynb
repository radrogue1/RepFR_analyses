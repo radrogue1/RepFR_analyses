{
 "cells": [
  {
   "cell_type": "code",
   "execution_count": 5,
   "id": "05de7f4c-e3c9-4b9e-af1f-dc7159f06c63",
   "metadata": {
    "tags": []
   },
   "outputs": [],
   "source": [
    "import gensim.downloader\n",
    "word2vec_vectors = gensim.downloader.load('word2vec-google-news-300')"
   ]
  },
  {
   "cell_type": "code",
   "execution_count": 6,
   "id": "bd920f2d-8316-40ab-ab93-57d084405cf3",
   "metadata": {},
   "outputs": [],
   "source": [
    "import cmlreaders as cml\n",
    "import matplotlib.pyplot as plt\n",
    "import seaborn as sns\n",
    "import numpy as np\n",
    "import pandas as pd\n",
    "import warnings; warnings.simplefilter('ignore')\n",
    "pd.options.display.max_columns=None\n",
    "pd.options.display.max_rows=100\n",
    "from IPython.display import display, Markdown, HTML\n",
    "import pandas_to_pybeh as pb\n",
    "from tqdm import tqdm_notebook as lol\n",
    "import time\n",
    "import scipy\n",
    "import rep_pybeh as rpb\n",
    "from plotting import *\n",
    "error_bars ={'elinewidth':3, 'capsize':5, 'capthick':3}\n",
    "data_set = 'hospital'"
   ]
  },
  {
   "cell_type": "markdown",
   "id": "30e47197-d972-4d6f-8327-cfa6f88a0337",
   "metadata": {
    "tags": []
   },
   "source": [
    "## Hospital Data Load"
   ]
  },
  {
   "cell_type": "code",
   "execution_count": 10,
   "id": "6cfae79d-bcdc-4f65-8846-b0e83d2604d9",
   "metadata": {},
   "outputs": [
    {
     "name": "stdout",
     "output_type": "stream",
     "text": [
      "fuck R1593D 4\n",
      "fuck R1593D 5\n",
      "fuck R1651J 2\n",
      "50\n"
     ]
    }
   ],
   "source": [
    "if data_set == 'hospital':\n",
    "    evs = []\n",
    "    data = cml.get_data_index(kind = 'r1'); data = data[data['experiment'] == 'RepFR1']\n",
    "    \n",
    "    for subject, df in data.groupby('subject'):\n",
    "        for session in pd.unique(df['session']):\n",
    "            try:\n",
    "                r = cml.CMLReader(subject=subject, experiment='RepFR1', session=session)\n",
    "                temp = r.load('task_events')\n",
    "                evs.append(temp)\n",
    "            except: print('fuck',subject,session )\n",
    "    evs = pd.concat(evs)\n",
    "    evs = evs[evs.list != 0]\n",
    "    subs = evs.subject.unique()\n",
    "    print(len(subs))"
   ]
  },
  {
   "cell_type": "markdown",
   "id": "0e5d7df9-97c3-4b6a-9671-8450b3eb1d5e",
   "metadata": {},
   "source": [
    "## Scalp Data Load"
   ]
  },
  {
   "cell_type": "code",
   "execution_count": 11,
   "id": "64ce7401-0950-49e2-9520-4a7692ced90f",
   "metadata": {},
   "outputs": [],
   "source": [
    "if data_set == 'scalp':\n",
    "    evs = []\n",
    "    data = cml.get_data_index(kind = 'ltp'); data = data[data['experiment'] == 'ltpRepFR']\n",
    "    for subject, df in data.groupby('subject'):\n",
    "        for session in pd.unique(df['session']):\n",
    "            r = cml.CMLReader(subject=subject, experiment='ltpRepFR', session=session)\n",
    "            temp = r.load('all_events')\n",
    "            evs.append(temp)\n",
    "    evs = pd.concat(evs)\n",
    "    evs = evs[evs.list != 0]\n",
    "    subs = evs.subject.unique()\n",
    "\n",
    "\n",
    "    print(evs.subject.unique())"
   ]
  },
  {
   "cell_type": "code",
   "execution_count": 12,
   "id": "f08779f4-56e0-493a-ae08-be76499d38b9",
   "metadata": {},
   "outputs": [],
   "source": [
    "word_evs = evs.query('type == \"WORD\" and repeats != -999')\n",
    "rec_evs = evs.query('type == \"REC_WORD\"')\n",
    "#removing repeat presentations\n",
    "word_evs = word_evs.drop_duplicates(subset=['subject', 'session', 'item_num'], keep='first')"
   ]
  },
  {
   "cell_type": "code",
   "execution_count": 13,
   "id": "14bc4a84-7725-4320-a787-73c4a5e38175",
   "metadata": {},
   "outputs": [],
   "source": [
    "events = word_evs.append(rec_evs)"
   ]
  },
  {
   "cell_type": "code",
   "execution_count": 14,
   "id": "d3a918ba-fa84-4cd5-aeb2-04acde212a5f",
   "metadata": {},
   "outputs": [],
   "source": [
    "# replace item nums so they are consistent across subjects\n",
    "item_col = 'item_name'\n",
    "item_num_col = 'item_num'\n",
    "item_num_df = word_evs.drop_duplicates(subset=item_col, ignore_index=True\n",
    "                                    )[item_col].reset_index().rename(columns={'index': item_num_col})\n",
    "item_num_df[item_num_col] = item_num_df[item_num_col] + 1\n",
    "events_new = events.merge(item_num_df, on=item_col, suffixes=('', '_new'), \n",
    "                          how='left', sort=False)#.sort_values('mstime')\n",
    "events_new.fillna({'item_num_new': -999}, inplace=True)"
   ]
  },
  {
   "cell_type": "code",
   "execution_count": 15,
   "id": "5c6075cf-4c6e-43b6-8cbf-e4690aac07db",
   "metadata": {},
   "outputs": [],
   "source": [
    "def word_similarity(df, col1, col2, keyed_vector=None):\n",
    "    try:\n",
    "        similarity = keyed_vector.similarity(df[col1].lower(), df[col2].lower())\n",
    "        return similarity\n",
    "    except:\n",
    "        return np.nan"
   ]
  },
  {
   "cell_type": "code",
   "execution_count": 16,
   "id": "ad7e815e-4a5c-4383-9f6a-44363d2abfcb",
   "metadata": {},
   "outputs": [],
   "source": [
    "# get all pairs of items\n",
    "items = item_num_df[item_col].values\n",
    "sem_sim_df = pd.MultiIndex.from_product([items, items], names=[item_col+'_1', item_col+'_2']).to_frame(index=False)"
   ]
  },
  {
   "cell_type": "code",
   "execution_count": 17,
   "id": "1ea8b361-71d7-4e47-8148-2f5459468131",
   "metadata": {},
   "outputs": [],
   "source": [
    "# compute similarity of all pairs\n",
    "sem_sim_df['similarity'] = sem_sim_df.apply(word_similarity, \n",
    "               axis=1, col1=item_col+'_1', \n",
    "               col2=item_col+'_2', \n",
    "               keyed_vector=word2vec_vectors)"
   ]
  },
  {
   "cell_type": "code",
   "execution_count": 18,
   "id": "3e7af835-8bba-483d-bec8-ea9a8d86b787",
   "metadata": {},
   "outputs": [],
   "source": [
    "sem_sim_num_df = sem_sim_df.merge(\n",
    "    item_num_df, left_on=item_col+'_1', right_on=item_col).merge(\n",
    "    item_num_df, left_on=item_col+'_2', right_on=item_col, suffixes=('_1', '_2'))"
   ]
  },
  {
   "cell_type": "code",
   "execution_count": 19,
   "id": "8f1f104a-6255-43a0-9b78-1f73560e66e1",
   "metadata": {},
   "outputs": [],
   "source": [
    "sem_sims = pd.pivot_table(sem_sim_num_df, \n",
    "                          index=item_num_col+'_1', \n",
    "                          columns=item_num_col+'_2', \n",
    "                          values='similarity', dropna=False)"
   ]
  },
  {
   "cell_type": "code",
   "execution_count": 20,
   "id": "a1183727-8e80-4fab-bd37-27e76ca89cc6",
   "metadata": {},
   "outputs": [],
   "source": [
    "# events_new.at[events_new.repeats == 2, 'item_num']\n",
    "\n",
    "ones = events_new.copy()\n",
    "ones.loc[ones.repeats == 2, 'item_num_new'] = -1\n",
    "ones.loc[ones.repeats == 3, 'item_num_new'] = -1\n",
    "\n",
    "twos = events_new.copy()\n",
    "twos.loc[twos.repeats == 1, 'item_num_new'] = -1\n",
    "twos.loc[twos.repeats == 3, 'item_num_new'] = -1\n",
    "\n",
    "thrs = events_new.copy()\n",
    "thrs.loc[thrs.repeats==1, 'item_num_new'] = -1\n",
    "thrs.loc[thrs.repeats==2, 'item_num_new'] = -1\n",
    "\n",
    "ones_crp = ones.groupby('subject').apply(pb.pd_sem_crp, \n",
    "                                itemno_column=item_num_col+'_new', sem_sims=sem_sims).reset_index()\n",
    "twos_crp = twos.groupby('subject').apply(pb.pd_sem_crp, \n",
    "                                itemno_column=item_num_col+'_new', sem_sims=sem_sims).reset_index()\n",
    "thrs_crp = thrs.groupby('subject').apply(pb.pd_sem_crp, \n",
    "                                itemno_column=item_num_col+'_new', sem_sims=sem_sims).reset_index()\n",
    "alls_crp = events_new.groupby('subject').apply(pb.pd_sem_crp, \n",
    "                                itemno_column=item_num_col+'_new', sem_sims=sem_sims).reset_index()\n",
    "alls_crp.to_csv(data_set+'_sem_crp.csv')"
   ]
  },
  {
   "cell_type": "code",
   "execution_count": null,
   "id": "1962d276-facb-42f7-a0d5-7dce697ee5f8",
   "metadata": {},
   "outputs": [],
   "source": [
    "#using average bin value\n",
    "\n",
    "ones_crp['avg_sem_bin_mean'] = ones_crp.groupby('sem_bin')['sem_bin_mean'].transform('mean')\n",
    "twos_crp['avg_sem_bin_mean'] = twos_crp.groupby('sem_bin')['sem_bin_mean'].transform('mean')\n",
    "thrs_crp['avg_sem_bin_mean'] = thrs_crp.groupby('sem_bin')['sem_bin_mean'].transform('mean')\n",
    "alls_crp['avg_sem_bin_mean'] = alls_crp.groupby('sem_bin')['sem_bin_mean'].transform('mean')\n",
    "\n",
    "\n",
    "set_axes(ylim=[0, 1], xticks=np.arange(0, 0.41, 0.1), fontsize = 30)\n",
    "g = sns.lineplot(x='avg_sem_bin_mean', y='prob', data=ones_crp, linewidth = 3,\n",
    "                 marker = 'o', err_style = 'bars', err_kws=error_bars, label = 'One')\n",
    "\n",
    "g = sns.lineplot(x='avg_sem_bin_mean', y='prob', data=twos_crp, linewidth = 3,\n",
    "                 marker = 'o', err_style = 'bars', err_kws=error_bars, label = 'Two')\n",
    "\n",
    "g = sns.lineplot(x='avg_sem_bin_mean', y='prob', data=thrs_crp, linewidth = 3,\n",
    "                 marker = 'o', err_style = 'bars', err_kws=error_bars, label = 'Three')\n",
    "\n",
    "plt.ylabel('Conditional Response Probability')\n",
    "plt.xlabel('Average Semantic Bin Mean')\n",
    "plt.savefig(data_set+'_figs/sem_crp_split.pdf', bbox_inches='tight')"
   ]
  },
  {
   "cell_type": "code",
   "execution_count": null,
   "id": "846bf074-a63a-43e4-a137-eafe89973f63",
   "metadata": {},
   "outputs": [],
   "source": [
    "set_axes(ylim=[0, 0.5], xlim = [-0.05, 0.4], xticks=np.arange(0, 0.41, 0.1), fontsize = 30)\n",
    "\n",
    "g = sns.lineplot(x='avg_sem_bin_mean', y='prob', data=alls_crp, linewidth = 3,\n",
    "                 color = 'black', marker = 'o', err_style = 'bars', err_kws=error_bars)\n",
    "\n",
    "plt.ylabel('Conditional Reponse \\nProbability', fontsize = 30)\n",
    "plt.xlabel('Average Semantic Bin Mean')\n",
    "\n",
    "plt.savefig(data_set+'_figs/sem_crp.pdf', bbox_inches='tight')"
   ]
  },
  {
   "cell_type": "code",
   "execution_count": null,
   "id": "7600247d-cf8c-4247-bc97-1ae2ebd06946",
   "metadata": {},
   "outputs": [],
   "source": []
  }
 ],
 "metadata": {
  "kernelspec": {
   "display_name": "bub",
   "language": "python",
   "name": "bub"
  },
  "language_info": {
   "codemirror_mode": {
    "name": "ipython",
    "version": 3
   },
   "file_extension": ".py",
   "mimetype": "text/x-python",
   "name": "python",
   "nbconvert_exporter": "python",
   "pygments_lexer": "ipython3",
   "version": "3.7.3"
  }
 },
 "nbformat": 4,
 "nbformat_minor": 5
}
