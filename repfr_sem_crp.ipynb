{
 "cells": [
  {
   "cell_type": "code",
   "execution_count": 34,
   "id": "39e7ecae-3af9-488c-b7bf-991c860af468",
   "metadata": {},
   "outputs": [],
   "source": [
    "import cmlreaders as cml\n",
    "import matplotlib.pyplot as plt\n",
    "import seaborn as sns\n",
    "import numpy as np\n",
    "import pandas as pd\n",
    "import warnings; warnings.simplefilter('ignore')\n",
    "pd.options.display.max_columns=None\n",
    "pd.options.display.max_rows=100\n",
    "from IPython.display import display, Markdown, HTML\n",
    "import pandas_to_pybeh as pb\n",
    "from tqdm import tqdm_notebook as lol\n",
    "import time\n",
    "import scipy\n",
    "import rep_pybeh as rpb\n",
    "from plotting import *\n",
    "error_bars ={'elinewidth':1.5, 'capsize':3, 'capthick':1.5}\n"
   ]
  },
  {
   "cell_type": "code",
   "execution_count": 35,
   "id": "ce784fdd-97ac-4521-98b1-aa530dc42667",
   "metadata": {},
   "outputs": [],
   "source": [
    "evs = []\n",
    "data = cml.get_data_index(kind = 'ltp'); data = data[data['experiment'] == 'ltpRepFR']\n",
    "for subject, df in data.groupby('subject'):\n",
    "    for session in pd.unique(df['session']):\n",
    "        r = cml.CMLReader(subject=subject, experiment='ltpRepFR', session=session)\n",
    "        temp = r.load('all_events')\n",
    "        evs.append(temp)\n",
    "evs = pd.concat(evs)\n",
    "evs = evs[evs.list != 0]\n",
    "#word_evs[word_evs['item_num'] == 0].head()"
   ]
  },
  {
   "cell_type": "code",
   "execution_count": 36,
   "id": "b6e30d0c-e492-47bb-8d3d-c273cab057fa",
   "metadata": {},
   "outputs": [
    {
     "data": {
      "text/plain": [
       "array([  0,   1,   2,   3,   4,   5,   6,   7,   8,   9,  10,  11,  12,\n",
       "        13,  14,  15,  16,  17,  18,  19,  20,  21,  22,  23,  24,  25,\n",
       "        26,  27,  28,  29,  30,  31,  32,  33,  34,  35,  36,  37,  38,\n",
       "        39,  40,  41,  42,  43,  44,  45,  46,  47,  48,  49,  50,  51,\n",
       "        52,  53,  54,  55,  56,  57,  58,  59,  60,  61,  62,  63,  64,\n",
       "        65,  66,  67,  68,  69,  70,  71,  72,  73,  74,  75,  76,  77,\n",
       "        78,  79,  80,  81,  82,  83,  84,  85,  86,  87,  88,  89,  90,\n",
       "        91,  92,  93,  94,  95,  96,  97,  98,  99, 100, 101, 102, 103,\n",
       "       104, 105, 106, 107, 108, 109, 110, 111, 112, 113, 114, 115, 116,\n",
       "       117, 118, 119, 120, 121, 122, 123, 124, 125, 126, 127, 128, 129,\n",
       "       130, 131, 132, 133, 134, 135, 136, 137, 138, 139, 140, 141, 142,\n",
       "       143, 144, 145, 146, 147, 148, 149, 150, 151, 152, 153, 154, 155,\n",
       "       156, 157, 158, 159, 160, 161, 162, 163, 164, 165, 166, 167, 168,\n",
       "       169, 170, 171, 172, 173, 174, 175, 176, 177, 178, 179, 180, 181,\n",
       "       182, 183, 184, 185, 186, 187, 188, 189, 190, 191, 192, 193, 194,\n",
       "       195, 196, 197, 198, 199, 200, 201, 202, 203, 204, 205, 206, 207,\n",
       "       208, 209, 210, 211, 212, 213, 214, 215, 216, 217, 218, 219, 220,\n",
       "       221, 222, 223, 224, 225, 226, 227, 228, 229, 230, 231, 232, 233,\n",
       "       234, 235, 236, 237, 238, 239, 240, 241, 242, 243, 244, 245, 246,\n",
       "       247, 248, 249, 250, 251, 252, 253, 254, 255, 256, 257, 258, 259,\n",
       "       260, 261, 262, 263, 264, 265, 266, 267, 268, 269, 270, 271, 272,\n",
       "       273, 274, 275, 276, 277, 278, 279, 280, 281, 282, 283, 284, 285,\n",
       "       286, 287, 288, 289, 290, 291, 292, 293, 294, 295, 296, 297, 298,\n",
       "       299, 300, 301, 302, 303, 304, 305, 306, 307, 308, 309, 310, 311])"
      ]
     },
     "execution_count": 36,
     "metadata": {},
     "output_type": "execute_result"
    }
   ],
   "source": [
    "import os\n",
    "root = '/data/eeg/scalp/ltp/'\n",
    "experiment = 'ltpRepFR'\n",
    "with open(os.path.join(root, experiment, 'wordpool.txt'), \"r\") as f:\n",
    "    wordpool = [w.strip().upper() for w in f.readlines()]\n",
    "wordpool.pop(0)\n",
    "\n",
    "item_num_df = pd.DataFrame({'item_name': wordpool}).reset_index()\n",
    "item_num_df.rename(columns={'index': 'item_num'}, inplace=True)\n",
    "new_evs = evs.merge(item_num_df, on='item_name', suffixes=('', '_new'))\n",
    "test_evs = new_evs.query('type == [\"WORD\", \"REC_WORD\"] and item_num >= 0')\n",
    "test_evs.query('item_num != item_num_new')\n",
    "np.sort(test_evs.item_num_new.unique())\n",
    "# word_evs = new_evs[new_evs.type=='WORD']\n",
    "# word_evs = word_evs.loc[word_evs.repeats != -999]\n",
    "# rec_evs = new_evs[new_evs.type=='REC_WORD']\n",
    "# test_evs.item_num_new.nunique()"
   ]
  },
  {
   "cell_type": "code",
   "execution_count": 21,
   "id": "f3a56b43-456f-410d-a5dd-18778cf0f7b2",
   "metadata": {},
   "outputs": [
    {
     "data": {
      "application/vnd.jupyter.widget-view+json": {
       "model_id": "e3267a99c6e44a209bb90e575bf09b24",
       "version_major": 2,
       "version_minor": 0
      },
      "text/plain": [
       "HBox(children=(IntProgress(value=0, max=68), HTML(value='')))"
      ]
     },
     "metadata": {},
     "output_type": "display_data"
    },
    {
     "name": "stdout",
     "output_type": "stream",
     "text": [
      "\n"
     ]
    }
   ],
   "source": [
    "first_crp = []\n",
    "for i, df in lol(word_evs.groupby(['subject', 'session'])):\n",
    "    try:\n",
    "#         df = df.loc[df.repeats == 3]\n",
    "        df = df.drop_duplicates('item_num')\n",
    "        positions = len(df.item_num.unique())\n",
    "        df['serialpos'] = pd.Series(range(positions), index = df.index)\n",
    "        first_crp.append(df)\n",
    "    except:\n",
    "        a, b, c = i\n",
    "        print('Subject ' + a + ' session ' + str(b) + ' failed')\n",
    "first_crp = pd.concat(first_crp)\n"
   ]
  },
  {
   "cell_type": "code",
   "execution_count": 22,
   "id": "4c9dd446-501e-4f98-9aa4-025190c7b2b4",
   "metadata": {},
   "outputs": [],
   "source": [
    "# evs=first_crp.append(rec_evs)\n",
    "\n",
    "# evs = evs[evs.list < 26]\n",
    "# ffr = word_evs.append(rec_evs[rec_evs.list == 26])\n",
    "# # ffr = ffr.append(rec_evs[rec_evs])\n",
    "# ffr['list'] = pd.Series(26, ffr.index)\n",
    "# test_ffr = ffr[(ffr.subject == 'LTP441') & (ffr.session == 9)]\n",
    "# # ffr[ffr.type == \"WORD\"].groupby(['subject', 'session']).item_num.duplicated()\n",
    "# test_ffr[test_ffr.type == 'WORD'].item_num.duplicated()\n",
    "# test_ffr[(test_ffr.type == 'WORD') & (test_ffr.item_num ==140)]"
   ]
  },
  {
   "cell_type": "code",
   "execution_count": 23,
   "id": "ddbcaf28-a865-4254-a428-39589f2699fe",
   "metadata": {
    "tags": []
   },
   "outputs": [
    {
     "data": {
      "text/plain": [
       "<matplotlib.axes._subplots.AxesSubplot at 0x2aadf7853390>"
      ]
     },
     "execution_count": 23,
     "metadata": {},
     "output_type": "execute_result"
    },
    {
     "data": {
      "image/png": "[encoded data removed]",
      "text/plain": [
       "<Figure size 504x504 with 1 Axes>"
      ]
     },
     "metadata": {
      "needs_background": "light"
     },
     "output_type": "display_data"
    }
   ],
   "source": [
    "evs = first_crp.append(rec_evs)\n",
    "sem_crp = []\n",
    "n_bins = 10\n",
    "sim_mat = pd.read_csv('similarity_matrix.csv', index_col = 0)\n",
    "sem_crp = evs.groupby(['subject']).apply(lambda x: pb.pd_sem_crp(x, itemno_column='item_num_new', list_index=['subject', 'session', 'list'], sem_sims = sim_mat, n_bins=n_bins)).reset_index()\n",
    "\n",
    "sem_crp.set_index('sem_bin', inplace = True)\n",
    "sem_crp['avg_sem_bin_mean'] = sem_crp.groupby('sem_bin').sem_bin_mean.mean()\n",
    "sem_crp.reset_index(inplace = True)\n",
    "set_axes(xticks = np.arange(0,.31,.05), xlim = [-0.05, 0.35])\n",
    "sns.lineplot(data = sem_crp, x = 'avg_sem_bin_mean', y = 'prob',err_style = 'bars', ci = 95, marker = 'o', color = 'black', err_kws=error_bars)\n",
    "\n",
    "# display(sem_crp)"
   ]
  },
  {
   "cell_type": "code",
   "execution_count": 12,
   "id": "83fb4595-0c05-46cd-9b08-388151c94730",
   "metadata": {},
   "outputs": [],
   "source": [
    "def sem_crp(dataframe, bins):\n",
    "    sim_mat = pd.read_csv('similarity_matrix.csv', index_col = 0)\n",
    "    full_sims = []\n",
    "    for j in list(range(sim_mat.shape[0])):\n",
    "        for k in sim_mat.iloc[j].tolist():\n",
    "            full_sims.append(k)\n",
    "    similarities = pd.Series(full_sims).value_counts()\n",
    "    similarities = similarities[similarities < 5]\n",
    "    sims = (similarities[similarities != 3] / 2).reset_index()\n",
    "    sims = sims.rename(columns={0:'amt'})\n",
    "    part_sims = []\n",
    "    for row in sims.iterrows():\n",
    "        a,b = row\n",
    "        for i in range(int(b['amt'])):\n",
    "            part_distances.append(b['index'])\n",
    "    full_sims = pd.Series(part_distances)\n",
    "    bin_series, bin_nos = pd.qcut(full_sims, q = bins, retbins = True)\n",
    "    sims = sim_mat\n",
    "    sem_crps = []\n",
    "    for sub, sub_df in dataframe.groupby('subject'):\n",
    "        sub_crps = []\n",
    "        for sess, sess_df in sub_df.groupby('session'):\n",
    "            sess_counts = []\n",
    "            for l, df in sess_df.groupby('list'):\n",
    "                word_evs = df[df.type == 'WORD']\n",
    "                rec_evs = df[df.type=='REC_WORD']\n",
    "                rec_evs.at[rec_evs.intrusion != 0, 'item_num'] = -999\n",
    "                recs = rec_evs.item_num.unique()\n",
    "                encs = word_evs.item_num.unique()\n",
    "                pos_sims = np.zeros(len(bin_nos)-1)\n",
    "                act_sims = []\n",
    "                for outpos, item in enumerate(recs):\n",
    "                    try:\n",
    "                        encs = np.delete(encs, np.where(encs == item))\n",
    "                        temp = np.zeros(len(bin_nos)-1)\n",
    "                        for other in encs:\n",
    "                            place, _ = np.histogram(sim_mat.iloc[item, other], bins = bin_nos)\n",
    "                            place = np.where(place == 1)\n",
    "                            temp[place] = 1\n",
    "                        pos_sims+= temp\n",
    "                        try: act_sims.append(sim_mat.iloc[item, recs[i+1]])\n",
    "                        except: pass\n",
    "                    except IndexError:\n",
    "                        pass\n",
    "                pos_sims = np.array(pos_sims)\n",
    "                act_sims = np.array(act_sims)\n",
    "                bin_act, _ = np.histogram(act_sims, bin_nos)\n",
    "                temp = pd.DataFrame(data=bin_act, columns = ['act'])\n",
    "                temp['pos'] = pos_sims\n",
    "                sess_counts.append(temp)\n",
    "            sess_counts = pd.concat(sess_counts).reset_index().groupby('index').sum()\n",
    "            sess_counts['prop'] = sess_counts.act/sess_counts.pos\n",
    "            sess_counts['subject'] = sub\n",
    "            sess_counts['session'] = sess\n",
    "            bin_centers = []\n",
    "            for i, b in enumerate(bin_nos):\n",
    "                try: bin_centers.append((b+bin_nos[i+1])/2)\n",
    "                except: pass\n",
    "            sess_counts['bin_centers'] = pd.Series(bin_centers)\n",
    "            sub_crps.append(sess_counts)\n",
    "        sub_crps = pd.concat(sub_crps)\n",
    "        sem_crps.append(sub_crps.reset_index().groupby(['subject', 'index']).mean().drop(['session', 'act', 'pos'], 1).reset_index())\n",
    "    sem_crps = pd.concat(sem_crps)\n",
    "    sem_crps = sem_crps.rename(columns={'index':'bin'}).reset_index()\n",
    "    return (sem_crps, bin_nos)       \n",
    "\n"
   ]
  },
  {
   "cell_type": "code",
   "execution_count": 13,
   "id": "865cf3f5-caf7-4296-89c0-7c9b349dcaff",
   "metadata": {},
   "outputs": [
    {
     "ename": "NameError",
     "evalue": "name 'part_distances' is not defined",
     "output_type": "error",
     "traceback": [
      "\u001b[0;31m---------------------------------------------------------------------------\u001b[0m",
      "\u001b[0;31mNameError\u001b[0m                                 Traceback (most recent call last)",
      "\u001b[0;32m<ipython-input-13-847a8c252073>\u001b[0m in \u001b[0;36m<module>\u001b[0;34m()\u001b[0m\n\u001b[1;32m      2\u001b[0m \u001b[0;31m#     try:\u001b[0m\u001b[0;34m\u001b[0m\u001b[0;34m\u001b[0m\u001b[0;34m\u001b[0m\u001b[0m\n\u001b[1;32m      3\u001b[0m \u001b[0;34m\u001b[0m\u001b[0m\n\u001b[0;32m----> 4\u001b[0;31m \u001b[0msem_crps\u001b[0m\u001b[0;34m,\u001b[0m \u001b[0mbin_nos\u001b[0m \u001b[0;34m=\u001b[0m \u001b[0msem_crp\u001b[0m\u001b[0;34m(\u001b[0m\u001b[0mevs\u001b[0m\u001b[0;34m,\u001b[0m \u001b[0;36m9\u001b[0m\u001b[0;34m)\u001b[0m\u001b[0;34m\u001b[0m\u001b[0;34m\u001b[0m\u001b[0m\n\u001b[0m\u001b[1;32m      5\u001b[0m \u001b[0;31m# bin_nos\u001b[0m\u001b[0;34m\u001b[0m\u001b[0;34m\u001b[0m\u001b[0;34m\u001b[0m\u001b[0m\n",
      "\u001b[0;32m<ipython-input-12-5135460b962f>\u001b[0m in \u001b[0;36msem_crp\u001b[0;34m(dataframe, bins)\u001b[0m\n\u001b[1;32m     13\u001b[0m         \u001b[0ma\u001b[0m\u001b[0;34m,\u001b[0m\u001b[0mb\u001b[0m \u001b[0;34m=\u001b[0m \u001b[0mrow\u001b[0m\u001b[0;34m\u001b[0m\u001b[0;34m\u001b[0m\u001b[0m\n\u001b[1;32m     14\u001b[0m         \u001b[0;32mfor\u001b[0m \u001b[0mi\u001b[0m \u001b[0;32min\u001b[0m \u001b[0mrange\u001b[0m\u001b[0;34m(\u001b[0m\u001b[0mint\u001b[0m\u001b[0;34m(\u001b[0m\u001b[0mb\u001b[0m\u001b[0;34m[\u001b[0m\u001b[0;34m'amt'\u001b[0m\u001b[0;34m]\u001b[0m\u001b[0;34m)\u001b[0m\u001b[0;34m)\u001b[0m\u001b[0;34m:\u001b[0m\u001b[0;34m\u001b[0m\u001b[0;34m\u001b[0m\u001b[0m\n\u001b[0;32m---> 15\u001b[0;31m             \u001b[0mpart_distances\u001b[0m\u001b[0;34m.\u001b[0m\u001b[0mappend\u001b[0m\u001b[0;34m(\u001b[0m\u001b[0mb\u001b[0m\u001b[0;34m[\u001b[0m\u001b[0;34m'index'\u001b[0m\u001b[0;34m]\u001b[0m\u001b[0;34m)\u001b[0m\u001b[0;34m\u001b[0m\u001b[0;34m\u001b[0m\u001b[0m\n\u001b[0m\u001b[1;32m     16\u001b[0m     \u001b[0mfull_sims\u001b[0m \u001b[0;34m=\u001b[0m \u001b[0mpd\u001b[0m\u001b[0;34m.\u001b[0m\u001b[0mSeries\u001b[0m\u001b[0;34m(\u001b[0m\u001b[0mpart_distances\u001b[0m\u001b[0;34m)\u001b[0m\u001b[0;34m\u001b[0m\u001b[0;34m\u001b[0m\u001b[0m\n\u001b[1;32m     17\u001b[0m     \u001b[0mbin_series\u001b[0m\u001b[0;34m,\u001b[0m \u001b[0mbin_nos\u001b[0m \u001b[0;34m=\u001b[0m \u001b[0mpd\u001b[0m\u001b[0;34m.\u001b[0m\u001b[0mqcut\u001b[0m\u001b[0;34m(\u001b[0m\u001b[0mfull_sims\u001b[0m\u001b[0;34m,\u001b[0m \u001b[0mq\u001b[0m \u001b[0;34m=\u001b[0m \u001b[0mbins\u001b[0m\u001b[0;34m,\u001b[0m \u001b[0mretbins\u001b[0m \u001b[0;34m=\u001b[0m \u001b[0;32mTrue\u001b[0m\u001b[0;34m)\u001b[0m\u001b[0;34m\u001b[0m\u001b[0;34m\u001b[0m\u001b[0m\n",
      "\u001b[0;31mNameError\u001b[0m: name 'part_distances' is not defined"
     ]
    }
   ],
   "source": [
    "# for i, val in enumerate(bin_nos):\n",
    "#     try:\n",
    "        \n",
    "sem_crps, bin_nos = sem_crp(evs, 9)\n",
    "# bin_nos"
   ]
  },
  {
   "cell_type": "code",
   "execution_count": 9,
   "id": "e287b0bd-290f-4786-8160-9efb46c7facc",
   "metadata": {},
   "outputs": [
    {
     "ename": "NameError",
     "evalue": "name 'sem_crps' is not defined",
     "output_type": "error",
     "traceback": [
      "\u001b[0;31m---------------------------------------------------------------------------\u001b[0m",
      "\u001b[0;31mNameError\u001b[0m                                 Traceback (most recent call last)",
      "\u001b[0;32m<ipython-input-9-121953dc72ef>\u001b[0m in \u001b[0;36m<module>\u001b[0;34m()\u001b[0m\n\u001b[1;32m      1\u001b[0m \u001b[0mset_axes\u001b[0m\u001b[0;34m(\u001b[0m\u001b[0;34m)\u001b[0m\u001b[0;34m\u001b[0m\u001b[0;34m\u001b[0m\u001b[0m\n\u001b[0;32m----> 2\u001b[0;31m \u001b[0msns\u001b[0m\u001b[0;34m.\u001b[0m\u001b[0mlineplot\u001b[0m\u001b[0;34m(\u001b[0m\u001b[0mdata\u001b[0m \u001b[0;34m=\u001b[0m \u001b[0msem_crps\u001b[0m\u001b[0;34m,\u001b[0m \u001b[0mx\u001b[0m \u001b[0;34m=\u001b[0m \u001b[0;34m'bin_centers'\u001b[0m\u001b[0;34m,\u001b[0m \u001b[0my\u001b[0m \u001b[0;34m=\u001b[0m \u001b[0;34m'prop'\u001b[0m\u001b[0;34m,\u001b[0m \u001b[0mcolor\u001b[0m \u001b[0;34m=\u001b[0m \u001b[0;34m'black'\u001b[0m\u001b[0;34m,\u001b[0m \u001b[0mmarker\u001b[0m \u001b[0;34m=\u001b[0m \u001b[0;34m'o'\u001b[0m\u001b[0;34m,\u001b[0m \u001b[0merr_style\u001b[0m \u001b[0;34m=\u001b[0m \u001b[0;34m'bars'\u001b[0m\u001b[0;34m,\u001b[0m \u001b[0merr_kws\u001b[0m\u001b[0;34m=\u001b[0m\u001b[0merror_bars\u001b[0m\u001b[0;34m)\u001b[0m\u001b[0;34m\u001b[0m\u001b[0;34m\u001b[0m\u001b[0m\n\u001b[0m",
      "\u001b[0;31mNameError\u001b[0m: name 'sem_crps' is not defined"
     ]
    },
    {
     "data": {
      "image/png": "[encoded data removed]",
      "text/plain": [
       "<Figure size 504x504 with 1 Axes>"
      ]
     },
     "metadata": {
      "needs_background": "light"
     },
     "output_type": "display_data"
    }
   ],
   "source": [
    "set_axes()\n",
    "sns.lineplot(data = sem_crps, x = 'bin_centers', y = 'prop', color = 'black', marker = 'o', err_style = 'bars', err_kws=error_bars)"
   ]
  },
  {
   "cell_type": "raw",
   "id": "47d1e2a5-3cd9-4aa0-8291-3019033e88b8",
   "metadata": {},
   "source": [
    "sem_crp = []\n",
    "n_bins = 10\n",
    "sim_mat = pd.read_csv('similarity_matrix.csv', index_col = 0)\n",
    "full_sims = []\n",
    "for j in list(range(sim_mat.shape[0])):\n",
    "    for k in sim_mat.iloc[j].tolist():\n",
    "        full_sims.append(k)\n",
    "similarities = pd.Series(full_sims).value_counts()\n",
    "similarities = similarities[similarities < 5]\n",
    "sims = (similarities[similarities != 3] / 2).reset_index()\n",
    "sims = sims.rename(columns={0:'amt'})\n",
    "part_sims = []\n",
    "for row in sims.iterrows():\n",
    "    a,b = row\n",
    "    for i in range(int(b['amt'])):\n",
    "        part_sims.append(b['index'])\n",
    "full_sims = pd.DataFrame(part_sims, columns = ['dist']).query('dist != 0')\n",
    "bin_series, bin_nos = pd.qcut(full_sims.dist, q = n_bins, retbins = True)\n",
    "bin_nos = bin_nos[1:]\n",
    "bin_nos\n",
    "# sim_mat.value_counts()\n",
    "# first_beh = first_crp.append(rec_evs)\n",
    "# first_beh = first_beh[first_beh.list != 26]\n",
    "# first_beh['item_num'] = first_beh.item_num-2\n",
    "# sim_mat\n",
    "\n",
    "# # for i, df in first_beh.groupby('subject'):\n",
    "# #     sem_crp.append(pb.pd_sem_crp(df, itemno_column='item_num', sem_sims = sim_mat, list_index=['subject', 'session', 'list']))\n",
    "# sem_crp = first_beh.groupby(['subject']).apply(lambda x: pb.pd_sem_crp(x, itemno_column='item_num', list_index=['subject', 'session', 'list'], sem_sims = sim_mat, n_bins=n_bins)).reset_index()\n",
    "# # test = first_beh[first_beh.subject == 'LTP441']\n",
    "# # test = test[test.session == 0]\n",
    "# # test.set_index(['subject', 'session', 'list'], inplace = True)\n",
    "# # np.sort(first_beh.item_num.unique()\n",
    "# set_axes(xticks = np.arange(0,40), ylim=[0,1])\n",
    "# sns.lineplot(data = sem_crp, x = 'sem_bin', y = 'prob',err_style = 'bars', ci = 95, marker = 'o', color = 'black', err_kws=error_bars)\n",
    "# pd.set_option('display.max_rows', None)\n",
    "# plt.xlabel('Semantic Bin')\n",
    "# plt.ylabel('Conditional Response Probability')\n",
    "# # sem_crp\n",
    "# plt.savefig('scalp_sem_crp.pdf')"
   ]
  },
  {
   "cell_type": "raw",
   "id": "d48f5616-d18e-4aee-8c95-14003144079f",
   "metadata": {},
   "source": [
    "def spatial_CRP(dataframe, bins):\n",
    "    #bins is a list of the bin labels that you want, the length of the list and names of these bins will be used in the function\n",
    "    from scipy.spatial import distance_matrix\n",
    "    return_df = pd.DataFrame(columns = ['subject', 'bins', 'actual_count', 'possible_count', 'probability'])\n",
    "    df_list = []\n",
    "    for i in dataframe.subject.unique():\n",
    "        subject_df = dataframe.query('subject == @i')\n",
    "        return_df.bins = bins\n",
    "        return_df.subject = i\n",
    "        return_df.actual_count = 0\n",
    "        return_df.possible_count = 0     \n",
    "        sim_mat = pd.read_csv('similarity_matrix.csv', index_col = 0)\n",
    "        full_sims = []\n",
    "        for j in list(range(sim_mat.shape[0])):\n",
    "            for k in sim_mat.iloc[j].tolist():\n",
    "                full_sims.append(k)\n",
    "        similarities = pd.Series(full_sims).value_counts()\n",
    "        similarities = similarities[similarities < 5]\n",
    "        sims = (similarities[similarities != 3] / 2).reset_index()\n",
    "        sims = sims.rename(columns={0:'amt'})\n",
    "        part_sims = []\n",
    "        for row in sims.iterrows():\n",
    "            a,b = row\n",
    "            for i in range(int(b['amt'])):\n",
    "                part_distances.append(b['index'])\n",
    "        full_sims = pd.DataFrame(part_sims, columns = ['dist']).query('dist != 0').reset_index()\n",
    "        \n",
    "        bin_series, bin_nos = pd.qcut(full_sims.dist, q = len(bins), retbins = True)\n",
    "        bin_nos = bin_nos[1:]\n",
    "        \n",
    "        deliveries = subject_df[subject_df.type=='WORD']\n",
    "        recword = subject_df[subject_df.type=='REC_WORD'].reset_index().drop(columns='index')\n",
    "        recword['pos'] = recword.groupby(['subject', 'session', 'list']).cumcount()\n",
    "        recword['repetition'] = 0\n",
    "        recalled_stores = []\n",
    "        for l, row in recword.iterrows():\n",
    "            dd, sess, transition_store = row[['list', 'session', 'store']]\n",
    "            # new list, skip first recall and initialize\n",
    "            if (row['pos']==0):\n",
    "                recalled_stores = []\n",
    "                # print(\"reset\")\n",
    "                if row['intrusion']==0:\n",
    "                    recalled_stores.append(transition_store)\n",
    "                    #print(\"transition:\", transition_store)\n",
    "                # list of stores with deliveries in current list\n",
    "                store_list = deliveries[(deliveries.trial==dd)&(deliveries.session==sess)].store.unique()\n",
    "                continue\n",
    "            # skip intrusions\n",
    "            if (row['intrusion']!=0)|(transition_store not in store_list):\n",
    "                continue\n",
    "            # skip repeats\n",
    "            if transition_store in recalled_stores:\n",
    "                recword.loc[l, 'repetition'] = 1\n",
    "                continue\n",
    "            # skip transition following intrusion or repeat but record recall\n",
    "            if (recword.loc[l-1, 'intrusion']!=0)|(recword.loc[l-1, 'repetition']!=0):\n",
    "                recalled_stores.append(transition_store)\n",
    "                # print(\"transition:\", transition_store)\n",
    "                continue\n",
    "            store_idx = stores.index.get_loc(recalled_stores[-1])\n",
    "            stores['dist'] = dist_mat[store_idx]\n",
    "            # only use stores with deliveries in current list\n",
    "            # drop recalled stores (no repetitions)\n",
    "            available = stores.loc[store_list].drop(index=recalled_stores)['dist']\n",
    "            available = pd.DataFrame(available).reset_index()\n",
    "            bin_df = pd.DataFrame({'bin_nos': bin_nos, 'labels' : bins})\n",
    "            available['bins'] = ''\n",
    "            for m in list(range(available.shape[0])):\n",
    "                for n in list(range(bin_df.shape[0])):\n",
    "                    if available.dist.iloc[m] <= bin_df.bin_nos.iloc[n]:\n",
    "                        available.bins.iloc[m] = bin_df.labels.iloc[n]\n",
    "                        break\n",
    "            for o in bins:\n",
    "                if o not in available.bins.value_counts():\n",
    "                    continue\n",
    "                return_df.loc[return_df.bins == o, 'possible_count'] += 1\n",
    "            recalled_stores.append(transition_store)\n",
    "            transition_bin = available.bins.loc[available.store == transition_store].values[0]\n",
    "            return_df.loc[return_df.bins == transition_bin, 'actual_count'] += 1\n",
    "        return_df.probability = return_df.actual_count/return_df.possible_count\n",
    "        df_list.append(return_df.copy()) #add a copy of the return_df to the list\n",
    "        \n",
    "        #All of these lines clear the data from a subject before populating these same dataframes with the next subject's\n",
    "        #data. That is why we add a copy of return_df above instead of the actual thing\n",
    "        subject_df = subject_df.iloc[0:0]\n",
    "        return_df = pd.DataFrame(columns = return_df.columns)\n",
    "\n",
    "    final_return = pd.concat(df_list)   \n",
    "    return final_return"
   ]
  },
  {
   "cell_type": "code",
   "execution_count": null,
   "id": "e1f30168-aaa1-4724-b6df-f56b32159a83",
   "metadata": {},
   "outputs": [],
   "source": []
  }
 ],
 "metadata": {
  "kernelspec": {
   "display_name": "bub",
   "language": "python",
   "name": "bub"
  },
  "language_info": {
   "codemirror_mode": {
    "name": "ipython",
    "version": 3
   },
   "file_extension": ".py",
   "mimetype": "text/x-python",
   "name": "python",
   "nbconvert_exporter": "python",
   "pygments_lexer": "ipython3",
   "version": "3.7.3"
  }
 },
 "nbformat": 4,
 "nbformat_minor": 5
}
