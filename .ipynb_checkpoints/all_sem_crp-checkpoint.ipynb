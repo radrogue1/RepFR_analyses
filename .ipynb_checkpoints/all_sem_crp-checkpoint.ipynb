{
 "cells": [
  {
   "cell_type": "code",
   "execution_count": 1,
   "id": "44904181-c119-402c-8927-909cfd16595d",
   "metadata": {},
   "outputs": [],
   "source": [
    "import cmlreaders as cml\n",
    "import matplotlib.pyplot as plt\n",
    "import seaborn as sns\n",
    "import numpy as np\n",
    "import pandas as pd\n",
    "import warnings; warnings.simplefilter('ignore')\n",
    "pd.options.display.max_columns=None\n",
    "pd.options.display.max_rows=100\n",
    "from IPython.display import display, Markdown, HTML\n",
    "import pandas_to_pybeh as pb\n",
    "from tqdm import tqdm_notebook as lol\n",
    "import time\n",
    "import scipy\n",
    "import rep_pybeh as rpb\n",
    "from plotting import *\n",
    "error_bars ={'elinewidth':3, 'capsize':5, 'capthick':3}\n",
    "data_set = 'hospital'"
   ]
  },
  {
   "cell_type": "code",
   "execution_count": 2,
   "id": "5604f595-e9d4-4158-a3b1-950c67c0ebe6",
   "metadata": {},
   "outputs": [],
   "source": [
    "scalp = pd.read_csv('scalp_sem_crp.csv', index_col = 0)\n",
    "hosp = pd.read_csv('hospital_sem_crp.csv', index_col = 0)\n",
    "mturk = pd.read_csv('mturk_sem_crp.csv', index_col = 0)\n"
   ]
  },
  {
   "cell_type": "code",
   "execution_count": 13,
   "id": "ead0c1b1-91e1-4c1b-aea2-448a50dd578f",
   "metadata": {},
   "outputs": [],
   "source": [
    "def plot_sem_crp(alls_crp, data_set, marker, color):\n",
    "    alls_crp['avg_sem_bin_mean'] = alls_crp.groupby('sem_bin')['sem_bin_mean'].transform('mean')\n",
    "    g = sns.lineplot(data=alls_crp, x='avg_sem_bin_mean', y='prob', linewidth = 3,\n",
    "                     color = color, err_style = 'bars', err_kws=error_bars, zorder=0)\n",
    "    g = sns.scatterplot(data=alls_crp.groupby('avg_sem_bin_mean').mean().reset_index(), x='avg_sem_bin_mean', y='prob',\n",
    "                     color = color, s= 50, label = data_set, edgecolor=\"black\", zorder=10, marker= marker)\n",
    "    plt.ylabel('Conditional Reponse \\nProbability', fontsize = 30)\n",
    "    plt.xlabel('Average Semantic Bin Mean')"
   ]
  },
  {
   "cell_type": "code",
   "execution_count": null,
   "id": "c2c62e0a-e2f0-42a1-a159-87b1e44343c0",
   "metadata": {},
   "outputs": [],
   "source": [
    "set_axes(ylim=[0, 0.5], xlim = [-0.05, 0.4], xticks=np.arange(0, 0.41, 0.1), fontsize = 30)\n",
    "\n",
    "plot_sem_crp(scalp, 'Scalp', 'o', 'C0')\n",
    "plot_sem_crp(hosp, 'Hospital', '^', 'C1')\n",
    "plot_sem_crp(mturk, 'MTurk', 's', 'C2')\n",
    "plt.savefig('all_studies_sem_crp.pdf', bbox_inches= 'tight')"
   ]
  },
  {
   "cell_type": "code",
   "execution_count": null,
   "id": "566f1d7b-cd71-49db-9e9e-9bf0bd152933",
   "metadata": {},
   "outputs": [],
   "source": []
  }
 ],
 "metadata": {
  "kernelspec": {
   "display_name": "bub",
   "language": "python",
   "name": "bub"
  },
  "language_info": {
   "codemirror_mode": {
    "name": "ipython",
    "version": 3
   },
   "file_extension": ".py",
   "mimetype": "text/x-python",
   "name": "python",
   "nbconvert_exporter": "python",
   "pygments_lexer": "ipython3",
   "version": "3.7.3"
  }
 },
 "nbformat": 4,
 "nbformat_minor": 5
}
