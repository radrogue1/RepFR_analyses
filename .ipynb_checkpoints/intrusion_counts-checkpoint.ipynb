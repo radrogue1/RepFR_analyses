{
 "cells": [
  {
   "cell_type": "code",
   "execution_count": 1,
   "id": "86219249-39a3-475a-a876-686f1b03f86a",
   "metadata": {},
   "outputs": [],
   "source": [
    "import cmlreaders as cml\n",
    "import matplotlib.pyplot as plt\n",
    "import seaborn as sns\n",
    "import numpy as np\n",
    "import pandas as pd\n",
    "import warnings; warnings.simplefilter('ignore')\n",
    "pd.options.display.max_columns=None\n",
    "pd.options.display.max_rows=100\n",
    "from IPython.display import display, Markdown, HTML\n",
    "import pandas_to_pybeh as pb\n",
    "from tqdm import tqdm_notebook as lol\n",
    "import time\n",
    "import scipy\n",
    "import rep_pybeh as rpb\n",
    "from plotting import *\n",
    "\n",
    "error_bars ={'elinewidth':3, 'capsize':5, 'capthick':3}\n",
    "from IPython.core.interactiveshell import InteractiveShell\n",
    "InteractiveShell.ast_node_interactivity = \"all\"\n",
    "\n",
    "data_set = 'scalp'"
   ]
  },
  {
   "cell_type": "code",
   "execution_count": 2,
   "id": "2257405c-29dc-4be7-aec8-0cf1feef4ed9",
   "metadata": {},
   "outputs": [],
   "source": [
    "if data_set == 'hospital':\n",
    "    evs = []\n",
    "    data = cml.get_data_index(kind = 'r1'); data = data[data['experiment'] == 'RepFR1']\n",
    "    for subject, df in data.groupby('subject'):\n",
    "        for session in pd.unique(df['session']):\n",
    "            r = cml.CMLReader(subject=subject, experiment='RepFR1', session=session)\n",
    "            temp = r.load('task_events')\n",
    "            evs.append(temp)\n",
    "    evs = pd.concat(evs)\n",
    "    evs = evs[evs.list != 0]\n",
    "    subs = evs.subject.unique()\n",
    "    print(subs)"
   ]
  },
  {
   "cell_type": "code",
   "execution_count": 3,
   "id": "e27e5645-da86-4a85-957a-29c9e27d013b",
   "metadata": {},
   "outputs": [],
   "source": [
    "if data_set == 'scalp':\n",
    "    evs = []\n",
    "    data = cml.get_data_index(kind = 'ltp'); data = data[data['experiment'] == 'ltpRepFR']\n",
    "    for subject, df in data.groupby('subject'):\n",
    "        for session in pd.unique(df['session']):\n",
    "            r = cml.CMLReader(subject=subject, experiment='ltpRepFR', session=session)\n",
    "            temp = r.load('all_events')\n",
    "            evs.append(temp)\n",
    "    evs = pd.concat(evs)\n",
    "    evs = evs[evs.list != 0]\n",
    "    evs = evs[evs.list!=26]\n"
   ]
  },
  {
   "cell_type": "code",
   "execution_count": 4,
   "id": "75529421-f99a-442e-bed2-f781b184491c",
   "metadata": {},
   "outputs": [
    {
     "name": "stdout",
     "output_type": "stream",
     "text": [
      "n = 7 with 68 sessions\n"
     ]
    }
   ],
   "source": [
    "\n",
    "word_evs = evs[evs.type=='WORD']\n",
    "word_evs = word_evs.loc[word_evs.repeats != -999]\n",
    "rec_evs = evs[evs.type=='REC_WORD']\n",
    "\n",
    "count = 0\n",
    "for i, df in evs.groupby('subject'):\n",
    "    count += len(df.session.unique())\n",
    "print('n = ' + str(len(evs.subject.unique()))+ ' with ' + str(count) + ' sessions' )\n"
   ]
  },
  {
   "cell_type": "code",
   "execution_count": 5,
   "id": "6cd50cde-d1cb-4cf6-81e5-c9604778f1af",
   "metadata": {},
   "outputs": [],
   "source": [
    "rec_evs['PLI'] = (rec_evs.intrusion>0).astype(int)\n",
    "rec_evs['ELI'] = (rec_evs.intrusion<0).astype(int)\n",
    "pli_per_list = rec_evs.groupby(['subject', 'session', 'list'])['PLI', 'ELI'].sum().groupby(['subject', 'session']).mean().groupby('subject').mean()\n"
   ]
  },
  {
   "cell_type": "code",
   "execution_count": 6,
   "id": "71c82ebe-10f9-429a-8263-93f7bbb00000",
   "metadata": {},
   "outputs": [
    {
     "data": {
      "text/plain": [
       "(<Figure size 504x504 with 1 Axes>,\n",
       " <matplotlib.axes._subplots.AxesSubplot at 0x2ba38aab9550>)"
      ]
     },
     "execution_count": 6,
     "metadata": {},
     "output_type": "execute_result"
    },
    {
     "data": {
      "image/png": "[encoded data removed]",
      "text/plain": [
       "<Figure size 504x504 with 1 Axes>"
      ]
     },
     "metadata": {
      "needs_background": "light"
     },
     "output_type": "display_data"
    }
   ],
   "source": [
    "set_axes(fontsize = 30, ylim = [0,1])\n",
    "g = sns.barplot(data = pli_per_list, ci = 95, zorder= 0, capsize=0.075, linestyle = \"-\",\n",
    "                linewidth = 2, **dict(edgecolor=\"black\", fill = False))\n",
    "\n",
    "_ = plt.ylabel('Intrusion Count Per List')\n",
    "plt.savefig(data_set + '_figs/intrusion_count.pdf', bbox_inches = 'tight')"
   ]
  },
  {
   "cell_type": "code",
   "execution_count": null,
   "id": "e99737ee-786f-4360-b45d-9e29d742433f",
   "metadata": {},
   "outputs": [],
   "source": []
  }
 ],
 "metadata": {
  "kernelspec": {
   "display_name": "bub",
   "language": "python",
   "name": "bub"
  },
  "language_info": {
   "codemirror_mode": {
    "name": "ipython",
    "version": 3
   },
   "file_extension": ".py",
   "mimetype": "text/x-python",
   "name": "python",
   "nbconvert_exporter": "python",
   "pygments_lexer": "ipython3",
   "version": "3.7.3"
  }
 },
 "nbformat": 4,
 "nbformat_minor": 5
}
