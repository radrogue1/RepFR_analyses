{
 "cells": [
  {
   "cell_type": "code",
   "execution_count": 1,
   "id": "eeb40379-f4c0-49d0-b430-466130816c6b",
   "metadata": {},
   "outputs": [],
   "source": [
    "import cmlreaders as cml\n",
    "import matplotlib.pyplot as plt\n",
    "import seaborn as sns\n",
    "import numpy as np\n",
    "import pandas as pd\n",
    "import warnings; warnings.simplefilter('ignore')\n",
    "pd.options.display.max_columns=None\n",
    "pd.options.display.max_rows=100\n",
    "from IPython.display import display, Markdown, HTML\n",
    "import pandas_to_pybeh as pb\n",
    "from tqdm import tqdm_notebook as lol\n",
    "import time\n",
    "import repfr_crps as rcrp"
   ]
  },
  {
   "cell_type": "code",
   "execution_count": 2,
   "id": "7cdae8a8-6daf-432c-b1ff-87998e91070b",
   "metadata": {},
   "outputs": [
    {
     "data": {
      "text/plain": [
       "array(['R1204T', 'R1501J', 'R1514E', 'R1516E', 'R1528E', 'R1531T',\n",
       "       'R1534D', 'R1547D', 'R1556J', 'R1564J', 'R1566D', 'R1568E',\n",
       "       'R1579T', 'R1582E', 'R1584J', 'R1586T', 'R1587J', 'R1589T',\n",
       "       'R1590T', 'R1594E', 'R1596T'], dtype=object)"
      ]
     },
     "execution_count": 2,
     "metadata": {},
     "output_type": "execute_result"
    }
   ],
   "source": [
    "evs = []\n",
    "data = cml.get_data_index(kind = 'r1'); data = data[data['experiment'] == 'RepFR1']\n",
    "for subject, df in data.groupby('subject'):\n",
    "    for session in pd.unique(df['session']):\n",
    "        r = cml.CMLReader(subject=subject, experiment='RepFR1', session=session)\n",
    "        temp = r.load('task_events')\n",
    "        evs.append(temp)\n",
    "evs = pd.concat(evs)\n",
    "evs = evs[evs.list != 0]\n",
    "evs.subject.unique()"
   ]
  },
  {
   "cell_type": "code",
   "execution_count": 132,
   "id": "948d2dcf-2e04-41f4-9778-8b203bc16109",
   "metadata": {},
   "outputs": [],
   "source": [
    "evs = []\n",
    "data = cml.get_data_index(kind = 'ltp'); data = data[data['experiment'] == 'ltpRepFR']\n",
    "for subject, df in data.groupby('subject'):\n",
    "    for session in pd.unique(df['session']):\n",
    "        r = cml.CMLReader(subject=subject, experiment='ltpRepFR', session=session)\n",
    "        temp = r.load('all_events')\n",
    "        evs.append(temp)\n",
    "evs = pd.concat(evs)\n",
    "evs = evs[evs.list != 0]"
   ]
  },
  {
   "cell_type": "code",
   "execution_count": 3,
   "id": "47c9da54-6c1b-469a-b3e6-8431237fe213",
   "metadata": {},
   "outputs": [],
   "source": [
    "word_evs = evs[evs.type=='WORD']\n",
    "word_evs = word_evs.loc[word_evs.repeats != -999]\n",
    "rec_evs = evs[evs.type=='REC_WORD']"
   ]
  },
  {
   "cell_type": "code",
   "execution_count": 4,
   "id": "ae718ff7-fda3-4220-b920-3a1e828e3972",
   "metadata": {},
   "outputs": [],
   "source": [
    "def abs_min_split(items):\n",
    "    mini = []\n",
    "    mini.append(items[0])\n",
    "    for item in items[1:]:\n",
    "        if abs(item) < abs(mini[0]):\n",
    "            mini = []\n",
    "            mini.append(item)\n",
    "        elif abs(item) == abs(mini[0]):\n",
    "            mini.append(item)\n",
    "    mini = set(mini)\n",
    "    mini = list(mini)\n",
    "    return mini\n",
    "\n",
    "def abs_min_pos(items):\n",
    "    mini = []\n",
    "    mini.append(items.pop(0))\n",
    "    for item in items:\n",
    "        if abs(item) < abs(mini[0]):\n",
    "            mini = []\n",
    "            mini.append(item)\n",
    "        elif abs(item) == abs(mini[0]):\n",
    "            mini.append(item)\n",
    "    if len(mini) > 1:\n",
    "        mini = [abs(mini[0])]\n",
    "    return mini"
   ]
  },
  {
   "cell_type": "code",
   "execution_count": 5,
   "id": "e5f6e458-e4eb-4efa-8123-043f76ce49fa",
   "metadata": {},
   "outputs": [],
   "source": [
    "def min_pos_lags(df):\n",
    "    items = df['pos_lags'].to_list()\n",
    "    mini = []\n",
    "    mini.append(items.pop(0))\n",
    "    for item in items:\n",
    "        if abs(item) < abs(mini[0]):\n",
    "            mini = []\n",
    "            mini.append(item)\n",
    "        elif abs(item) == abs(mini[0]):\n",
    "            mini.append(item)\n",
    "    if len(mini) > 1:\n",
    "        mini = [abs(mini[0])]\n",
    "    mini = mini[0]\n",
    "    return mini"
   ]
  },
  {
   "cell_type": "code",
   "execution_count": 6,
   "id": "bd923755-9a2d-4891-a366-12b5c417289f",
   "metadata": {},
   "outputs": [],
   "source": [
    "def min_crp(evs, num_lags, list_length, halfornah ='nah'): \n",
    "    pos_lags = np.zeros((2*list_length-1))\n",
    "    act_lags = np.zeros((2*list_length-1))\n",
    "    for l, df in evs.groupby('list'):\n",
    "        rec_df = df[df.type == 'REC_WORD']\n",
    "        enc_df = df[df.type == 'WORD']\n",
    "        item_num_enc = enc_df.item_num.to_numpy()\n",
    "        item_num_rec = rec_df.item_num.to_numpy()\n",
    "        used_positions = np.zeros(list_length)\n",
    "        serialpos = rec_df.act_serialpos.to_numpy()\n",
    "        \n",
    "        crp = pd.DataFrame(columns=['lag', 'prob'])\n",
    "        crp['lag'] = pd.Series(range(-list_length +1, list_length))\n",
    "        for i in range(len(serialpos)-1):\n",
    "            temp_lags = []\n",
    "            try:\n",
    "                for j, previous in enumerate(serialpos[i]):\n",
    "                    used_positions[previous] +=1\n",
    "                    for k, current in enumerate(serialpos[i+1]):\n",
    "                        if current - previous != 0:\n",
    "                            temp_lags.append(current - previous) \n",
    "    #             MAKE SURE ALL OF THIS IS OUTSIDE OF FOR LOOPS\n",
    "                if halfornah == 'nah':\n",
    "                    lag = abs_min_pos(temp_lags)[0]\n",
    "\n",
    "                    act_lags[lag+list_length-1]+=1\n",
    "    #     Use this for half and half crp\n",
    "                else:\n",
    "                    lags = abs_min_split(temp_lags)\n",
    "                    if len(lags) > 1:           \n",
    "                        for lag in lags:\n",
    "                            act_lags[lag+list_length-1] += 0.5\n",
    "                    else:\n",
    "                        act_lags[lags[0]+list_length-1]+=1\n",
    "                open_pos, = np.where(used_positions==0)\n",
    "                item_num_enc = enc_df.item_num.to_numpy()\n",
    "                item_num_rec = rec_df.item_num.to_numpy()\n",
    "                all_pos_lags = pd.DataFrame(pd.Series(np.arange(-list_length+1, list_length), name = 'pos_lags'))\n",
    "                all_pos_lags.set_index('pos_lags', inplace = True)\n",
    "                all_pos_lags['item_num'] = pd.Series(np.nan, index = all_pos_lags.index)\n",
    "                all_pos_lags.drop(0, 0, inplace = True)\n",
    "                for spos, pres in enumerate(item_num_enc):\n",
    "                    if spos in open_pos:\n",
    "                        all_pos_lag = spos - serialpos[i]\n",
    "                        all_pos_lags.at[all_pos_lag] = pres\n",
    "                all_pos_lags.dropna(inplace=True)\n",
    "                all_pos_lags = all_pos_lags.reset_index().groupby('item_num').apply(lambda x: min_pos_lags(x)) + list_length -1\n",
    "                pos_lags[all_pos_lags] +=1\n",
    "            except Exception as e:\n",
    "                continue\n",
    "    crp['prob'] = np.divide(act_lags, pos_lags)\n",
    "    crp = crp[crp['lag'] >= -num_lags]\n",
    "    crp = crp[crp['lag'] <= num_lags]\n",
    "\n",
    "    return crp"
   ]
  },
  {
   "cell_type": "code",
   "execution_count": 7,
   "id": "0d33e371-0e26-4d55-a8a9-89871b332f08",
   "metadata": {
    "tags": []
   },
   "outputs": [
    {
     "data": {
      "application/vnd.jupyter.widget-view+json": {
       "model_id": "4a70f378be5d4a77be00452e63a58fe1",
       "version_major": 2,
       "version_minor": 0
      },
      "text/plain": [
       "HBox(children=(IntProgress(value=0, max=21), HTML(value='')))"
      ]
     },
     "metadata": {},
     "output_type": "display_data"
    },
    {
     "name": "stdout",
     "output_type": "stream",
     "text": [
      "\n"
     ]
    }
   ],
   "source": [
    "sess_crps = []\n",
    "sub_crps = []\n",
    "min_crps = []\n",
    "num_lags = 8\n",
    "for i, beh in lol(evs.groupby('subject')):\n",
    "    subs_crps = []\n",
    "    for j, df in beh.groupby('session'):\n",
    "        df = rcrp.get_act_spos(df)\n",
    "        sess_crp = rcrp.min_crp(df, num_lags = num_lags, list_length = 27, halfornah = 'yah')\n",
    "        sess_crps.append(sess_crp)\n",
    "    sub_crp = pd.concat(sess_crps)\n",
    "    sub_crp = sub_crp.groupby('lag').mean()\n",
    "    min_crps.append(sub_crp)\n",
    "min_crps = pd.concat(min_crps)\n"
   ]
  },
  {
   "cell_type": "code",
   "execution_count": 8,
   "id": "fb0f3f7e-e1fc-49e5-afea-cb400a9392f2",
   "metadata": {},
   "outputs": [
    {
     "data": {
      "text/plain": [
       "<matplotlib.axes._subplots.AxesSubplot at 0x2ad3998e8b00>"
      ]
     },
     "execution_count": 8,
     "metadata": {},
     "output_type": "execute_result"
    },
    {
     "data": {
      "image/png": "[encoded data removed]",
      "text/plain": [
       "<Figure size 432x288 with 1 Axes>"
      ]
     },
     "metadata": {
      "needs_background": "light"
     },
     "output_type": "display_data"
    }
   ],
   "source": [
    "min_crps.reset_index(inplace=True)\n",
    "sns.lineplot(data = min_crps[min_crps.lag > 0], x = 'lag', y = 'prob')\n",
    "sns.lineplot(data = min_crps[min_crps.lag < 0], x = 'lag', y = 'prob')"
   ]
  },
  {
   "cell_type": "code",
   "execution_count": 57,
   "id": "b0120efb-a525-47c1-a8a7-9c14aa17b589",
   "metadata": {},
   "outputs": [
    {
     "data": {
      "text/plain": [
       "<matplotlib.axes._subplots.AxesSubplot at 0x2b6153f41048>"
      ]
     },
     "execution_count": 57,
     "metadata": {},
     "output_type": "execute_result"
    },
    {
     "data": {
      "image/png": "[encoded data removed]",
      "text/plain": [
       "<Figure size 432x288 with 1 Axes>"
      ]
     },
     "metadata": {
      "needs_background": "light"
     },
     "output_type": "display_data"
    }
   ],
   "source": [
    "min_crps.reset_index(inplace=True)\n",
    "sns.lineplot(data = min_crps[min_crps.lag > 0], x = 'lag', y = 'prob')\n",
    "sns.lineplot(data = min_crps[min_crps.lag < 0], x = 'lag', y = 'prob')"
   ]
  },
  {
   "cell_type": "code",
   "execution_count": null,
   "id": "7c768d78-a68f-4f39-83c9-4e88fb295f41",
   "metadata": {},
   "outputs": [],
   "source": []
  }
 ],
 "metadata": {
  "kernelspec": {
   "display_name": "bub",
   "language": "python",
   "name": "bub"
  },
  "language_info": {
   "codemirror_mode": {
    "name": "ipython",
    "version": 3
   },
   "file_extension": ".py",
   "mimetype": "text/x-python",
   "name": "python",
   "nbconvert_exporter": "python",
   "pygments_lexer": "ipython3",
   "version": "3.7.3"
  }
 },
 "nbformat": 4,
 "nbformat_minor": 5
}
