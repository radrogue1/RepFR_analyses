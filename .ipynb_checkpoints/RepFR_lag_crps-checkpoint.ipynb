{
 "cells": [
  {
   "cell_type": "code",
   "execution_count": 1,
   "id": "4be22134-6bf9-40cc-920d-31787be06e9d",
   "metadata": {},
   "outputs": [],
   "source": [
    "import cmlreaders as cml\n",
    "import matplotlib.pyplot as plt\n",
    "import seaborn as sns\n",
    "import numpy as np\n",
    "import pandas as pd\n",
    "import warnings; warnings.simplefilter('ignore')\n",
    "pd.options.display.max_columns=None\n",
    "pd.options.display.max_rows=100\n",
    "from IPython.display import display, Markdown, HTML\n",
    "import pandas_to_pybeh as pb\n",
    "from tqdm import tqdm_notebook as lol\n",
    "import time\n",
    "import scipy\n",
    "import rep_pybeh as rpb\n",
    "from plotting import *\n",
    "data_set = 'hospital'\n",
    "error_bars ={'elinewidth':1.5, 'capsize':3, 'capthick':1.5}\n",
    "\n"
   ]
  },
  {
   "cell_type": "markdown",
   "id": "60a2b2f1-00a5-452f-a05b-86acd85442be",
   "metadata": {},
   "source": [
    "## Hospital Data Load"
   ]
  },
  {
   "cell_type": "code",
   "execution_count": 2,
   "id": "14eb4b59-82b8-470b-b7a1-c15af2a6e8b0",
   "metadata": {},
   "outputs": [
    {
     "name": "stdout",
     "output_type": "stream",
     "text": [
      "subj R1593D 4 didn't work\n",
      "subj R1593D 5 didn't work\n"
     ]
    }
   ],
   "source": [
    "if data_set == 'hospital':\n",
    "    evs = []\n",
    "    data = cml.get_data_index(kind = 'r1'); data = data[data['experiment'] == 'RepFR1']\n",
    "    for subject, df in data.groupby('subject'):\n",
    "        for session in pd.unique(df['session']):\n",
    "            try:\n",
    "                r = cml.CMLReader(subject=subject, experiment='RepFR1', session=session)\n",
    "                temp = r.load('task_events')\n",
    "                evs.append(temp)\n",
    "            except: print('subj', subject, session, \"didn't work\")\n",
    "    evs = pd.concat(evs)\n",
    "    evs = evs[evs.list != 0]"
   ]
  },
  {
   "cell_type": "markdown",
   "id": "f69d7551-5c7b-43dd-99b9-61bd187ebba5",
   "metadata": {},
   "source": [
    "## Scalp Data Load"
   ]
  },
  {
   "cell_type": "code",
   "execution_count": 3,
   "id": "70b6778d-c653-40ba-b204-1de078ebb74c",
   "metadata": {},
   "outputs": [],
   "source": [
    "if data_set == 'scalp':\n",
    "    evs = []\n",
    "    data = cml.get_data_index(kind = 'ltp'); data = data[data['experiment'] == 'ltpRepFR']\n",
    "    for subject, df in data.groupby('subject'):\n",
    "        for session in pd.unique(df['session']):\n",
    "            r = cml.CMLReader(subject=subject, experiment='ltpRepFR', session=session)\n",
    "            temp = r.load('all_events')\n",
    "            evs.append(temp)\n",
    "    evs = pd.concat(evs)\n",
    "    evs = evs[evs.list != 0]"
   ]
  },
  {
   "cell_type": "code",
   "execution_count": 4,
   "id": "a6f83980-4dd8-4c48-970d-0eccd2f7dd8b",
   "metadata": {},
   "outputs": [
    {
     "data": {
      "application/vnd.jupyter.widget-view+json": {
       "model_id": "a497b7303f714552adc13fecd6fe1ac2",
       "version_major": 2,
       "version_minor": 0
      },
      "text/plain": [
       "HBox(children=(IntProgress(value=0, max=53), HTML(value='')))"
      ]
     },
     "metadata": {},
     "output_type": "display_data"
    },
    {
     "name": "stdout",
     "output_type": "stream",
     "text": [
      "\n"
     ]
    }
   ],
   "source": [
    "sub_crps = []\n",
    "crp = []\n",
    "num_lags = 8\n",
    "for i, beh in lol(evs.groupby('subject')):\n",
    "    sess_crps = []\n",
    "    for j, df in beh.groupby('session'):\n",
    "        df = rpb.get_act_spos(df)\n",
    "        sess_crp = rpb.crp(df, num_lags = num_lags, list_length = 27)\n",
    "        sess_crps.append(sess_crp)\n",
    "    sub_crp = pd.concat(sess_crps).groupby('lag').mean()\n",
    "    crp.append(sub_crp)\n",
    "crp = pd.concat(crp)\n",
    "crp.reset_index(inplace = True)\n"
   ]
  },
  {
   "cell_type": "code",
   "execution_count": 5,
   "id": "788dbf2a-011c-497c-abcd-67caffe95dce",
   "metadata": {},
   "outputs": [
    {
     "data": {
      "image/png": "[encoded data removed]",
      "text/plain": [
       "<Figure size 504x504 with 1 Axes>"
      ]
     },
     "metadata": {
      "needs_background": "light"
     },
     "output_type": "display_data"
    }
   ],
   "source": [
    "set_axes(ylim = [0, 0.5], fontsize = 30, xticks = np.arange(0, 8, 2))\n",
    "\n",
    "\n",
    "\n",
    "sns.pointplot(data = crp , x = 'lag', y = 'prob', capsize = 0.2, color = 'black')\n",
    "# _ = plt.xticks(range(-num_lags, num_lags+1), fontsize = 14)\n",
    "# _ = plt.yticks(fontsize = 14)\n",
    "# # _ = plt.grid()\n",
    "# _ = plt.xlim(-num_lags - 0.5, num_lags + 0.5)\n",
    "\n",
    "# plt.xticks(np.arange(-8, 9, 2))\n",
    "# _ = plt.title('Massed Lag-CRP (Hospital RepFR1)', fontsize = 18)\n",
    "locs, labels = plt.xticks() \n",
    "_=plt.xticks(locs[1::2], labels[1::2])\n",
    "_ = plt.ylabel('Probability')\n",
    "_ = plt.xlabel('Lag')\n",
    "\n",
    "plt.savefig(data_set +'_figs/crp.pdf')"
   ]
  },
  {
   "cell_type": "markdown",
   "id": "0f2c92b1-acb1-4741-b637-e69d19cb5ec5",
   "metadata": {},
   "source": [
    "### Minimum Lag-CRP"
   ]
  },
  {
   "cell_type": "code",
   "execution_count": null,
   "id": "aff3c24a-4d9f-43f4-a043-f7c4af30265b",
   "metadata": {
    "tags": []
   },
   "outputs": [
    {
     "data": {
      "application/vnd.jupyter.widget-view+json": {
       "model_id": "92f3ba7c886b4ac0ba97a2e9f5d294cd",
       "version_major": 2,
       "version_minor": 0
      },
      "text/plain": [
       "HBox(children=(IntProgress(value=0, max=53), HTML(value='')))"
      ]
     },
     "metadata": {},
     "output_type": "display_data"
    }
   ],
   "source": [
    "sub_crps = []\n",
    "min_crps = []\n",
    "num_lags = 8\n",
    "for i, beh in lol(evs.groupby('subject')):\n",
    "    sess_crps = []\n",
    "    for j, df in beh.groupby('session'):\n",
    "        df = rpb.get_act_spos(df)\n",
    "        sess_crp = rpb.min_crp(df, num_lags = num_lags, list_length = 27, halfornah = 'nah')\n",
    "        sess_crps.append(sess_crp)\n",
    "    sub_crp = pd.concat(sess_crps).groupby('lag').mean()\n",
    "    min_crps.append(sub_crp)\n",
    "min_crps = pd.concat(min_crps)\n",
    "min_crps.reset_index(inplace = True)\n",
    "min_crps.to_csv(data_set+'_min_crp.csv')"
   ]
  },
  {
   "cell_type": "code",
   "execution_count": null,
   "id": "305d8c1b-7bbf-4bce-a533-e9ac25b9ed50",
   "metadata": {},
   "outputs": [],
   "source": [
    "set_axes(ylim = [0, 0.5], fontsize = 30, xticks = np.arange(0, 8, 2))\n",
    "sns.pointplot(data = min_crps , x = 'lag', y = 'prob', capsize = 0.2, color = 'black')\n",
    "_ = plt.ylabel('Conditional Reponse \\nProbability', fontsize = 30)\n",
    "_ = plt.xlabel('Lag')\n",
    "locs, labels = plt.xticks() \n",
    "_=plt.xticks(locs[1::2], labels[1::2])\n",
    "plt.savefig(data_set +'_figs/min_crp.pdf', bbox_inches='tight')\n"
   ]
  },
  {
   "cell_type": "code",
   "execution_count": null,
   "id": "2ed8698a-591b-48da-9d94-9753ee5d4083",
   "metadata": {
    "tags": []
   },
   "outputs": [],
   "source": [
    "sub_crps = []\n",
    "min_crps = []\n",
    "num_lags = 8\n",
    "for i, beh in lol(evs.groupby('subject')):\n",
    "    sess_crps = []\n",
    "    for j, df in beh.groupby('session'):\n",
    "        df = rpb.get_act_spos(df)\n",
    "        sess_crp = rpb.min_crp(df, num_lags = num_lags, list_length = 27, halfornah = 'yah')\n",
    "        sess_crps.append(sess_crp)\n",
    "    sub_crp = pd.concat(sess_crps).groupby('lag').mean()\n",
    "    min_crps.append(sub_crp)\n",
    "min_crps = pd.concat(min_crps)\n",
    "min_crps.reset_index(inplace = True)"
   ]
  },
  {
   "cell_type": "code",
   "execution_count": null,
   "id": "67171581-45e7-4dd5-982f-372dda12bf74",
   "metadata": {},
   "outputs": [],
   "source": [
    "fig, ax = plt.subplots(figsize=(7, 7))\n",
    "error_bars ={'elinewidth':2, 'capsize':3, 'capthick':2}\n",
    "right_side = ax.spines[\"right\"]\n",
    "right_side.set_visible(False)\n",
    "top_side = ax.spines[\"top\"]\n",
    "top_side.set_visible(False)\n",
    "\n",
    "\n",
    "g = sns.lineplot(data = min_crps[min_crps.lag > 0], x = 'lag', y = 'prob', err_style = 'bars', ci = 95, marker = 'o', color = 'black', err_kws=error_bars)\n",
    "g = sns.lineplot(data = min_crps[min_crps.lag < 0], x = 'lag', y = 'prob', err_style = 'bars', ci = 95, marker = 'o', color = 'black', err_kws=error_bars)\n",
    "_ = plt.xticks(range(-num_lags, num_lags+1), fontsize = 14)\n",
    "_ = plt.yticks(fontsize = 14)\n",
    "# _ = plt.grid()\n",
    "_ = plt.xlim(-num_lags - 0.5, num_lags + 0.5)\n",
    "\n",
    "# _ = plt.title('Massed Lag-CRP (Hospital RepFR1)', fontsize = 18)\n",
    "_ = plt.ylabel('Conditional Response Probability', fontsize = 14)\n",
    "_ = plt.xlabel('Lag', fontsize = 14)\n",
    "_ = plt.ylim([0, 0.5])\n",
    "plt.savefig(data_set +'_half_min_crp.pdf')"
   ]
  },
  {
   "cell_type": "code",
   "execution_count": null,
   "id": "d0b11333-098a-47e2-96b2-e3f5cdf95f27",
   "metadata": {},
   "outputs": [],
   "source": []
  }
 ],
 "metadata": {
  "kernelspec": {
   "display_name": "environmentname",
   "language": "python",
   "name": "environmentname"
  },
  "language_info": {
   "codemirror_mode": {
    "name": "ipython",
    "version": 3
   },
   "file_extension": ".py",
   "mimetype": "text/x-python",
   "name": "python",
   "nbconvert_exporter": "python",
   "pygments_lexer": "ipython3",
   "version": "3.7.9"
  }
 },
 "nbformat": 4,
 "nbformat_minor": 5
}
