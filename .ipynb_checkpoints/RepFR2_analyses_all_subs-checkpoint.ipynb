{
 "cells": [
  {
   "cell_type": "code",
   "execution_count": 96,
   "id": "f6aab408-5c44-4c1c-bf04-f77584cabbe4",
   "metadata": {},
   "outputs": [],
   "source": [
    "import cmlreaders as cml\n",
    "import matplotlib.pyplot as plt\n",
    "import seaborn as sns\n",
    "import numpy as np\n",
    "import pandas as pd\n",
    "import warnings; warnings.simplefilter('ignore')\n",
    "pd.options.display.max_columns=None\n",
    "pd.options.display.max_rows=100\n",
    "from IPython.display import display, Markdown, HTML\n",
    "import pandas_to_pybeh as pb\n",
    "from tqdm import tqdm_notebook as lol\n",
    "import time\n",
    "\n",
    "data_set = 0"
   ]
  },
  {
   "cell_type": "markdown",
   "id": "4d7b31f5-4329-4dd3-b908-3b2018768491",
   "metadata": {},
   "source": [
    "## Hospital Data Load"
   ]
  },
  {
   "cell_type": "code",
   "execution_count": 97,
   "id": "781684e4-6fe0-4577-a2ff-63fc3bbf393d",
   "metadata": {},
   "outputs": [],
   "source": [
    "if data_set == 0:\n",
    "    evs = []\n",
    "    data = cml.get_data_index(kind = 'r1'); data = data[data['experiment'] == 'RepFR1']\n",
    "    for subject, df in data.groupby('subject'):\n",
    "        for session in pd.unique(df['session']):\n",
    "            r = cml.CMLReader(subject=subject, experiment='RepFR1', session=session)\n",
    "            temp = r.load('task_events')\n",
    "            evs.append(temp)\n",
    "    evs = pd.concat(evs)\n",
    "    evs = evs[evs.list != 0]"
   ]
  }
 ],
 "metadata": {
  "kernelspec": {
   "display_name": "environmentname",
   "language": "python",
   "name": "environmentname"
  },
  "language_info": {
   "codemirror_mode": {
    "name": "ipython",
    "version": 3
   },
   "file_extension": ".py",
   "mimetype": "text/x-python",
   "name": "python",
   "nbconvert_exporter": "python",
   "pygments_lexer": "ipython3",
   "version": "3.7.9"
  }
 },
 "nbformat": 4,
 "nbformat_minor": 5
}
