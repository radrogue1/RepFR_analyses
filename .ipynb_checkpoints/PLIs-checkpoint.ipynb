{
 "cells": [
  {
   "cell_type": "code",
   "execution_count": 1,
   "id": "86219249-39a3-475a-a876-686f1b03f86a",
   "metadata": {},
   "outputs": [],
   "source": [
    "import cmlreaders as cml\n",
    "import matplotlib.pyplot as plt\n",
    "import seaborn as sns\n",
    "import numpy as np\n",
    "import pandas as pd\n",
    "import warnings; warnings.simplefilter('ignore')\n",
    "pd.options.display.max_columns=None\n",
    "pd.options.display.max_rows=100\n",
    "from IPython.display import display, Markdown, HTML\n",
    "import pandas_to_pybeh as pb\n",
    "from tqdm import tqdm_notebook as lol\n",
    "import time\n",
    "import scipy\n",
    "import rep_pybeh as rpb\n",
    "from plotting import *\n",
    "data_set = 'scalp'\n",
    "error_bars ={'elinewidth':1.5, 'capsize':3, 'capthick':1.5}\n",
    "from IPython.core.interactiveshell import InteractiveShell\n",
    "InteractiveShell.ast_node_interactivity = \"all\""
   ]
  },
  {
   "cell_type": "code",
   "execution_count": 2,
   "id": "e27e5645-da86-4a85-957a-29c9e27d013b",
   "metadata": {},
   "outputs": [],
   "source": [
    "if data_set == 'scalp':\n",
    "    evs = []\n",
    "    data = cml.get_data_index(kind = 'ltp'); data = data[data['experiment'] == 'ltpRepFR']\n",
    "    for subject, df in data.groupby('subject'):\n",
    "        for session in pd.unique(df['session']):\n",
    "            r = cml.CMLReader(subject=subject, experiment='ltpRepFR', session=session)\n",
    "            temp = r.load('all_events')\n",
    "            evs.append(temp)\n",
    "    evs = pd.concat(evs)\n",
    "    evs = evs[evs.list != 0]\n"
   ]
  },
  {
   "cell_type": "code",
   "execution_count": 3,
   "id": "75529421-f99a-442e-bed2-f781b184491c",
   "metadata": {},
   "outputs": [
    {
     "name": "stdout",
     "output_type": "stream",
     "text": [
      "n = 7 with 68 sessions\n"
     ]
    }
   ],
   "source": [
    "\n",
    "word_evs = evs[evs.type=='WORD']\n",
    "word_evs = word_evs.loc[word_evs.repeats != -999]\n",
    "rec_evs = evs[evs.type=='REC_WORD']\n",
    "\n",
    "count = 0\n",
    "for i, df in evs.groupby('subject'):\n",
    "    count += len(df.session.unique())\n",
    "print('n = ' + str(len(evs.subject.unique()))+ ' with ' + str(count) + ' sessions' )\n"
   ]
  },
  {
   "cell_type": "code",
   "execution_count": null,
   "id": "7426da8d-244c-47a3-9578-4ec05f2b05f3",
   "metadata": {},
   "outputs": [],
   "source": [
    "rec_evs['PLI'] = (rec_evs.intrusion>0).astype(int)\n",
    "rec_evs['ELI'] = (rec_evs.intrusion<0).astype(int)\n",
    "\n",
    "pli = rec_evs[rec_evs.PLI == 1]\n",
    "pli=pli[pli['list'] != 26]\n",
    "pli=pli[pli['list'] > 4]\n",
    "\n",
    "list_pli = pli.groupby(['subject', 'session', 'intrusion']).PLI.sum()\n",
    "list_pli = list_pli.unstack(fill_value=0).stack(dropna=False).to_frame(name='PLI')\n",
    "list_pli['prop'] = list_pli.PLI #/ list_pli.reset_index().groupby(['subject', 'session']).PLI.sum()\n",
    "# list_pli = list_pli.groupby(['subject', 'intrusion']).sum()\n",
    "list_pli = list_pli.groupby('intrusion').PLI.sum().reset_index()\n",
    "\n",
    "# list_pli.reset_index().groupby(['subject', 'session']).sum()"
   ]
  },
  {
   "cell_type": "code",
   "execution_count": 32,
   "id": "be2fd280-91d0-4bd1-a5ac-530d64d9c6cb",
   "metadata": {
    "tags": []
   },
   "outputs": [],
   "source": [
    "# list_pli\n",
    "\n",
    "# pli_curve = list_pli[list_pli.intrusion < 4]\n",
    "# sub_mean = pli_curve.groupby(['subject', 'intrusion']).prop.mean().groupby('subject').mean()\n",
    "# grand_mean = sub_mean.mean()\n",
    "# adj = (sub_mean - grand_mean)\n",
    "# sub_adj = (pli_curve.groupby(['subject', 'intrusion']).prop.mean() - (adj)).reset_index()\n",
    "# sub_adj.groupby('intrusion').mean()\n",
    "# pli_curve.groupby(['subject', 'intrusion']).prop.mean().groupby('intrusion').mean()\n",
    "# # Loftus-Masson Correction\n"
   ]
  },
  {
   "cell_type": "code",
   "execution_count": 33,
   "id": "9e8856e6-50c1-48f2-bb14-e9b54815cc93",
   "metadata": {
    "tags": []
   },
   "outputs": [
    {
     "data": {
      "text/plain": [
       "(<Figure size 504x504 with 1 Axes>,\n",
       " <matplotlib.axes._subplots.AxesSubplot at 0x2ab867373f28>)"
      ]
     },
     "execution_count": 33,
     "metadata": {},
     "output_type": "execute_result"
    },
    {
     "data": {
      "text/plain": [
       "Text(0, 0.5, 'Proportion of Total PLIs')"
      ]
     },
     "execution_count": 33,
     "metadata": {},
     "output_type": "execute_result"
    },
    {
     "data": {
      "text/plain": [
       "Text(0.5, 0, 'Lists Back')"
      ]
     },
     "execution_count": 33,
     "metadata": {},
     "output_type": "execute_result"
    },
    {
     "data": {
      "image/png": "[encoded data removed]",
      "text/plain": [
       "<Figure size 504x504 with 1 Axes>"
      ]
     },
     "metadata": {
      "needs_background": "light"
     },
     "output_type": "display_data"
    }
   ],
   "source": [
    "pli_curve = list_pli[list_pli.intrusion < 5]\n",
    "set_axes(xticks = np.arange(1, 26, 1), fontsize = 30)\n",
    "g = sns.lineplot(data=pli_curve, x = 'intrusion', y = 'PLI')\n",
    "# y = sns.lineplot(data=sub_adj, x = 'intrusion', y = 'prop', color = 'black', ci = 95, err_style = 'bars', err_kws = error_bars)\n",
    "plt.ylabel('Proportion of Total PLIs')\n",
    "plt.xlabel('Lists Back')\n",
    "st_err = square root of Npq \n",
    "Npq = .25*value of y axis\n",
    "# z = sns.lineplot(data=pli_curve, x = 'intrusion', y = 'prop', hue = 'subject', ci = 0)\n",
    "# h = sns.lineplot(data=pli_curve, x = 'intrusion', y = 'prop', color = 'black', ci = 95, err_style = 'bars', err_kws = error_bars)"
   ]
  },
  {
   "cell_type": "code",
   "execution_count": 41,
   "id": "49d1fe81-ea51-46c6-991d-690eb241b2a8",
   "metadata": {
    "jupyter": {
     "source_hidden": true
    },
    "tags": []
   },
   "outputs": [
    {
     "data": {
      "text/plain": [
       "(<Figure size 504x504 with 1 Axes>,\n",
       " <matplotlib.axes._subplots.AxesSubplot at 0x2b2478745400>)"
      ]
     },
     "execution_count": 41,
     "metadata": {},
     "output_type": "execute_result"
    },
    {
     "data": {
      "text/plain": [
       "<matplotlib.axes._subplots.AxesSubplot at 0x2b2478745400>"
      ]
     },
     "execution_count": 41,
     "metadata": {},
     "output_type": "execute_result"
    },
    {
     "data": {
      "text/plain": [
       "Text(0.5, 0, 'List Recency')"
      ]
     },
     "execution_count": 41,
     "metadata": {},
     "output_type": "execute_result"
    },
    {
     "data": {
      "text/plain": [
       "Text(0, 0.5, 'Proportion of Prior List Intrusions')"
      ]
     },
     "execution_count": 41,
     "metadata": {},
     "output_type": "execute_result"
    },
    {
     "data": {
      "image/png": "[encoded data removed]",
      "text/plain": [
       "<Figure size 504x504 with 1 Axes>"
      ]
     },
     "metadata": {
      "needs_background": "light"
     },
     "output_type": "display_data"
    }
   ],
   "source": [
    "#  Loftus-Masson Correction\n",
    "sub_mean = pli_curve.groupby(['subject', 'intrusion']).prop.mean()\n",
    "grand_mean = sub_mean.groupby(['intrusion']).mean()\n",
    "sub_mean = sub_mean.reset_index().set_index('intrusion')\n",
    "sub_mean['grand_mean'] = grand_mean\n",
    "sub_mean['adjustment'] = sub_mean.grand_mean - sub_mean.prop\n",
    "\n",
    "plis = pli_curve.set_index(['subject', 'intrusion', 'session'])\n",
    "sub_mean = sub_mean.reset_index().set_index(['subject', 'intrusion'])\n",
    "\n",
    "plis['adj_prop'] = plis.prop + sub_mean.adjustment\n",
    "plis.reset_index(inplace=True)\n",
    "\n",
    "set_axes(yticks = np.arange(0,1.1,.1), xticks = np.arange(1,4), ylim = [0,1])\n",
    "\n",
    "sns.lineplot(data=plis, x = 'intrusion', y = 'adj_prop', err_style = 'bars', ci = 95, marker = 'o', color = 'black', err_kws=error_bars)\n",
    "\n",
    "plt.xlabel('List Recency')\n",
    "plt.ylabel('Proportion of Prior List Intrusions')\n",
    "plt.savefig(data_set+'_figs/plis.pdf')"
   ]
  },
  {
   "cell_type": "code",
   "execution_count": null,
   "id": "1788fa50-3abf-424f-952e-e755d8ebe9ea",
   "metadata": {},
   "outputs": [],
   "source": []
  },
  {
   "cell_type": "code",
   "execution_count": null,
   "id": "71ed6839-36b5-49d2-87eb-cc77eeff2f96",
   "metadata": {},
   "outputs": [],
   "source": []
  }
 ],
 "metadata": {
  "kernelspec": {
   "display_name": "bub",
   "language": "python",
   "name": "bub"
  },
  "language_info": {
   "codemirror_mode": {
    "name": "ipython",
    "version": 3
   },
   "file_extension": ".py",
   "mimetype": "text/x-python",
   "name": "python",
   "nbconvert_exporter": "python",
   "pygments_lexer": "ipython3",
   "version": "3.7.3"
  }
 },
 "nbformat": 4,
 "nbformat_minor": 5
}
