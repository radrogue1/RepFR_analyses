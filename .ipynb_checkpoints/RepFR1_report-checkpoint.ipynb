{
 "cells": [
  {
   "cell_type": "code",
   "execution_count": null,
   "metadata": {},
   "outputs": [],
   "source": [
    "Instructions\n",
    "1. Change Subject Code in first cell, Select this cell and run \"Run all below selected cell\"\n",
    "2. Allow program to fully run then SAVE THE FILE\n",
    "3. # Run these commands to get HTML File of Report \n",
    "export SUBJECT = subject code\n",
    "jupyter nbconvert --to html --no-input RepFR1_report.ipynb --output $SUBJECT\\_repfr1_report.html\n"
   ]
  },
  {
   "cell_type": "code",
   "execution_count": 2,
   "metadata": {
    "tags": []
   },
   "outputs": [],
   "source": [
    "import cmlreaders as cml\n",
    "import matplotlib.pyplot as plt\n",
    "import seaborn as sns\n",
    "import numpy as np\n",
    "import pandas as pd\n",
    "import warnings; warnings.simplefilter('ignore')\n",
    "pd.options.display.max_columns=None\n",
    "pd.options.display.max_rows=100\n",
    "from IPython.display import display, Markdown, HTML\n",
    "import pandas_to_pybeh as pb\n",
    "import time\n",
    "import rep_pybeh as rpb\n",
    "from tqdm import tqdm_notebook as lol\n",
    "import glob\n",
    "from plotting import *"
   ]
  },
  {
   "cell_type": "code",
   "execution_count": 3,
   "metadata": {},
   "outputs": [],
   "source": [
    "data = cml.get_data_index(kind = 'r1'); data = data[data['experiment'] == 'RepFR1']\n",
    "# print(\"Size of Dataset:\")\n",
    "# print(len(data), 'sessions')\n",
    "# print(len(data['subject'].unique()), 'subjects')\n",
    "# print(data['subject'].unique())\n",
    "# data[['subject', 'session']].groupby('subject').agg('count').rename(columns={'session':'# of sessions'})\n",
    "# data.subject.unique()"
   ]
  },
  {
   "cell_type": "code",
   "execution_count": 20,
   "metadata": {},
   "outputs": [],
   "source": [
    "subject = 'R1590T'\n",
    "# session = 0\n",
    "exp = 'RepFR1'\n",
    "localization = 0\n",
    "montage = 0"
   ]
  },
  {
   "cell_type": "code",
   "execution_count": 21,
   "metadata": {},
   "outputs": [
    {
     "data": {
      "text/markdown": [
       "# R1590T RepFR1 Report"
      ],
      "text/plain": [
       "<IPython.core.display.Markdown object>"
      ]
     },
     "metadata": {},
     "output_type": "display_data"
    }
   ],
   "source": [
    "display(\n",
    "    Markdown(\n",
    "        '# '+ subject + ' RepFR1 Report'\n",
    "    )\n",
    ")"
   ]
  },
  {
   "cell_type": "code",
   "execution_count": 22,
   "metadata": {},
   "outputs": [],
   "source": [
    "evs = pd.DataFrame()\n",
    "data = cml.get_data_index(kind = 'r1'); data = data[data['experiment'] == 'RepFR1']; data = data[data['subject'] == subject]\n",
    "for session in pd.unique(data['session']):\n",
    "    r = cml.CMLReader(subject=subject, experiment='RepFR1', session=session, localization=localization, montage=montage)\n",
    "    temp = r.load('task_events')\n",
    "    evs = evs.append(temp)\n",
    "word_evs = evs[evs.type=='WORD']\n",
    "word_evs = word_evs.loc[word_evs.repeats != -999]\n",
    "rec_evs = evs[evs.type=='REC_WORD']\n"
   ]
  },
  {
   "cell_type": "code",
   "execution_count": 23,
   "metadata": {},
   "outputs": [],
   "source": [
    "import os\n",
    "import json\n",
    "# pd.set_option('display.max_rows', None)\n",
    "log_dir = '/data10/RAM/subjects/' + subject +'/behavioral/' + exp + '/*/session.jsonl'\n",
    "log_dir_list = glob.glob(log_dir)\n",
    "heart_beat = []\n",
    "for log_dir in log_dir_list:\n",
    "    jsonl = []\n",
    "    for i, char in enumerate(log_dir):\n",
    "        if(char == '_'):\n",
    "            sess = (log_dir[i+1])\n",
    "            break\n",
    "\n",
    "    with open(log_dir, 'r') as fr:\n",
    "        lines = fr.readlines()\n",
    "        for line in lines:\n",
    "            try:\n",
    "                jsonl.append(json.loads(line))\n",
    "            except Exception as e:\n",
    "                continue\n",
    "    temp = pd.DataFrame(jsonl)\n",
    "    temp['session'] = pd.Series(int(sess), index = temp.index)\n",
    "    heart_beat.append(temp)\n",
    "\n",
    "heart_beat = pd.concat(heart_beat)\n",
    "heart_beat['message'] = heart_beat.data.apply(lambda x: dict.get(x, 'message'))\n",
    "heart_beat.dropna(inplace=True)\n",
    "heart_beat['type'] = heart_beat.message.apply(lambda x: dict.get(x, 'type'))\n",
    "heart_beat['data'] = heart_beat.message.apply(lambda x: dict.get(x, 'data'))\n",
    "heart_beat = heart_beat[heart_beat.type.isin(['HEARTBEAT', 'HEARTBEAT_OK'])]\n",
    "heart_beat['count'] = heart_beat.data.apply(lambda x: dict.get(x, 'count'))\n",
    "heart_beat = heart_beat[heart_beat['count'] > 20]"
   ]
  },
  {
   "cell_type": "code",
   "execution_count": 24,
   "metadata": {},
   "outputs": [
    {
     "data": {
      "text/html": [
       "<style type=\"text/css\">\n",
       "</style>\n",
       "<table id=\"T_4a953_\">\n",
       "  <thead>\n",
       "    <tr>\n",
       "      <th class=\"col_heading level0 col0\" >Session Code</th>\n",
       "      <th class=\"col_heading level0 col1\" >Date</th>\n",
       "      <th class=\"col_heading level0 col2\" >Length [min]</th>\n",
       "      <th class=\"col_heading level0 col3\" >Lists</th>\n",
       "    </tr>\n",
       "  </thead>\n",
       "  <tbody>\n",
       "    <tr>\n",
       "      <td id=\"T_4a953_row0_col0\" class=\"data row0 col0\" >R1590T:RepFR1:0</td>\n",
       "      <td id=\"T_4a953_row0_col1\" class=\"data row0 col1\" >2021-11-04</td>\n",
       "      <td id=\"T_4a953_row0_col2\" class=\"data row0 col2\" >46.840000</td>\n",
       "      <td id=\"T_4a953_row0_col3\" class=\"data row0 col3\" >21</td>\n",
       "    </tr>\n",
       "    <tr>\n",
       "      <td id=\"T_4a953_row1_col0\" class=\"data row1 col0\" >R1590T:RepFR1:1</td>\n",
       "      <td id=\"T_4a953_row1_col1\" class=\"data row1 col1\" >2021-11-05</td>\n",
       "      <td id=\"T_4a953_row1_col2\" class=\"data row1 col2\" >43.560000</td>\n",
       "      <td id=\"T_4a953_row1_col3\" class=\"data row1 col3\" >21</td>\n",
       "    </tr>\n",
       "    <tr>\n",
       "      <td id=\"T_4a953_row2_col0\" class=\"data row2 col0\" >R1590T:RepFR1:2</td>\n",
       "      <td id=\"T_4a953_row2_col1\" class=\"data row2 col1\" >2021-11-09</td>\n",
       "      <td id=\"T_4a953_row2_col2\" class=\"data row2 col2\" >34.940000</td>\n",
       "      <td id=\"T_4a953_row2_col3\" class=\"data row2 col3\" >21</td>\n",
       "    </tr>\n",
       "    <tr>\n",
       "      <td id=\"T_4a953_row3_col0\" class=\"data row3 col0\" >R1590T:RepFR1:4</td>\n",
       "      <td id=\"T_4a953_row3_col1\" class=\"data row3 col1\" >2021-11-10</td>\n",
       "      <td id=\"T_4a953_row3_col2\" class=\"data row3 col2\" >45.800000</td>\n",
       "      <td id=\"T_4a953_row3_col3\" class=\"data row3 col3\" >21</td>\n",
       "    </tr>\n",
       "  </tbody>\n",
       "</table>\n"
      ],
      "text/plain": [
       "<pandas.io.formats.style.Styler at 0x2b6a5ada7940>"
      ]
     },
     "execution_count": 24,
     "metadata": {},
     "output_type": "execute_result"
    }
   ],
   "source": [
    "sess = evs.loc[evs['list'] != -999]\n",
    "sess = sess.loc[sess['type'] == 'WORD']\n",
    "sessions = sess.groupby('session')['list'].unique()\n",
    "sess_codes = []\n",
    "for sess in sessions.index:\n",
    "    sess_codes.append(subject+':'+exp+':'+str(sess))\n",
    "\n",
    "ddays = []\n",
    "for sess in sessions:\n",
    "    ddays.append(len(sess))\n",
    "\n",
    "timestamp = evs.groupby('session').mstime.first()/1000\n",
    "dates = []\n",
    "for sec in timestamp:\n",
    "    dates.append(time.strftime('%Y-%m-%d', time.localtime(sec)))\n",
    "\n",
    "minutes = round((evs.groupby('session').mstime.last() - evs.groupby('session').mstime.first())/1000/60, 2)\n",
    "minutes = minutes.reset_index()\n",
    "\n",
    "sessions = pd.DataFrame()\n",
    "sessions['Session Code'] = pd.Series(sess_codes)\n",
    "sessions['Date'] = pd.Series(dates)\n",
    "sessions['Length [min]'] =  minutes['mstime']\n",
    "\n",
    "sessions['Lists'] = pd.Series(ddays)\n",
    "total_lists = sessions.Lists.sum()\n",
    "sessions = sessions.style.hide_index()\n",
    "# print(total_lists)\n",
    "sessions"
   ]
  },
  {
   "cell_type": "raw",
   "metadata": {},
   "source": [
    "set_axes(figsize = (7, 5))\n",
    "\n",
    "\n",
    "for sess, df in heart_beat.groupby('session'):  \n",
    "    bpm_sent = pd.DataFrame()\n",
    "    bpm_done = pd.DataFrame()\n",
    "    bpm_sent = df[df.type == 'HEARTBEAT']\n",
    "\n",
    "\n",
    "    bpm_done = df[df.type == 'HEARTBEAT_OK']\n",
    "\n",
    "    bpm_done.set_index('count', inplace = True)\n",
    "    bpm_sent.set_index('count', inplace = True)\n",
    "    bpm_err = bpm_done.time.astype(float) - bpm_sent.time.astype(float)\n",
    "    bpm_err = bpm_err[bpm_err.index > 20]\n",
    "    _max = round(bpm_err.max(), 2)\n",
    "    _min = round(bpm_err.min(), 2)\n",
    "    ten = round(bpm_err.quantile(.10), 2)\n",
    "    ninety = round(bpm_err.quantile(.90), 2)\n",
    "    out_count = bpm_err[bpm_err > 200].count()\n",
    "    print('Session', sess)\n",
    "    print('Minimum Latency:', str(_min) + ',', 'Maximum Latency:', _max)\n",
    "    print('Tenth Percentile Latency:', str(ten)+',', 'Ninetieth Percentile Latency:', ninety)\n",
    "    print('Latencies Greater than 200ms:', out_count, '\\n')\n",
    "    \n",
    "    norm = bpm_err[bpm_err<2].count()\n",
    "    bpm_err = bpm_err[bpm_err > 2]\n",
    "    no_norm = bpm_err[bpm_err > 2].count()\n",
    "    percent = no_norm/(norm+no_norm) * 100\n",
    "    percent = round(percent, 2)\n",
    "        \n",
    "    _max = int(round(bpm_err.max()))\n",
    "\n",
    "    bins = np.arange(0, _max+2, step = 1)\n",
    "    bpm_err.plot.hist(bins = bins, label = 'Session ' + str(sess), alpha = 0.5)\n",
    "    plt.legend()\n",
    "    plt.title(subject + ' Latency > 2ms (' + str(percent)+ ' Percent of HBs)')\n",
    "    plt.xlabel('Latency (ms)')\n",
    "#     plt.text(bpm_err.max())\n",
    "# plt.savefig('latency/'+subject+'latency_unfilt.pdf')\n",
    "# non_zero = np.where(bpm_err != 0)[0]\n",
    "# non_zero_err = bpm_err.iloc[non_zero]\n",
    "# # non_zero_err.plot.hist()\n",
    "# non_zero_err[non_zero_err['Time Discrepancy'] > 100]\n",
    "# bpm_done[bpm_done['time'] > 1e13]"
   ]
  },
  {
   "cell_type": "markdown",
   "metadata": {},
   "source": [
    "### Charts"
   ]
  },
  {
   "cell_type": "code",
   "execution_count": 25,
   "metadata": {},
   "outputs": [],
   "source": [
    "trecall = word_evs.groupby(['session', 'list'])['recalled'].mean().reset_index()\n",
    "trecall = trecall.groupby(['session'])['recalled'].mean().reset_index()\n",
    "trecall = trecall['recalled'].mean() * 100"
   ]
  },
  {
   "cell_type": "code",
   "execution_count": 26,
   "metadata": {},
   "outputs": [
    {
     "data": {
      "text/html": [
       "<style type=\"text/css\">\n",
       "</style>\n",
       "<table id=\"T_b1170_\">\n",
       "  <thead>\n",
       "    <tr>\n",
       "      <th class=\"col_heading level0 col0\" >Repeats</th>\n",
       "      <th class=\"col_heading level0 col1\" >Recall Rate (%)</th>\n",
       "    </tr>\n",
       "  </thead>\n",
       "  <tbody>\n",
       "    <tr>\n",
       "      <td id=\"T_b1170_row0_col0\" class=\"data row0 col0\" >1</td>\n",
       "      <td id=\"T_b1170_row0_col1\" class=\"data row0 col1\" >30.555556</td>\n",
       "    </tr>\n",
       "    <tr>\n",
       "      <td id=\"T_b1170_row1_col0\" class=\"data row1 col0\" >2</td>\n",
       "      <td id=\"T_b1170_row1_col1\" class=\"data row1 col1\" >56.349206</td>\n",
       "    </tr>\n",
       "    <tr>\n",
       "      <td id=\"T_b1170_row2_col0\" class=\"data row2 col0\" >3</td>\n",
       "      <td id=\"T_b1170_row2_col1\" class=\"data row2 col1\" >65.277778</td>\n",
       "    </tr>\n",
       "    <tr>\n",
       "      <td id=\"T_b1170_row3_col0\" class=\"data row3 col0\" >Total Recall</td>\n",
       "      <td id=\"T_b1170_row3_col1\" class=\"data row3 col1\" >59.435626</td>\n",
       "    </tr>\n",
       "  </tbody>\n",
       "</table>\n"
      ],
      "text/plain": [
       "<pandas.io.formats.style.Styler at 0x2b6a59e4fcf8>"
      ]
     },
     "execution_count": 26,
     "metadata": {},
     "output_type": "execute_result"
    }
   ],
   "source": [
    "recalled = pd.DataFrame(columns = ['Repeats', 'Recall Rate (%)'])\n",
    "recalled['Recall Rate (%)'] = word_evs.groupby('repeats')['recalled'].mean() * 100\n",
    "recalled = recalled.reset_index()\n",
    "recalled['Repeats'] = recalled['repeats']\n",
    "recalled = recalled.drop('repeats', axis = 1)\n",
    "total = pd.DataFrame()\n",
    "total['Repeats'] = pd.Series('Total Recall')\n",
    "total['Recall Rate (%)'] = pd.Series(trecall)\n",
    "recalled = recalled.loc[recalled.Repeats != -999]\n",
    "recalled = recalled.append(total).reset_index().drop('index', axis = 1).style.hide_index()\n",
    "\n",
    "recalled"
   ]
  },
  {
   "cell_type": "code",
   "execution_count": 27,
   "metadata": {},
   "outputs": [
    {
     "data": {
      "text/html": [
       "<div>\n",
       "<style scoped>\n",
       "    .dataframe tbody tr th:only-of-type {\n",
       "        vertical-align: middle;\n",
       "    }\n",
       "\n",
       "    .dataframe tbody tr th {\n",
       "        vertical-align: top;\n",
       "    }\n",
       "\n",
       "    .dataframe thead th {\n",
       "        text-align: right;\n",
       "    }\n",
       "</style>\n",
       "<table border=\"1\" class=\"dataframe\">\n",
       "  <thead>\n",
       "    <tr style=\"text-align: right;\">\n",
       "      <th></th>\n",
       "      <th>repeats_1</th>\n",
       "      <th>repeats_2</th>\n",
       "      <th>repeats_3</th>\n",
       "    </tr>\n",
       "    <tr>\n",
       "      <th>intrusion</th>\n",
       "      <th></th>\n",
       "      <th></th>\n",
       "      <th></th>\n",
       "    </tr>\n",
       "  </thead>\n",
       "  <tbody>\n",
       "    <tr>\n",
       "      <th>-1</th>\n",
       "      <td>0.0</td>\n",
       "      <td>0.0</td>\n",
       "      <td>5.0</td>\n",
       "    </tr>\n",
       "    <tr>\n",
       "      <th>0</th>\n",
       "      <td>78.0</td>\n",
       "      <td>142.0</td>\n",
       "      <td>330.0</td>\n",
       "    </tr>\n",
       "    <tr>\n",
       "      <th>1</th>\n",
       "      <td>2.0</td>\n",
       "      <td>5.0</td>\n",
       "      <td>4.0</td>\n",
       "    </tr>\n",
       "    <tr>\n",
       "      <th>2</th>\n",
       "      <td>0.0</td>\n",
       "      <td>0.0</td>\n",
       "      <td>4.0</td>\n",
       "    </tr>\n",
       "    <tr>\n",
       "      <th>3</th>\n",
       "      <td>2.0</td>\n",
       "      <td>0.0</td>\n",
       "      <td>0.0</td>\n",
       "    </tr>\n",
       "    <tr>\n",
       "      <th>4</th>\n",
       "      <td>0.0</td>\n",
       "      <td>0.0</td>\n",
       "      <td>1.0</td>\n",
       "    </tr>\n",
       "    <tr>\n",
       "      <th>9</th>\n",
       "      <td>1.0</td>\n",
       "      <td>1.0</td>\n",
       "      <td>0.0</td>\n",
       "    </tr>\n",
       "    <tr>\n",
       "      <th>11</th>\n",
       "      <td>0.0</td>\n",
       "      <td>0.0</td>\n",
       "      <td>2.0</td>\n",
       "    </tr>\n",
       "    <tr>\n",
       "      <th>15</th>\n",
       "      <td>0.0</td>\n",
       "      <td>1.0</td>\n",
       "      <td>1.0</td>\n",
       "    </tr>\n",
       "  </tbody>\n",
       "</table>\n",
       "</div>"
      ],
      "text/plain": [
       "           repeats_1  repeats_2  repeats_3\n",
       "intrusion                                 \n",
       "-1               0.0        0.0        5.0\n",
       " 0              78.0      142.0      330.0\n",
       " 1               2.0        5.0        4.0\n",
       " 2               0.0        0.0        4.0\n",
       " 3               2.0        0.0        0.0\n",
       " 4               0.0        0.0        1.0\n",
       " 9               1.0        1.0        0.0\n",
       " 11              0.0        0.0        2.0\n",
       " 15              0.0        1.0        1.0"
      ]
     },
     "execution_count": 27,
     "metadata": {},
     "output_type": "execute_result"
    }
   ],
   "source": [
    "pd.get_dummies(rec_evs, columns=['repeats']).groupby('intrusion').agg('sum').iloc[:, -3:]"
   ]
  },
  {
   "cell_type": "markdown",
   "metadata": {},
   "source": [
    "### Plots"
   ]
  },
  {
   "cell_type": "code",
   "execution_count": null,
   "metadata": {},
   "outputs": [],
   "source": [
    "plt.figure(figsize=(9, 6))\n",
    "sns.barplot(data=word_evs.reset_index(), y='recalled', x='repeats', color='dodgerblue', ci=95, capsize = .05, errwidth=2)\n",
    "# plt.xticks(ticks=[0, 1, 2, 3])\n",
    "plt.xlabel('# of Presentations', fontsize=16)\n",
    "plt.ylabel('Probability of Recall', fontsize=16)\n",
    "plt.show()\n",
    "\n",
    "\n",
    "rec_evs['is_intrusion'] = (rec_evs.intrusion!=0).astype(int)\n",
    "plt.figure(figsize=(9, 6))\n",
    "sns.barplot(data=rec_evs[rec_evs.repeats>0].reset_index(), y='is_intrusion', x='repeats', color='dodgerblue', ci=95, capsize = .05, errwidth=2)\n",
    "# plt.xticks(ticks=[0, 1, 2, 3])\n",
    "plt.xlabel('# of Presentations', fontsize=16)\n",
    "plt.ylabel('Intrusion Rate', fontsize=16)\n",
    "plt.show()"
   ]
  },
  {
   "cell_type": "code",
   "execution_count": null,
   "metadata": {},
   "outputs": [],
   "source": [
    "set_axes(figsize = (11, 7))\n",
    "one_spc = word_evs.loc[word_evs.repeats == 1]\n",
    "g = sns.lineplot(data = one_spc, x = 'serialpos', y = 'recalled', err_style = 'band', ci = 95, marker = 'o', color = 'navy', label = 'Once Presented')\n",
    "one_spc = one_spc.groupby(['subject', 'session', 'list', 'serialpos']).mean().reset_index().groupby(['subject', 'session','serialpos']).mean().reset_index().groupby(['subject','serialpos']).mean().reset_index()\n",
    "two_spc = word_evs.loc[word_evs.repeats.isin([2])]\n",
    "two_spc = two_spc.groupby(['subject', 'session', 'list', 'serialpos']).mean().reset_index().groupby(['subject', 'session','serialpos']).mean().reset_index().groupby(['subject','serialpos']).mean().reset_index()\n",
    "g = sns.lineplot(data = two_spc, x = 'serialpos', y = 'recalled', err_style = 'band', ci = 95, marker = 'o', color = 'blueviolet', label = 'Twice Presented')\n",
    "three_spc = word_evs.loc[word_evs.repeats.isin([3])]\n",
    "three_spc = three_spc.groupby(['subject', 'session', 'list', 'serialpos']).mean().reset_index().groupby(['subject', 'session','serialpos']).mean().reset_index().groupby(['subject','serialpos']).mean().reset_index()\n",
    "g = sns.lineplot(data = three_spc, x = 'serialpos', y = 'recalled', err_style = 'band', ci = 95, marker = 'o', color = 'slategray', label = 'Thrice Presented')\n",
    "plt.xlabel('Serial Position', fontsize = 14)\n",
    "plt.ylabel('Recall Proportion', fontsize = 14)\n",
    "plt.xticks(range(27))\n",
    "plt.legend(loc=\"upper left\")\n",
    "plt.title('Serial Position Curve Including All Repetitions', fontsize = 18)\n",
    "# plt.savefig('spc_all_reps')"
   ]
  },
  {
   "cell_type": "markdown",
   "metadata": {
    "tags": []
   },
   "source": [
    "### Lag-CRP and Minimum Lag-CRP"
   ]
  },
  {
   "cell_type": "code",
   "execution_count": 18,
   "metadata": {},
   "outputs": [],
   "source": [
    "crp = []\n",
    "num_lags = 6\n",
    "\n",
    "for j, df in evs.groupby('session'):\n",
    "    df = rpb.get_act_spos(df)\n",
    "    sess_crp = rpb.crp(df, num_lags = num_lags, list_length = 27)\n",
    "    crp.append(sess_crp)\n",
    "crp = pd.concat(crp)\n",
    "crp.reset_index(inplace = True)\n",
    "\n",
    "min_crp = []\n",
    "for j, df in evs.groupby('session'):\n",
    "    df = rpb.get_act_spos(df)\n",
    "    sess_crp = rpb.min_crp(df, num_lags = num_lags, list_length = 27, halfornah = 'nah')\n",
    "    min_crp.append(sess_crp)\n",
    "min_crp = pd.concat(min_crp)\n",
    "min_crp.reset_index(inplace = True)"
   ]
  },
  {
   "cell_type": "code",
   "execution_count": 19,
   "metadata": {},
   "outputs": [
    {
     "data": {
      "image/png": "[encoded data removed]",
      "text/plain": [
       "<Figure size 1008x504 with 2 Axes>"
      ]
     },
     "metadata": {
      "needs_background": "light"
     },
     "output_type": "display_data"
    }
   ],
   "source": [
    "fig, ax = plt.subplots(1,2, figsize=(14, 7))\n",
    "error_bars ={'elinewidth':2, 'capsize':3, 'capthick':2}\n",
    "right_side = ax[0].spines[\"right\"]\n",
    "right_side.set_visible(False)\n",
    "top_side = ax[0].spines[\"top\"]\n",
    "top_side.set_visible(False)\n",
    "right_side = ax[1].spines[\"right\"]\n",
    "right_side.set_visible(False)\n",
    "top_side = ax[1].spines[\"top\"]\n",
    "top_side.set_visible(False)\n",
    "\n",
    "g = sns.lineplot(ax = ax[0], data = crp[crp.lag>0], x = 'lag', y = 'prob', err_style = 'bars', ci = 95, marker = 'o', color = 'black', err_kws=error_bars)\n",
    "g = sns.lineplot(ax = ax[0], data = crp[crp.lag<0], x = 'lag', y = 'prob', err_style = 'bars', ci = 95, marker = 'o', color = 'black', err_kws=error_bars)\n",
    "\n",
    "\n",
    "_ = ax[0].set_xticks(range(-num_lags, num_lags+1))\n",
    "\n",
    "# _ = plt.grid()\n",
    "_ = plt.xlim(-num_lags - 0.5, num_lags + 0.5)\n",
    "\n",
    "\n",
    "# _ = plt.title('Massed Lag-CRP (Hospital RepFR1)', fontsize = 18)\n",
    "_ = ax[0].set_ylabel('Conditional Response Probability', fontsize = 14)\n",
    "_ = ax[0].set_xlabel('Lag', fontsize = 14)\n",
    "_ = ax[0].set_ylim([0, 0.5])\n",
    "\n",
    "error_bars ={'elinewidth':2, 'capsize':3, 'capthick':2}\n",
    "\n",
    "\n",
    "g = sns.lineplot(ax = ax[1], data = min_crp[min_crp.lag > 0], x = 'lag', y = 'prob', err_style = 'bars', ci = 95, marker = 'o', color = 'black', err_kws=error_bars)\n",
    "g = sns.lineplot(ax = ax[1], data = min_crp[min_crp.lag < 0], x = 'lag', y = 'prob', err_style = 'bars', ci = 95, marker = 'o', color = 'black', err_kws=error_bars)\n",
    "_ = plt.xticks(range(-num_lags, num_lags+1))\n",
    "\n",
    "# _ = plt.grid()\n",
    "_ = plt.xlim(-num_lags - 0.5, num_lags + 0.5)\n",
    "\n",
    "# _ = plt.title('Massed Lag-CRP (Hospital RepFR1)', fontsize = 18)\n",
    "_ = plt.ylabel('', fontsize = 14)\n",
    "_ = plt.xlabel('Lag', fontsize = 14)\n",
    "_ = plt.ylim([0, 0.5])\n",
    "_ = ax[0].set_xticklabels(range(-num_lags, num_lags+1), fontsize = 14)\n",
    "_ = ax[0].set_yticklabels([0, 0.1, 0.2, 0.3, 0.4, 0.5], fontsize = 14)\n",
    "_ = ax[1].set_xticklabels(range(-num_lags, num_lags+1), fontsize = 14)\n",
    "_ = ax[1].set_yticklabels([0, 0.1, 0.2, 0.3, 0.4, 0.5], fontsize = 14)"
   ]
  },
  {
   "cell_type": "markdown",
   "metadata": {},
   "source": [
    "## EEG "
   ]
  },
  {
   "cell_type": "code",
   "execution_count": 78,
   "metadata": {},
   "outputs": [
    {
     "name": "stdout",
     "output_type": "stream",
     "text": [
      "Session 0\n"
     ]
    }
   ],
   "source": [
    "session = data['session'].unique()[0]\n",
    "# subject = 'R1579T'\n",
    "print('Session ' + str(session))\n",
    "data = cml.get_data_index(kind = 'r1'); data = data[data['experiment'] == 'RepFR1']; data = data[data['subject'] == subject]\n",
    "r = cml.CMLReader(subject=subject, experiment='RepFR1', session=session, localization=localization, montage=montage)\n",
    "evs = r.load('task_events')\n",
    "\n",
    "word_evs = evs[evs.type=='WORD']\n",
    "rec_evs = evs[evs.type=='REC_WORD']"
   ]
  },
  {
   "cell_type": "code",
   "execution_count": 79,
   "metadata": {},
   "outputs": [],
   "source": [
    "pairs = r.load('pairs')\n",
    "\n"
   ]
  },
  {
   "cell_type": "code",
   "execution_count": 80,
   "metadata": {},
   "outputs": [],
   "source": [
    "word_evs['eegfile'].unique()\n",
    "\n",
    "contacts = r.load('contacts')"
   ]
  },
  {
   "cell_type": "code",
   "execution_count": 81,
   "metadata": {},
   "outputs": [],
   "source": [
    "buf = 500\n",
    "eeg = r.load_eeg(word_evs, rel_start=-500 - buf, rel_stop=500 + buf, scheme=contacts)"
   ]
  },
  {
   "cell_type": "code",
   "execution_count": 82,
   "metadata": {},
   "outputs": [],
   "source": [
    "eeg_ptsa = eeg.to_ptsa()\n",
    "# Butterworth filter to remove 60 Hz line noise + harmonic at 120\n",
    "eeg_ptsa = eeg_ptsa.filtered([58, 62])\n",
    "eeg_ptsa = eeg_ptsa.filtered([118, 122])"
   ]
  },
  {
   "cell_type": "code",
   "execution_count": 85,
   "metadata": {},
   "outputs": [
    {
     "data": {
      "image/png": "[encoded data removed]",
      "text/plain": [
       "<Figure size 576x432 with 1 Axes>"
      ]
     },
     "metadata": {
      "needs_background": "light"
     },
     "output_type": "display_data"
    }
   ],
   "source": [
    "from ptsa.data.filters import MorletWaveletFilter\n",
    "\n",
    "erp = eeg_ptsa[word_evs.recalled.astype(bool).values].mean(['event', 'channel']) - eeg_ptsa[~word_evs.recalled.astype(bool).values].mean(['event', 'channel'])\n",
    "\n",
    "plt.figure(figsize=(8,6))\n",
    "e = erp.plot()\n",
    "\n",
    "# pows = MorletWaveletFilter(timeseries=eeg_ptsa, freqs=np.logspace(np.log10(6), np.log10(180), 8), output='power', width=4, cpus=10).filter()\n",
    "\n",
    "# pows = pows.remove_buffer(0.5)\n",
    "\n",
    "# mask = word_evs.recalled.astype(bool).values\n",
    "# sme = pows[:, mask].mean(['event', 'channel']) - pows[:, ~mask].mean(['event', 'channel'])"
   ]
  },
  {
   "cell_type": "code",
   "execution_count": 84,
   "metadata": {},
   "outputs": [],
   "source": [
    "# fig = plt.figure(figsize=(20, 10))\n",
    "# ax = plt.gca()\n",
    "# im = ax.imshow(sme, cmap='coolwarm', aspect = 20, interpolation='hamming')\n",
    "# plt.yticks(ticks = range(0, 8), labels=[f\"{f:.0f}\" for f in np.logspace(np.log10(6), np.log10(180), 8)])\n",
    "# labels = ax.get_xticklabels()\n",
    "# ax.tick_params(axis='x', labelsize=14)\n",
    "# ax.tick_params(axis='y', labelsize=14)\n",
    "# plt.xlabel('Time', fontsize=20)\n",
    "# plt.ylabel('Frequencies', fontsize=20)\n",
    "# plt.title('Subsequent Memory Effect', fontsize=24)\n",
    "# cbar = plt.colorbar(im, ax=ax, fraction = .01)\n",
    "# cbar.set_label(label='t statistic \\n (remembered - forgotten)', size=16)\n",
    "# cbar.ax.tick_params(labelsize=14)"
   ]
  },
  {
   "cell_type": "code",
   "execution_count": null,
   "metadata": {},
   "outputs": [],
   "source": []
  },
  {
   "cell_type": "code",
   "execution_count": null,
   "metadata": {},
   "outputs": [],
   "source": []
  }
 ],
 "metadata": {
  "kernelspec": {
   "display_name": "bub",
   "language": "python",
   "name": "bub"
  },
  "language_info": {
   "codemirror_mode": {
    "name": "ipython",
    "version": 3
   },
   "file_extension": ".py",
   "mimetype": "text/x-python",
   "name": "python",
   "nbconvert_exporter": "python",
   "pygments_lexer": "ipython3",
   "version": "3.7.3"
  },
  "toc-showcode": false,
  "toc-showmarkdowntxt": false,
  "toc-showtags": false
 },
 "nbformat": 4,
 "nbformat_minor": 4
}
