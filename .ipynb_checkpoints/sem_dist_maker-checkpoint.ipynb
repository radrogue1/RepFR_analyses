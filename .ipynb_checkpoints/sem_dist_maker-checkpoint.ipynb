{
 "cells": [
  {
   "cell_type": "code",
   "execution_count": 51,
   "id": "535fea00-d971-4b33-bf13-48c20dee96bc",
   "metadata": {},
   "outputs": [],
   "source": [
    "import gensim.models as models\n",
    "from gensim.models import Word2Vec\n",
    "from gensim.models import KeyedVectors\n",
    "from gensim.test.utils import datapath\n",
    "import numpy as np\n",
    "from tqdm import tqdm_notebook as lol\n",
    "import os\n",
    "import pandas as pd"
   ]
  },
  {
   "cell_type": "code",
   "execution_count": 52,
   "id": "0a54b12f-1cf1-4bac-b047-b57ddfb49dff",
   "metadata": {},
   "outputs": [],
   "source": [
    "model = KeyedVectors.load_word2vec_format(\"/home1/radrogue/word_matrix/GoogleNews-vectors-negative300.bin\", binary=True)\n"
   ]
  },
  {
   "cell_type": "code",
   "execution_count": 53,
   "id": "1295d933-5b89-420e-b335-32034b7c1220",
   "metadata": {},
   "outputs": [
    {
     "data": {
      "application/vnd.jupyter.widget-view+json": {
       "model_id": "bad67630bbec45f9a5b68ebef8a7653f",
       "version_major": 2,
       "version_minor": 0
      },
      "text/plain": [
       "HBox(children=(IntProgress(value=0, max=312), HTML(value='')))"
      ]
     },
     "metadata": {},
     "output_type": "display_data"
    },
    {
     "name": "stdout",
     "output_type": "stream",
     "text": [
      "\n"
     ]
    },
    {
     "data": {
      "text/plain": [
       "array([[1.        , 0.1403047 , 0.27221158, ..., 0.09867401, 0.14024815,\n",
       "        0.37727314],\n",
       "       [0.1403047 , 0.99999994, 0.24102557, ..., 0.09374401, 0.22012605,\n",
       "        0.06179883],\n",
       "       [0.27221158, 0.24102557, 1.        , ..., 0.04208243, 0.10807534,\n",
       "        0.20014516],\n",
       "       ...,\n",
       "       [0.09867401, 0.09374401, 0.04208243, ..., 1.        , 0.15114194,\n",
       "        0.05044123],\n",
       "       [0.14024815, 0.22012605, 0.10807534, ..., 0.15114194, 1.        ,\n",
       "        0.02773089],\n",
       "       [0.37727314, 0.06179883, 0.20014516, ..., 0.05044123, 0.02773089,\n",
       "        1.        ]])"
      ]
     },
     "execution_count": 53,
     "metadata": {},
     "output_type": "execute_result"
    }
   ],
   "source": [
    "root = '/data/eeg/scalp/ltp/'\n",
    "experiment = 'ltpRepFR'\n",
    "    \n",
    "with open(os.path.join(root, experiment, 'wordpool.txt'), \"r\") as f:\n",
    "    wordpool = [w.strip().upper() for w in f.readlines()]\n",
    "wordpool.pop(0)\n",
    "length = len(wordpool)\n",
    "distances = np.full((length, length), 0.0)\n",
    "for i, word1 in enumerate(lol(wordpool)):\n",
    "    for j, word2 in enumerate(wordpool):\n",
    "        try:\n",
    "            similarity[i][j] = model.similarity(word1.lower(), word2.lower())\n",
    "        except Exception as e:\n",
    "            print(e)\n",
    "            distances[i][j] = np.nan\n",
    "            #distances[i][j] = model.distance(word1.upper(), word2.upper())\n",
    "            continue\n",
    "similarity\n"
   ]
  },
  {
   "cell_type": "code",
   "execution_count": 57,
   "id": "d85ad329-136d-43f3-9a04-6062dd90affc",
   "metadata": {},
   "outputs": [
    {
     "data": {
      "text/plain": [
       "array([[1.        , 0.1403047 , 0.27221158, ..., 0.09867401, 0.14024815,\n",
       "        0.37727314],\n",
       "       [0.1403047 , 0.99999994, 0.24102557, ..., 0.09374401, 0.22012605,\n",
       "        0.06179883],\n",
       "       [0.27221158, 0.24102557, 1.        , ..., 0.04208243, 0.10807534,\n",
       "        0.20014516],\n",
       "       ...,\n",
       "       [0.09867401, 0.09374401, 0.04208243, ..., 1.        , 0.15114194,\n",
       "        0.05044123],\n",
       "       [0.14024815, 0.22012605, 0.10807534, ..., 0.15114194, 1.        ,\n",
       "        0.02773089],\n",
       "       [0.37727314, 0.06179883, 0.20014516, ..., 0.05044123, 0.02773089,\n",
       "        1.        ]])"
      ]
     },
     "execution_count": 57,
     "metadata": {},
     "output_type": "execute_result"
    }
   ],
   "source": [
    "sim = pd.DataFrame(similarity)\n",
    "\n"
   ]
  },
  {
   "cell_type": "code",
   "execution_count": 55,
   "id": "7ea82956-7dfc-4350-9efb-865268721b44",
   "metadata": {},
   "outputs": [],
   "source": [
    "sim.to_csv('similarity_matrix.csv')"
   ]
  },
  {
   "cell_type": "code",
   "execution_count": null,
   "id": "7ddeabdf-b214-41cf-a420-3c79a0315e3d",
   "metadata": {},
   "outputs": [],
   "source": []
  }
 ],
 "metadata": {
  "kernelspec": {
   "display_name": "bub",
   "language": "python",
   "name": "bub"
  },
  "language_info": {
   "codemirror_mode": {
    "name": "ipython",
    "version": 3
   },
   "file_extension": ".py",
   "mimetype": "text/x-python",
   "name": "python",
   "nbconvert_exporter": "python",
   "pygments_lexer": "ipython3",
   "version": "3.7.3"
  }
 },
 "nbformat": 4,
 "nbformat_minor": 5
}
