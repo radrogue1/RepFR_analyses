{
 "cells": [
  {
   "cell_type": "code",
   "execution_count": 1,
   "id": "39e7ecae-3af9-488c-b7bf-991c860af468",
   "metadata": {},
   "outputs": [],
   "source": [
    "import cmlreaders as cml\n",
    "import matplotlib.pyplot as plt\n",
    "import seaborn as sns\n",
    "import numpy as np\n",
    "import pandas as pd\n",
    "import warnings; warnings.simplefilter('ignore')\n",
    "pd.options.display.max_columns=None\n",
    "pd.options.display.max_rows=100\n",
    "from IPython.display import display, Markdown, HTML\n",
    "import pandas_to_pybeh as pb\n",
    "from tqdm import tqdm_notebook as lol\n",
    "import time\n",
    "import scipy\n",
    "import rep_pybeh as rpb\n",
    "from plotting import *"
   ]
  },
  {
   "cell_type": "code",
   "execution_count": null,
   "id": "ce784fdd-97ac-4521-98b1-aa530dc42667",
   "metadata": {},
   "outputs": [],
   "source": [
    "evs = []\n",
    "data = cml.get_data_index(kind = 'ltp'); data = data[data['experiment'] == 'ltpRepFR']\n",
    "for subject, df in data.groupby('subject'):\n",
    "    for session in pd.unique(df['session']):\n",
    "        r = cml.CMLReader(subject=subject, experiment='ltpRepFR', session=session)\n",
    "        temp = r.load('all_events')\n",
    "        evs.append(temp)\n",
    "evs = pd.concat(evs)\n",
    "evs = evs[evs.list != 0]\n",
    "word_evs = evs[evs.type=='WORD']\n",
    "word_evs = word_evs.loc[word_evs.repeats != -999]\n",
    "rec_evs = evs[evs.type=='REC_WORD']"
   ]
  },
  {
   "cell_type": "code",
   "execution_count": null,
   "id": "12490e5d-8d7b-46b6-b117-232677d78ace",
   "metadata": {},
   "outputs": [],
   "source": []
  }
 ],
 "metadata": {
  "kernelspec": {
   "display_name": "bub",
   "language": "python",
   "name": "bub"
  },
  "language_info": {
   "codemirror_mode": {
    "name": "ipython",
    "version": 3
   },
   "file_extension": ".py",
   "mimetype": "text/x-python",
   "name": "python",
   "nbconvert_exporter": "python",
   "pygments_lexer": "ipython3",
   "version": "3.7.3"
  }
 },
 "nbformat": 4,
 "nbformat_minor": 5
}
