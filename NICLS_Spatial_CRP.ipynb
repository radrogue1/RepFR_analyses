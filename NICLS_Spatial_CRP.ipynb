{
 "cells": [
  {
   "cell_type": "code",
   "execution_count": 2,
   "id": "ded43197-ff48-47f7-9fce-2b232513b1a2",
   "metadata": {},
   "outputs": [
    {
     "name": "stderr",
     "output_type": "stream",
     "text": [
      "/home1/doughem/.conda/envs/ESTES2021/lib/python3.7/site-packages/dask_jobqueue/core.py:20: FutureWarning: tmpfile is deprecated and will be removed in a future release. Please use dask.utils.tmpfile instead.\n",
      "  from distributed.utils import tmpfile\n"
     ]
    }
   ],
   "source": [
    "import sys\n",
    "# sys.path.append('/home1/jrudoler/src/')\n",
    "# from retrieval_help import create_baseline_events, free_epochs\n",
    "import cmlreaders as cml\n",
    "import numpy as np\n",
    "import pandas as pd\n",
    "from ptsa.data.filters import ButterworthFilter, MorletWaveletFilter\n",
    "from ptsa.data.concat import concat\n",
    "from scipy.stats import ttest_ind\n",
    "from scipy.stats import zscore\n",
    "# from irasa.IRASA import IRASA\n",
    "import CMLDask as da\n",
    "import xarray as xr\n",
    "\n",
    "pd.options.display.max_columns = None\n",
    "# sys.path.append('/home1/doughem/')"
   ]
  },
  {
   "cell_type": "code",
   "execution_count": 3,
   "id": "52168af3-5de2-437e-bc7d-a1fc434f4a4b",
   "metadata": {},
   "outputs": [],
   "source": [
    "subjects = ['LTP449', 'LTP451', 'LTP453', 'LTP455', 'LTP457', 'LTP458', 'LTP462', \n",
    "            'LTP468', 'LTP470', 'LTP473', 'LTP474', 'LTP475', 'LTP476', 'LTP477']"
   ]
  },
  {
   "cell_type": "code",
   "execution_count": 4,
   "id": "330541ea-c2ef-4f79-84af-5eebf6241c64",
   "metadata": {},
   "outputs": [],
   "source": [
    "from ptsa.data.timeseries import TimeSeries\n",
    "LTP448_powers = TimeSeries.from_hdf('/scratch/nicls_cns/LTP448_encoding_powers.h5')\n",
    "LTP449_powers = TimeSeries.from_hdf('/scratch/nicls_cns/LTP449_encoding_powers.h5')\n",
    "LTP451_powers = TimeSeries.from_hdf('/scratch/nicls_cns/LTP451_encoding_powers.h5')\n",
    "LTP453_powers = TimeSeries.from_hdf('/scratch/nicls_cns/LTP453_encoding_powers.h5')\n",
    "LTP455_powers = TimeSeries.from_hdf('/scratch/nicls_cns/LTP455_encoding_powers.h5')\n",
    "LTP457_powers = TimeSeries.from_hdf('/scratch/nicls_cns/LTP457_encoding_powers.h5')\n",
    "LTP458_powers = TimeSeries.from_hdf('/scratch/nicls_cns/LTP458_encoding_powers.h5')\n",
    "LTP462_powers = TimeSeries.from_hdf('/scratch/nicls_cns/LTP462_encoding_powers.h5')\n",
    "LTP468_powers = TimeSeries.from_hdf('/scratch/nicls_cns/LTP468_encoding_powers.h5')\n",
    "LTP470_powers = TimeSeries.from_hdf('/scratch/nicls_cns/LTP470_encoding_powers.h5')\n",
    "LTP473_powers = TimeSeries.from_hdf('/scratch/nicls_cns/LTP473_encoding_powers.h5')\n",
    "LTP474_powers = TimeSeries.from_hdf('/scratch/nicls_cns/LTP474_encoding_powers.h5')\n",
    "LTP475_powers = TimeSeries.from_hdf('/scratch/nicls_cns/LTP475_encoding_powers.h5')\n",
    "LTP476_powers = TimeSeries.from_hdf('/scratch/nicls_cns/LTP476_encoding_powers.h5')\n",
    "LTP477_powers = TimeSeries.from_hdf('/scratch/nicls_cns/LTP477_encoding_powers.h5')"
   ]
  },
  {
   "cell_type": "code",
   "execution_count": 5,
   "id": "152b8a5d-ce67-4a20-a3ed-975fc585140d",
   "metadata": {},
   "outputs": [],
   "source": [
    "experiment = 'NiclsCourierReadOnly'\n",
    "\n",
    "data = cml.get_data_index(kind = 'ltp')\n",
    "data = data[(data['experiment']==experiment)].sort_values('session').reset_index()\n",
    "\n",
    "full_pows = []\n",
    "full_evs = None\n",
    "\n",
    "for i, row in data.iterrows():\n",
    "    # intialize data reader, load words events and buffered eeg epochs\n",
    "    r = cml.CMLReader(subject=row['subject'], experiment=row['experiment'], session=row['session'])\n",
    "    evs = r.load('task_events')\n",
    "    full_evs = evs if full_evs is None else pd.concat([full_evs, evs], ignore_index=True)\n",
    "full_evs = full_evs.query('subject in @subjects')"
   ]
  },
  {
   "cell_type": "code",
   "execution_count": 6,
   "id": "edd127b7-af27-4592-91ed-c1770bb40201",
   "metadata": {},
   "outputs": [],
   "source": [
    "import matplotlib.pyplot as plt\n",
    "import seaborn as sns\n",
    "%matplotlib inline"
   ]
  },
  {
   "cell_type": "code",
   "execution_count": 26,
   "id": "6d88cf78-0c42-41f8-a013-8406766497b3",
   "metadata": {},
   "outputs": [],
   "source": [
    "def spatial_CRP(dataframe, bins):\n",
    "    #bins is a list of the bin labels that you want, the length of the list and names of these bins will be used in the function\n",
    "    from scipy.spatial import distance_matrix\n",
    "    return_df = pd.DataFrame(columns = ['subject', 'bins', 'actual_count', 'possible_count', 'probability'])\n",
    "    df_list = []\n",
    "    for i in dataframe.subject.unique():\n",
    "        subject_df = dataframe.query('subject == @i')\n",
    "        return_df.bins = bins\n",
    "        return_df.subject = i\n",
    "        return_df.actual_count = 0\n",
    "        return_df.possible_count = 0\n",
    "        loc_evs = subject_df[(subject_df.storeX!=-999)&(subject_df.store!='-999')]\n",
    "        stores = loc_evs.groupby('store').agg('mean')[['storeX', 'storeZ']]\n",
    "        dist_mat = distance_matrix(stores, stores)\n",
    "        dist_df = pd.DataFrame(dist_mat, columns = stores.index, index = stores.index)\n",
    "        full_distances = []\n",
    "        for j in list(range(dist_df.shape[0])):\n",
    "            for k in dist_df.iloc[j].tolist():\n",
    "                full_distances.append(k)\n",
    "        full_distances = list(set(full_distances))\n",
    "        full_distances = pd.DataFrame(full_distances, columns = ['dist']).query('dist != 0').reset_index()\n",
    "        bin_series, bin_nos = pd.qcut(full_distances.dist, q = len(bins), retbins = True)\n",
    "        bin_nos = bin_nos[1:]\n",
    "        deliveries = subject_df[subject_df.type=='WORD']\n",
    "        recword = subject_df[subject_df.type=='REC_WORD'].reset_index().drop(columns='index')\n",
    "        recword['pos'] = recword.groupby(['subject', 'session', 'trial']).cumcount()\n",
    "        recword['repetition'] = 0\n",
    "        recalled_stores = []\n",
    "        for l, row in recword.iterrows():\n",
    "            dd, sess, transition_store = row[['trial', 'session', 'store']]\n",
    "            # new list, skip first recall and initialize\n",
    "            if (row['pos']==0):\n",
    "                recalled_stores = []\n",
    "                # print(\"reset\")\n",
    "                if row['intrusion']==0:\n",
    "                    recalled_stores.append(transition_store)\n",
    "                    #print(\"transition:\", transition_store)\n",
    "                # list of stores with deliveries in current list\n",
    "                store_list = deliveries[(deliveries.trial==dd)&(deliveries.session==sess)].store.unique()\n",
    "                continue\n",
    "            # skip intrusions\n",
    "            if (row['intrusion']!=0)|(transition_store not in store_list):\n",
    "                continue\n",
    "            # skip repeats\n",
    "            if transition_store in recalled_stores:\n",
    "                recword.loc[l, 'repetition'] = 1\n",
    "                continue\n",
    "            # skip transition following intrusion or repeat but record recall\n",
    "            if (recword.loc[l-1, 'intrusion']!=0)|(recword.loc[l-1, 'repetition']!=0):\n",
    "                recalled_stores.append(transition_store)\n",
    "                # print(\"transition:\", transition_store)\n",
    "                continue\n",
    "            store_idx = stores.index.get_loc(recalled_stores[-1])\n",
    "            stores['dist'] = dist_mat[store_idx]\n",
    "            # only use stores with deliveries in current list\n",
    "            # drop recalled stores (no repetitions)\n",
    "            available = stores.loc[store_list].drop(index=recalled_stores)['dist']\n",
    "            available = pd.DataFrame(available).reset_index()\n",
    "            bin_df = pd.DataFrame({'bin_nos': bin_nos, 'labels' : bins})\n",
    "            available['bins'] = ''\n",
    "            for m in list(range(available.shape[0])):\n",
    "                for n in list(range(bin_df.shape[0])):\n",
    "                    if available.dist.iloc[m] <= bin_df.bin_nos.iloc[n]:\n",
    "                        available.bins.iloc[m] = bin_df.labels.iloc[n]\n",
    "                        break\n",
    "            for o in bins:\n",
    "                if o not in available.bins.value_counts():\n",
    "                    continue\n",
    "                return_df.loc[return_df.bins == o, 'possible_count'] += 1\n",
    "            recalled_stores.append(transition_store)\n",
    "            transition_bin = available.bins.loc[available.store == transition_store].values[0]\n",
    "            return_df.loc[return_df.bins == transition_bin, 'actual_count'] += 1\n",
    "        return_df.probability = return_df.actual_count/return_df.possible_count\n",
    "        df_list.append(return_df.copy()) #add a copy of the return_df to the list\n",
    "        \n",
    "        #All of these lines clear the data from a subject before populating these same dataframes with the next subject's\n",
    "        #data. That is why we add a copy of return_df above instead of the actual thing\n",
    "        subject_df = subject_df.iloc[0:0]\n",
    "        return_df = pd.DataFrame(columns = return_df.columns)\n",
    "\n",
    "    final_return = pd.concat(df_list)   \n",
    "    return final_return"
   ]
  },
  {
   "cell_type": "code",
   "execution_count": 27,
   "id": "a44ef0c1-8e0e-4912-80b8-2348ae6ef334",
   "metadata": {},
   "outputs": [
    {
     "name": "stderr",
     "output_type": "stream",
     "text": [
      "/home1/doughem/.conda/envs/ESTES2021/lib/python3.7/site-packages/pandas/core/indexing.py:1732: SettingWithCopyWarning: \n",
      "A value is trying to be set on a copy of a slice from a DataFrame\n",
      "\n",
      "See the caveats in the documentation: https://pandas.pydata.org/pandas-docs/stable/user_guide/indexing.html#returning-a-view-versus-a-copy\n",
      "  self._setitem_single_block(indexer, value, name)\n"
     ]
    }
   ],
   "source": [
    "test5 = spatial_CRP(full_evs, ['very near', 'near', 'intermediate', 'far', 'veryfar'])"
   ]
  },
  {
   "cell_type": "code",
   "execution_count": 28,
   "id": "64aaf600-81e0-4126-86c9-908e5bc12a0b",
   "metadata": {},
   "outputs": [
    {
     "data": {
      "text/plain": [
       "Text(0, 0.5, 'Conditional response probability')"
      ]
     },
     "execution_count": 28,
     "metadata": {},
     "output_type": "execute_result"
    },
    {
     "data": {
      "image/png": "[encoded data removed]",
      "text/plain": [
       "<Figure size 432x288 with 1 Axes>"
      ]
     },
     "metadata": {
      "needs_background": "light"
     },
     "output_type": "display_data"
    }
   ],
   "source": [
    "spatialCRP_curve = plt.figure()\n",
    "ax1 = sns.pointplot(data=test5, x='bins', y='probability', marker = 'o')\n",
    "plt.xlabel('Distance bin')\n",
    "plt.ylabel('Conditional response probability')"
   ]
  },
  {
   "cell_type": "code",
   "execution_count": 10,
   "id": "eb429ea8-a216-462b-914c-ea7994061eed",
   "metadata": {
    "tags": []
   },
   "outputs": [
    {
     "name": "stderr",
     "output_type": "stream",
     "text": [
      "/home1/doughem/.conda/envs/ESTES2021/lib/python3.7/site-packages/pandas/core/indexing.py:1732: SettingWithCopyWarning: \n",
      "A value is trying to be set on a copy of a slice from a DataFrame\n",
      "\n",
      "See the caveats in the documentation: https://pandas.pydata.org/pandas-docs/stable/user_guide/indexing.html#returning-a-view-versus-a-copy\n",
      "  self._setitem_single_block(indexer, value, name)\n"
     ]
    }
   ],
   "source": [
    "test10 = spatial_CRP(full_evs, ['nearest', 'very near', 'near', 'somewhat near', 'intermediate near', 'intermediate far', 'somewhat far', 'far', 'very_far', 'farthest'])"
   ]
  },
  {
   "cell_type": "code",
   "execution_count": 11,
   "id": "078b8359-a0be-44ad-8a23-c7821b6e4f63",
   "metadata": {},
   "outputs": [
    {
     "data": {
      "text/plain": [
       "Text(0, 0.5, 'Conditional response probability')"
      ]
     },
     "execution_count": 11,
     "metadata": {},
     "output_type": "execute_result"
    },
    {
     "data": {
      "image/png": "[encoded data removed]",
      "text/plain": [
       "<Figure size 1440x720 with 1 Axes>"
      ]
     },
     "metadata": {
      "needs_background": "light"
     },
     "output_type": "display_data"
    }
   ],
   "source": [
    "spatialCRP_curve = plt.figure(figsize = (20, 10))\n",
    "ax1 = sns.pointplot(data=test10, x='bins', y='probability', marker = 'o')\n",
    "plt.xlabel('Distance bin')\n",
    "plt.ylabel('Conditional response probability')"
   ]
  },
  {
   "cell_type": "code",
   "execution_count": 40,
   "id": "5223fc49-a5bc-4975-b373-7687e56fb041",
   "metadata": {
    "tags": []
   },
   "outputs": [],
   "source": [
    "subset_events = full_evs.query('subject == \"LTP477\"')"
   ]
  },
  {
   "cell_type": "code",
   "execution_count": 41,
   "id": "0b2205f8-2650-4aa5-875f-88a61469cc23",
   "metadata": {
    "tags": []
   },
   "outputs": [],
   "source": [
    "from scipy.spatial import distance_matrix\n",
    "loc_evs = subset_events[(subset_events.storeX!=-999)&(subset_events.storeZ!='-999')]\n",
    "stores = loc_evs.groupby('store').agg('mean')[['storeX', 'storeZ']]\n",
    "# create distance matrix\n",
    "dist_mat = distance_matrix(stores, stores)\n",
    "dist_df = pd.DataFrame(dist_mat, columns = stores.index, index = stores.index)"
   ]
  },
  {
   "cell_type": "code",
   "execution_count": 42,
   "id": "65c6de6c-437a-4181-9f33-f425b398e7d6",
   "metadata": {
    "tags": []
   },
   "outputs": [],
   "source": [
    "full_distances = []\n",
    "for i in list(range(dist_df.shape[0])):\n",
    "    for j in dist_df.iloc[i].tolist():\n",
    "        full_distances.append(j)\n",
    "full_distances = list(set(full_distances))\n",
    "full_distances = pd.DataFrame(full_distances, columns = ['dist']).query('dist != 0').reset_index()['dist']"
   ]
  },
  {
   "cell_type": "code",
   "execution_count": 43,
   "id": "f221648f-999d-40f9-915a-4ecd24c2f79b",
   "metadata": {
    "tags": []
   },
   "outputs": [],
   "source": [
    "fifths_list = [full_distances.min(), full_distances.quantile(0.2), full_distances.quantile(0.4), full_distances.quantile(0.6), full_distances.quantile(0.8), full_distances.max()]"
   ]
  },
  {
   "cell_type": "code",
   "execution_count": 11,
   "id": "b570ed98-8ae5-408d-951e-cedf4b148b89",
   "metadata": {
    "tags": []
   },
   "outputs": [],
   "source": [
    "def spatial_CRP(dataframe, bin_nos):\n",
    "    from scipy.spatial import distance_matrix\n",
    "    return_df = pd.DataFrame(columns = ['subject', 'bins', 'actual_count', 'possible_count', 'probability'])\n",
    "    bins = ['Very near','Near', 'Intermediate', 'Far', 'Very far']\n",
    "    df_list = []\n",
    "    for i in dataframe.subject.unique():\n",
    "        subject_df = dataframe.query('subject == @i')\n",
    "        return_df.bins = bins\n",
    "        return_df.subject = i\n",
    "        return_df.actual_count = 0\n",
    "        return_df.possible_count = 0\n",
    "        loc_evs = subject_df[(subject_df.storeX!=-999)&(subject_df.store!='-999')]\n",
    "        stores = subject_df.groupby('store').agg('mean')[['storeX', 'storeZ']]\n",
    "        dist_mat = distance_matrix(stores, stores)\n",
    "        deliveries = subject_df[subject_df.type=='WORD']\n",
    "        recword = subject_df[subject_df.type=='REC_WORD'].reset_index().drop(columns='index')\n",
    "        recword['pos'] = recword.groupby(['subject', 'session', 'trial']).cumcount()\n",
    "        recword['repetition'] = 0\n",
    "        recalled_stores = []\n",
    "        for j, row in recword.iterrows():\n",
    "            dd, sess, transition_store = row[['trial', 'session', 'store']]\n",
    "            # new list, skip first recall and initialize\n",
    "            if (row['pos']==0):\n",
    "                recalled_stores = []\n",
    "                # print(\"reset\")\n",
    "                if row['intrusion']==0:\n",
    "                    recalled_stores.append(transition_store)\n",
    "                    #print(\"transition:\", transition_store)\n",
    "                # list of stores with deliveries in current list\n",
    "                store_list = deliveries[(deliveries.trial==dd)&(deliveries.session==sess)].store.unique()\n",
    "                continue\n",
    "            # skip intrusions\n",
    "            if (row['intrusion']!=0)|(transition_store not in store_list):\n",
    "                continue\n",
    "            # skip repeats\n",
    "            if transition_store in recalled_stores:\n",
    "                recword.loc[i, 'repetition'] = 1\n",
    "                continue\n",
    "            # skip transition following intrusion or repeat but record recall\n",
    "            if (recword.loc[j-1, 'intrusion']!=0)|(recword.loc[j-1, 'repetition']!=0):\n",
    "                recalled_stores.append(transition_store)\n",
    "                # print(\"transition:\", transition_store)\n",
    "                continue\n",
    "            store_idx = stores.index.get_loc(recalled_stores[-1])\n",
    "            stores['dist'] = dist_mat[store_idx]\n",
    "            # only use stores with deliveries in current list\n",
    "            # drop recalled stores (no repetitions)\n",
    "            available = stores.loc[store_list].drop(index=recalled_stores)['dist']\n",
    "            available = pd.DataFrame(available).reset_index()\n",
    "            available['bins'] = ''\n",
    "            for k in list(range(available.shape[0])):\n",
    "                if available.dist.iloc[k] < bin_nos[1]:\n",
    "                    available.bins.iloc[k] = bins[0]\n",
    "                elif (available.dist.iloc[k] > bin_nos[1]) & (available.dist.iloc[k] < bin_nos[2]):\n",
    "                    available.bins.iloc[k] = bins[1]\n",
    "                elif (available.dist.iloc[k] > bin_nos[2]) & (available.dist.iloc[k] < bin_nos[3]):\n",
    "                    available.bins.iloc[k] = bins[2]\n",
    "                elif (available.dist.iloc[k] > bin_nos[3]) & (available.dist.iloc[k] < bin_nos[4]):\n",
    "                    available.bins.iloc[k] = bins[3]\n",
    "                elif (available.dist.iloc[k] > bin_nos[4]) & (available.dist.iloc[k] < bin_nos[5]):\n",
    "                    available.bins.iloc[k] = bins[4]\n",
    "            for l in bins:\n",
    "                if l not in available.bins.value_counts():\n",
    "                    continue\n",
    "                return_df.loc[return_df.bins == l, 'possible_count'] += 1\n",
    "            transition_bin = available.bins.loc[available.store == transition_store].values[0]\n",
    "            return_df.loc[return_df.bins == transition_bin, 'actual_count'] += 1\n",
    "        return_df.probability = return_df.actual_count/return_df.possible_count\n",
    "        df_list.append(return_df.copy()) #add a copy of the return_df to the list\n",
    "        \n",
    "        #All of these lines clear the data from a subject before populating these same dataframes with the next subject's\n",
    "        #data. That is why we add a copy of return_df above instead of the actual thing\n",
    "        subject_df = subject_df.iloc[0:0]\n",
    "        return_df = pd.DataFrame(columns = return_df.columns)\n",
    "\n",
    "    final_return = pd.concat(df_list)   \n",
    "    return final_return"
   ]
  },
  {
   "cell_type": "code",
   "execution_count": 15,
   "id": "df4c36e4-c30b-473c-9683-72f78c91a490",
   "metadata": {
    "collapsed": true,
    "jupyter": {
     "outputs_hidden": true
    },
    "tags": []
   },
   "outputs": [
    {
     "data": {
      "text/plain": [
       "Text(0, 0.5, 'Conditional response probability')"
      ]
     },
     "execution_count": 15,
     "metadata": {},
     "output_type": "execute_result"
    },
    {
     "data": {
      "image/png": "[encoded data removed]",
      "text/plain": [
       "<Figure size 432x288 with 1 Axes>"
      ]
     },
     "metadata": {
      "needs_background": "light"
     },
     "output_type": "display_data"
    }
   ],
   "source": [
    "spatialCRP_curve = plt.figure()\n",
    "ax1 = sns.pointplot(data=test, x='bins', y='probability', marker = 'o')\n",
    "plt.xlabel('Distance bin')\n",
    "plt.ylabel('Conditional response probability')"
   ]
  }
 ],
 "metadata": {
  "kernelspec": {
   "display_name": "bub",
   "language": "python",
   "name": "bub"
  },
  "language_info": {
   "codemirror_mode": {
    "name": "ipython",
    "version": 3
   },
   "file_extension": ".py",
   "mimetype": "text/x-python",
   "name": "python",
   "nbconvert_exporter": "python",
   "pygments_lexer": "ipython3",
   "version": "3.7.3"
  }
 },
 "nbformat": 4,
 "nbformat_minor": 5
}
