{
 "cells": [
  {
   "cell_type": "code",
   "execution_count": 2,
   "id": "7f90eee9-1271-45d5-b294-96dca270675e",
   "metadata": {},
   "outputs": [],
   "source": [
    "import glob\n",
    "import pandas as pd\n",
    "import numpy as np\n",
    "import matplotlib.pyplot as plt\n",
    "import os\n",
    "import json"
   ]
  },
  {
   "cell_type": "code",
   "execution_count": 116,
   "id": "5b01784a-6199-42f8-9340-8c0a6b930b2a",
   "metadata": {},
   "outputs": [
    {
     "name": "stdout",
     "output_type": "stream",
     "text": [
      "Expecting ',' delimiter: line 1 column 78 (char 77) {\"type\":\"session start\",\"data\":{\"application version\":\"3.3.3\",\"build date\":11/10/2021 3:06:08 PM,\"experiment version\":\"RepFR2\",\"logfile version\":\"0\",\"participant\":\"R1999J\",\"session\":4},\"time\":1638494421754.81,\"id\":36}\n",
      "\n",
      "1227 34\n"
     ]
    },
    {
     "name": "stderr",
     "output_type": "stream",
     "text": [
      "/usr/global/Anaconda/2019-10/lib/python3.7/site-packages/ipykernel_launcher.py:22: SettingWithCopyWarning: \n",
      "A value is trying to be set on a copy of a slice from a DataFrame.\n",
      "Try using .loc[row_indexer,col_indexer] = value instead\n",
      "\n",
      "See the caveats in the documentation: http://pandas.pydata.org/pandas-docs/stable/user_guide/indexing.html#returning-a-view-versus-a-copy\n",
      "/usr/global/Anaconda/2019-10/lib/python3.7/site-packages/ipykernel_launcher.py:23: SettingWithCopyWarning: \n",
      "A value is trying to be set on a copy of a slice from a DataFrame.\n",
      "Try using .loc[row_indexer,col_indexer] = value instead\n",
      "\n",
      "See the caveats in the documentation: http://pandas.pydata.org/pandas-docs/stable/user_guide/indexing.html#returning-a-view-versus-a-copy\n",
      "/usr/global/Anaconda/2019-10/lib/python3.7/site-packages/ipykernel_launcher.py:32: SettingWithCopyWarning: \n",
      "A value is trying to be set on a copy of a slice from a DataFrame\n",
      "\n",
      "See the caveats in the documentation: http://pandas.pydata.org/pandas-docs/stable/user_guide/indexing.html#returning-a-view-versus-a-copy\n",
      "/usr/global/Anaconda/2019-10/lib/python3.7/site-packages/ipykernel_launcher.py:35: SettingWithCopyWarning: \n",
      "A value is trying to be set on a copy of a slice from a DataFrame\n",
      "\n",
      "See the caveats in the documentation: http://pandas.pydata.org/pandas-docs/stable/user_guide/indexing.html#returning-a-view-versus-a-copy\n"
     ]
    },
    {
     "data": {
      "text/plain": [
       "Text(0.5, 0, 'Latency (ms)')"
      ]
     },
     "execution_count": 116,
     "metadata": {},
     "output_type": "execute_result"
    },
    {
     "data": {
      "image/png": "[encoded data removed]",
      "text/plain": [
       "<Figure size 432x288 with 1 Axes>"
      ]
     },
     "metadata": {
      "needs_background": "light"
     },
     "output_type": "display_data"
    }
   ],
   "source": [
    "# pd.set_option('display.max_rows', None)\n",
    "log_dir = 'session.jsonl'\n",
    "data = []\n",
    "\n",
    "with open(log_dir, 'r') as fr:\n",
    "    lines = fr.readlines()\n",
    "    for line in lines:\n",
    "        try:\n",
    "            data.append(json.loads(line))\n",
    "        except Exception as e:\n",
    "            print(e, line)       \n",
    "beh = pd.DataFrame(data)\n",
    "heart_beat = beh\n",
    "\n",
    "heart_beat['message'] = heart_beat.data.apply(lambda x: dict.get(x, 'message'))\n",
    "\n",
    "heart_beat.dropna(inplace=True)\n",
    "\n",
    "heart_beat['type'] = heart_beat.message.apply(lambda x: dict.get(x, 'type'))\n",
    "events = heart_beat\n",
    "heart_beat = heart_beat[heart_beat.type.isin(['HEARTBEAT', 'HEARTBEAT_OK'])]\n",
    "heart_beat['data'] = heart_beat.message.apply(lambda x: dict.get(x, 'data'))\n",
    "heart_beat['count'] = heart_beat.data.apply(lambda x: dict.get(x, 'count'))\n",
    "heart_beat = heart_beat[heart_beat['count'] > 20]\n",
    "\n",
    "heart_beat\n",
    "\n",
    "bpm_sent = pd.DataFrame()\n",
    "bpm_done = pd.DataFrame()\n",
    "bpm_sent = heart_beat[heart_beat.type == 'HEARTBEAT']\n",
    "\n",
    "bpm_sent.drop_duplicates('count', inplace = True, keep = 'first')\n",
    "\n",
    "bpm_done = heart_beat[heart_beat.type == 'HEARTBEAT_OK']\n",
    "bpm_done.drop_duplicates('count', inplace = True, keep = 'first')\n",
    "bpm_done.set_index('count', inplace = True)\n",
    "bpm_sent.set_index('count', inplace = True)\n",
    "bpm_err = bpm_done.time.astype(float) - bpm_sent.time.astype(float)\n",
    "# bpm_err = bpm_err[bpm_err.index > 20]\n",
    "norm = bpm_err[bpm_err<2].count()\n",
    "bpm_err = bpm_err[bpm_err > 2]\n",
    "no_norm = bpm_err[bpm_err > 2].count()\n",
    "percent = no_norm/(norm+no_norm) * 100\n",
    "percent = round(percent, 2)\n",
    "print(norm, no_norm)\n",
    "_max = int(round(bpm_err.max()))\n",
    "\n",
    "bins = range(_max+2)\n",
    "plt.hist(bpm_err, bins = bins)\n",
    "plt.title('UT Test Latency (' + str(percent)+ ' Percent of HBs)')\n",
    "plt.xlabel('Latency (ms)')\n",
    "# plt.savefig('latency/UT_test_latency_unfilt.pdf')\n",
    "# # non_zero = np.where(bpm_err != 0)[0]\n",
    "# # non_zero_err = bpm_err.iloc[non_zero]\n",
    "# # # non_zero_err.plot.hist()\n",
    "# # non_zero_err[non_zero_err['Time Discrepancy'] > 100]\n",
    "# # bpm_done[bpm_done['time'] > 1e13]"
   ]
  },
  {
   "cell_type": "code",
   "execution_count": 117,
   "id": "7ae11581-cb56-42a1-8f08-a68e84c16aef",
   "metadata": {},
   "outputs": [
    {
     "name": "stderr",
     "output_type": "stream",
     "text": [
      "/usr/global/Anaconda/2019-10/lib/python3.7/site-packages/ipykernel_launcher.py:8: SettingWithCopyWarning: \n",
      "A value is trying to be set on a copy of a slice from a DataFrame\n",
      "\n",
      "See the caveats in the documentation: http://pandas.pydata.org/pandas-docs/stable/user_guide/indexing.html#returning-a-view-versus-a-copy\n",
      "  \n"
     ]
    },
    {
     "data": {
      "text/html": [
       "<div>\n",
       "<style scoped>\n",
       "    .dataframe tbody tr th:only-of-type {\n",
       "        vertical-align: middle;\n",
       "    }\n",
       "\n",
       "    .dataframe tbody tr th {\n",
       "        vertical-align: top;\n",
       "    }\n",
       "\n",
       "    .dataframe thead th {\n",
       "        text-align: right;\n",
       "    }\n",
       "</style>\n",
       "<table border=\"1\" class=\"dataframe\">\n",
       "  <thead>\n",
       "    <tr style=\"text-align: right;\">\n",
       "      <th></th>\n",
       "      <th>count</th>\n",
       "    </tr>\n",
       "    <tr>\n",
       "      <th>type</th>\n",
       "      <th></th>\n",
       "    </tr>\n",
       "  </thead>\n",
       "  <tbody>\n",
       "    <tr>\n",
       "      <td>COUNTDOWN</td>\n",
       "      <td>1</td>\n",
       "    </tr>\n",
       "    <tr>\n",
       "      <td>ISI</td>\n",
       "      <td>10</td>\n",
       "    </tr>\n",
       "    <tr>\n",
       "      <td>REST</td>\n",
       "      <td>3</td>\n",
       "    </tr>\n",
       "    <tr>\n",
       "      <td>STIM</td>\n",
       "      <td>5</td>\n",
       "    </tr>\n",
       "    <tr>\n",
       "      <td>WORD</td>\n",
       "      <td>7</td>\n",
       "    </tr>\n",
       "  </tbody>\n",
       "</table>\n",
       "</div>"
      ],
      "text/plain": [
       "           count\n",
       "type            \n",
       "COUNTDOWN      1\n",
       "ISI           10\n",
       "REST           3\n",
       "STIM           5\n",
       "WORD           7"
      ]
     },
     "execution_count": 117,
     "metadata": {},
     "output_type": "execute_result"
    }
   ],
   "source": [
    "where = bpm_err.reset_index()['count'].to_numpy()\n",
    "evs = beh\n",
    "# events[~events.type.str.contains('HEART')]\n",
    "evs['data'] = evs.message.apply(lambda x: dict.get(x, 'data'))\n",
    "evs['count'] = evs.data.apply(lambda x: dict.get(x, 'count'))\n",
    "indeces = evs[evs['count'].isin(where)].index - 1\n",
    "b4_bad = evs[evs.index.isin(indeces)]\n",
    "b4_bad.query('type != \"HEARTBEAT\"', inplace = True)\n",
    "b4_bad.groupby('type')['data'].count().reset_index().rename(columns={'data' : 'count'}).set_index('type')"
   ]
  },
  {
   "cell_type": "code",
   "execution_count": null,
   "id": "8ed2129f-c371-461a-b307-b98c33c1c3d8",
   "metadata": {},
   "outputs": [],
   "source": []
  }
 ],
 "metadata": {
  "kernelspec": {
   "display_name": "bub",
   "language": "python",
   "name": "bub"
  },
  "language_info": {
   "codemirror_mode": {
    "name": "ipython",
    "version": 3
   },
   "file_extension": ".py",
   "mimetype": "text/x-python",
   "name": "python",
   "nbconvert_exporter": "python",
   "pygments_lexer": "ipython3",
   "version": "3.7.3"
  }
 },
 "nbformat": 4,
 "nbformat_minor": 5
}
