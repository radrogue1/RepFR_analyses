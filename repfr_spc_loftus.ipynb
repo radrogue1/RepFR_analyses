{
 "cells": [
  {
   "cell_type": "code",
   "execution_count": 4,
   "id": "a8941bc0-97cb-4d6a-b7f1-7d7944f438c7",
   "metadata": {},
   "outputs": [],
   "source": [
    "import cmlreaders as cml\n",
    "import matplotlib.pyplot as plt\n",
    "import seaborn as sns\n",
    "import numpy as np\n",
    "import pandas as pd\n",
    "import warnings; warnings.simplefilter('ignore')\n",
    "pd.options.display.max_columns=None\n",
    "pd.options.display.max_rows=100\n",
    "from IPython.display import display, Markdown, HTML\n",
    "import pandas_to_pybeh as pb\n",
    "from tqdm import tqdm_notebook as lol\n",
    "import time\n",
    "import scipy\n",
    "import rep_pybeh as rpb\n",
    "from plotting import *\n",
    "error_bars ={'elinewidth':3, 'capsize':5, 'capthick':3}\n",
    "data_set = 'hospital'"
   ]
  },
  {
   "cell_type": "markdown",
   "id": "9a680789-568e-448a-8b12-fe133a788226",
   "metadata": {
    "tags": []
   },
   "source": [
    "## Hospital Data Load"
   ]
  },
  {
   "cell_type": "code",
   "execution_count": 7,
   "id": "30553fa3-a487-40b1-ae29-b46e0b1810de",
   "metadata": {},
   "outputs": [
    {
     "name": "stdout",
     "output_type": "stream",
     "text": [
      "subj R1593D 4 didn't work\n",
      "subj R1593D 5 didn't work\n",
      "subj R1651J 2 didn't work\n",
      "50\n"
     ]
    }
   ],
   "source": [
    "if data_set == 'hospital':\n",
    "    evs = []\n",
    "    data = cml.get_data_index(kind = 'r1'); data = data[data['experiment'] == 'RepFR1']\n",
    "    for subject, df in data.groupby('subject'):\n",
    "        for session in pd.unique(df['session']):\n",
    "            try:\n",
    "                r = cml.CMLReader(subject=subject, experiment='RepFR1', session=session)\n",
    "                temp = r.load('task_events')\n",
    "                evs.append(temp)\n",
    "            except: print('subj', subject, session, \"didn't work\")\n",
    "    evs = pd.concat(evs)\n",
    "    evs = evs[evs.list != 0]\n",
    "    subs = evs.subject.unique()\n",
    "    print(len(subs))"
   ]
  },
  {
   "cell_type": "markdown",
   "id": "7c10a2b9-af54-4b59-bfda-5b1aeb58b4ed",
   "metadata": {},
   "source": [
    "## Scalp Data Load"
   ]
  },
  {
   "cell_type": "code",
   "execution_count": 8,
   "id": "737fde75-00a1-42b5-8e91-4142f18a93dc",
   "metadata": {},
   "outputs": [],
   "source": [
    "if data_set == 'scalp':\n",
    "    evs = []\n",
    "    data = cml.get_data_index(kind = 'ltp'); data = data[data['experiment'] == 'ltpRepFR']\n",
    "    for subject, df in data.groupby('subject'):\n",
    "        for session in pd.unique(df['session']):\n",
    "            r = cml.CMLReader(subject=subject, experiment='ltpRepFR', session=session)\n",
    "            temp = r.load('all_events')\n",
    "            evs.append(temp)\n",
    "    evs = pd.concat(evs)\n",
    "    evs = evs[evs.list != 0]\n",
    "    subs = evs.subject.unique()\n",
    "\n",
    "\n",
    "    print(evs.subject.unique())"
   ]
  },
  {
   "cell_type": "code",
   "execution_count": 9,
   "id": "2f3e60ce-1130-4130-a3bd-d44f521a7f47",
   "metadata": {
    "tags": []
   },
   "outputs": [],
   "source": [
    "evs['serialpos'] = evs.serialpos +1\n",
    "evs = evs[evs.list != 0]\n",
    "evs = evs[evs.list != 26]\n",
    "word_evs = evs[evs.type=='WORD']\n",
    "word_evs = word_evs.loc[word_evs.repeats != -999]\n",
    "rec_evs = evs[evs.type=='REC_WORD']\n"
   ]
  },
  {
   "cell_type": "code",
   "execution_count": 10,
   "id": "8a33b531-c27c-40ec-95b5-5e2bbe311a50",
   "metadata": {},
   "outputs": [],
   "source": [
    "spc = word_evs.groupby(['subject', 'session', 'list', 'serialpos', 'repeats']).mean().reset_index().groupby(['subject', 'session','serialpos', 'repeats']).mean().reset_index()\n",
    "\n",
    "spc = spc[['subject', 'session', 'serialpos', 'repeats', 'recalled']]\n",
    "tot_one = spc.loc[spc.repeats == 1]#.groupby('subject').recalled.mean()\n",
    "two_spc = spc.loc[spc.repeats == 2]#.groupby('subject').recalled.mean()\n",
    "thr_spc = spc.loc[spc.repeats == 3]#.groupby('subject').recalled.mean()\n",
    "\n",
    "sub_mean = spc.groupby(['subject', 'serialpos', 'repeats']).recalled.mean().reset_index()\n",
    "grand_mean = sub_mean.groupby(['serialpos', 'repeats']).mean()\n",
    "sub_mean = sub_mean.reset_index().set_index(['serialpos', 'repeats'])\n",
    "sub_mean['grand_mean'] = grand_mean\n",
    "sub_mean['adjustment'] = sub_mean.grand_mean - sub_mean.recalled\n",
    "sub_mean = sub_mean.reset_index().set_index(['subject', 'serialpos', 'repeats'])\n",
    "spc = spc.set_index(['subject', 'serialpos', 'repeats', 'session'])\n",
    "spc['adj_rec'] = spc.recalled + sub_mean['adjustment']\n",
    "\n",
    "spc = spc.reset_index()\n",
    "# sns.lineplot(data = spc, x = 'serialpos', y = 'adj_rec', hue = 'repeats')"
   ]
  },
  {
   "cell_type": "code",
   "execution_count": 11,
   "id": "4a08ca23-1120-44ca-b0ea-7bbe9bb6e17e",
   "metadata": {},
   "outputs": [],
   "source": [
    "# one_spc = spc.loc[spc.repeats == 1]\n",
    "# # two_spc = spc.loc[spc.repeats == 2].groupby('subject').adj_rec.mean()\n",
    "# # thr_spc = spc.loc[spc.repeats == 3].groupby('subject').adj_rec.mean()\n",
    "\n",
    "# # ci_two = 1.96*two_spc.std()/(7**0.5)\n",
    "# # ci_thr = 1.96*thr_spc.std()/(7**0.5)\n",
    "# # mu_two = two_spc.mean()\n",
    "# # mu_thr = thr_spc.mean()\n",
    "# # print(ci_two)\n",
    "\n",
    "# fig, ax = set_axes(figsize = (14, 7), xticks = np.arange(1, 28), ylim = [0,1], yticks = np.arange(0, 1.1, .1))\n",
    "# g1 = sns.lmu_two, color = 'slategray', linestyle = '--', xmin=1.2/28, xmax=26.8/28, label = 'Two')\n",
    "# ax.axhspan(ineplot(data = one_spc, x = 'serialpos', y = 'adj_rec', err_style = 'band', ci = 95, marker = 'o', color = 'navy', label = 'One')\n",
    "# ax.axhline((mu_two-ci_two), (mu_two+ci_two), color='gray', alpha=0.2, xmin=1.2/28, xmax=26.8/28)\n",
    "# ax.axhline(mu_thr, color = 'black', linestyle = '--', xmin=1.2/28, xmax=26.8/28, label ='Three')\n",
    "# ax.axhspan((mu_thr-ci_thr), (mu_thr+ci_thr), color='black', alpha=0.2, xmin=1.2/28, xmax=26.8/28)\n",
    "\n",
    "# # g2 = sns.lineplot(data = one_spc, x = 'serialpos', y = 'two_spc', err_style = 'band', ci = 95, color = 'gray', label = 'Twice Presented')\n",
    "# # g3 = sns.lineplot(data = one_spc, x = 'serialpos', y = 'thr_spc', err_style = 'band', ci = 95, color = 'black', label = 'Thrice Presented')\n",
    "\n",
    "# _ = plt.xlabel('Serial Position')\n",
    "# _ = plt.ylabel('Recall Proportion')\n",
    "\n",
    "# # _ = plt.ylim([0, 1])\n",
    "# _ = plt.legend(title='Presentations')\n",
    "# # # plt.savefig(data_set +'_spc.pdf')"
   ]
  },
  {
   "cell_type": "code",
   "execution_count": 12,
   "id": "fa7f37f9-2592-4e2f-9085-74e13d52039a",
   "metadata": {
    "tags": []
   },
   "outputs": [],
   "source": [
    "spc = word_evs.groupby(['subject', 'session', 'list', 'serialpos', 'repeats']).mean().reset_index().groupby(['subject', 'session','serialpos', 'repeats']).mean().reset_index()\n",
    "\n",
    "spc = spc[['subject', 'session', 'serialpos', 'repeats', 'recalled']]\n",
    "one_spc = spc.loc[spc.repeats == 1]\n",
    "cuts = pd.qcut(one_spc.serialpos, 9)\n",
    "one_spc = one_spc.groupby(['subject', 'session', cuts]).mean()\n",
    "\n",
    "\n",
    "one_spc = one_spc.drop('serialpos', axis=1)\n",
    "# one_spc.reset_index(inplace=True)\n",
    "# one_spc.serialpos.apply(pd.Interval.left)\n",
    "one_spc['spos_bins'] = (pd.IntervalIndex(one_spc.index.get_level_values('serialpos')).left+3)/3\n",
    "one_spc['spos_bins'] = round(one_spc.spos_bins)\n",
    "one_spc = one_spc.reset_index().drop('serialpos', 1)\n",
    "\n",
    "\n",
    "sub_mean = one_spc.groupby(['subject', 'spos_bins', 'repeats']).recalled.mean().reset_index()\n",
    "grand_mean = sub_mean.groupby(['spos_bins', 'repeats']).mean()\n",
    "sub_mean = sub_mean.reset_index().set_index(['spos_bins', 'repeats'])\n",
    "sub_mean['grand_mean'] = grand_mean\n",
    "sub_mean['adjustment'] = sub_mean.grand_mean - sub_mean.recalled\n",
    "sub_mean = sub_mean.reset_index().set_index(['subject', 'spos_bins', 'repeats'])\n",
    "one_spc = one_spc.set_index(['subject', 'spos_bins', 'repeats', 'session'])\n",
    "one_spc['adj_rec'] = one_spc.recalled + sub_mean['adjustment']\n",
    "one_spc = one_spc.reset_index()\n",
    "one_spc.to_csv(data_set+'_spc.csv')"
   ]
  },
  {
   "cell_type": "code",
   "execution_count": 13,
   "id": "d2680efc-e170-4015-a578-08713d3121ef",
   "metadata": {},
   "outputs": [
    {
     "data": {
      "image/png": "[encoded data removed]",
      "text/plain": [
       "<Figure size 504x504 with 1 Axes>"
      ]
     },
     "metadata": {
      "needs_background": "light"
     },
     "output_type": "display_data"
    }
   ],
   "source": [
    "# two_spc = spc.loc[spc.repeats == 2].groupby('subject').adj_rec.mean()\n",
    "# thr_spc = spc.loc[spc.repeats == 3].groupby('subject').adj_rec.mean()\n",
    "\n",
    "# ci_two = 1.96*two_spc.std()/(7**0.5)\n",
    "# ci_thr = 1.96*thr_spc.std()/(7**0.5)\n",
    "# mu_two = two_spc.mean()\n",
    "# mu_thr = thr_spc.mean()\n",
    "spos_bins = []\n",
    "\n",
    "fig, ax = set_axes(figsize = (7, 7), xticks = np.arange(1, 28), yticks = np.arange(0, 1.1, .2), ylim=[0,1], fontsize = 30)\n",
    "g1 = sns.lineplot(data = one_spc, x = 'spos_bins', y = 'adj_rec', \n",
    "                  err_style = 'bars', ci = 95, color = 'black', linewidth = 3.5, err_kws = error_bars)\n",
    "g1 = sns.scatterplot(data = one_spc.groupby('spos_bins').mean().reset_index(), x = 'spos_bins', y = 'adj_rec', color = 'black', s = 100)\n",
    "# ax.axhline(mu_two, color = 'slategray', linestyle = '--', xmin=1.2/28, xmax=26.8/28, label = 'Two')\n",
    "# ax.axhspan((mu_two-ci_two), (mu_two+ci_two), color='gray', alpha=0.2, xmin=1.2/28, xmax=26.8/28)\n",
    "# ax.axhline(mu_thr, color = 'black', linestyle = '--', xmin=1.2/28, xmax=26.8/28, label ='Three')\n",
    "# ax.axhspan((mu_thr-ci_thr), (mu_thr+ci_thr), color='black', alpha=0.2, xmin=1.2/28, xmax=26.8/28)\n",
    "\n",
    "# g2 = sns.lineplot(data = one_spc, x = 'serialpos', y = 'two_spc', err_style = 'band', ci = 95, color = 'gray', label = 'Twice Presented')\n",
    "# g3 = sns.lineplot(data = one_spc, x = 'serialpos', y = 'thr_spc', err_style = 'band', ci = 95, color = 'black', label = 'Thrice Presented')\n",
    "\n",
    "_ = plt.xlabel('Serial Position')\n",
    "_ = plt.ylabel('Recall Probability')\n",
    "labels=['1-3', '4-6', '7-9', '10-12', '13-15', '16-18', '19-21', '22-24', '25-27']\n",
    "plt.xticks(np.arange(1,10,1), labels=labels, rotation = -45, fontsize = 25)\n",
    "# plt.legend(title='Presentations')\n",
    "# # # _ = plt.ylim([0, 1])\n",
    "# _ = plt.legend(title='Presentations')\n",
    "plt.savefig(data_set+'_figs/binned_spc.pdf', bbox_inches='tight')"
   ]
  },
  {
   "cell_type": "code",
   "execution_count": 14,
   "id": "d233198f-93ab-46ce-9b8d-b1920e045235",
   "metadata": {},
   "outputs": [],
   "source": [
    "# reps = pd.DataFrame(columns = ['Presentations', 'Recall Rate', ])"
   ]
  },
  {
   "cell_type": "code",
   "execution_count": 15,
   "id": "157c68ce-a3f9-43b1-a31d-d31853225aac",
   "metadata": {},
   "outputs": [],
   "source": [
    "tot_one = tot_one.reset_index()\n",
    "# tot_one['Presentations'] = pd.Series('One', index = two_spc.index)\n",
    "\n",
    "two_spc = two_spc.reset_index()\n",
    "# two_spc['Presentations'] = pd.Series('Two', index = two_spc.index)\n",
    "thr_spc = thr_spc.reset_index()\n",
    "# thr_spc['Presentations'] = pd.Series('Three', index = thr_spc.index)\n",
    "reps = tot_one.append([two_spc, thr_spc]).reset_index()\n",
    "scatter_reps = reps.copy().groupby(['subject', 'repeats']).mean()"
   ]
  },
  {
   "cell_type": "code",
   "execution_count": null,
   "id": "e43b761d-a5db-4870-a6db-14f3278d571b",
   "metadata": {},
   "outputs": [],
   "source": []
  },
  {
   "cell_type": "code",
   "execution_count": 16,
   "id": "9cd35d21-5f2c-491b-903d-1fbdd7049b6b",
   "metadata": {},
   "outputs": [
    {
     "data": {
      "text/plain": [
       "repeats\n",
       "1    0.160218\n",
       "2    0.308043\n",
       "3    0.446687\n",
       "Name: recalled, dtype: float64"
      ]
     },
     "metadata": {},
     "output_type": "display_data"
    }
   ],
   "source": [
    "reps = reps.groupby(['subject', 'session', 'repeats']).recalled.mean().reset_index()\n",
    "display(reps.groupby(['repeats']).recalled.mean())\n",
    "sub_mean = reps.groupby(['subject', 'repeats']).recalled.mean().reset_index()\n",
    "grand_mean = sub_mean.groupby(['repeats']).mean()\n",
    "sub_mean = sub_mean.reset_index().set_index(['repeats'])\n",
    "sub_mean['grand_mean'] = grand_mean\n",
    "sub_mean['adjustment'] = sub_mean.grand_mean - sub_mean.recalled\n",
    "sub_mean = sub_mean.reset_index().set_index(['subject', 'repeats'])\n",
    "reps = reps.set_index(['subject', 'repeats', 'session'])\n",
    "reps['adj_rec'] = reps.recalled + sub_mean['adjustment']\n",
    "reps = reps.reset_index()\n",
    "reps.to_csv(data_set+'_reps.csv')\n",
    "# reps.groupby('repeats').recalled.mean()"
   ]
  },
  {
   "cell_type": "code",
   "execution_count": 17,
   "id": "3b02f311-894a-421a-a29a-962d3683bfab",
   "metadata": {},
   "outputs": [],
   "source": [
    "scatter_reps.reset_index(inplace=True)\n",
    "# scatter_reps['repeats'] = scatter_reps['repeats'] - 1"
   ]
  },
  {
   "cell_type": "code",
   "execution_count": 18,
   "id": "e1fce7cd-df64-4982-88f9-d0870d9a2b67",
   "metadata": {},
   "outputs": [],
   "source": [
    "palette = []\n",
    "for i in subs:\n",
    "    palette.append('black')"
   ]
  },
  {
   "cell_type": "code",
   "execution_count": 19,
   "id": "46ad459b-c9a4-4e3b-8b80-7d0e34725bd3",
   "metadata": {},
   "outputs": [],
   "source": [
    "# set_axes(fontsize = 30)\n",
    "\n",
    "# g = sns.barplot(data=reps, x = 'repeats', y = 'adj_rec', \n",
    "#                 ci = 95, zorder= 0, capsize=0.075, linestyle = \"-\", linewidth = 2, **dict(edgecolor=\"black\", fill = False))\n",
    "# g = sns.scatterplot(data=scatter_reps, x = 'repeats', y = 'recalled', ci = 95, hue = 'subject', palette = palette, legend=None, s=100)\n",
    "\n",
    "\n",
    "# _ = plt.ylabel('Recall Probability')\n",
    "# plt.savefig(data_set+'_figs/recall_by_pres.pdf')"
   ]
  },
  {
   "cell_type": "code",
   "execution_count": 20,
   "id": "cc00d7f1-f48e-4985-8c73-4214f111a764",
   "metadata": {},
   "outputs": [
    {
     "data": {
      "image/png": "[encoded data removed]",
      "text/plain": [
       "<Figure size 504x504 with 1 Axes>"
      ]
     },
     "metadata": {
      "needs_background": "light"
     },
     "output_type": "display_data"
    }
   ],
   "source": [
    "set_axes(fontsize = 30, ylim = [0,1], xticks = np.arange(1, 4, 1))\n",
    "# g = sns.lineplot(data=scatter_reps, x = 'repeats', y = 'recalled', ci = 95, hue = 'subject', palette = palette, **dict(alpha=0.3), legend=None)\n",
    "\n",
    "g = sns.lineplot(data=reps, x = 'repeats', y = 'recalled', err_style = 'bars',\n",
    "                ci = 95, color = 'black', linewidth = 3.5, err_kws = error_bars)\n",
    "g = sns.scatterplot(data=reps.groupby('repeats').mean().reset_index(), x = 'repeats', y = 'recalled', color = 'black', s= 100)\n",
    "_ = plt.ylabel('Recall Probability')\n",
    "_ = plt.xlabel('Number of Presentations')\n",
    "plt.savefig(data_set+'_figs/recall_by_pres.pdf', bbox_inches='tight')"
   ]
  },
  {
   "cell_type": "code",
   "execution_count": null,
   "id": "2f1f5cb9-85fe-4899-b58e-52bb0fa62dd4",
   "metadata": {},
   "outputs": [],
   "source": []
  },
  {
   "cell_type": "code",
   "execution_count": null,
   "id": "5f7c1bf2-8853-4f4c-9c8b-866a764d41a8",
   "metadata": {},
   "outputs": [],
   "source": []
  }
 ],
 "metadata": {
  "kernelspec": {
   "display_name": "environmentname",
   "language": "python",
   "name": "environmentname"
  },
  "language_info": {
   "codemirror_mode": {
    "name": "ipython",
    "version": 3
   },
   "file_extension": ".py",
   "mimetype": "text/x-python",
   "name": "python",
   "nbconvert_exporter": "python",
   "pygments_lexer": "ipython3",
   "version": "3.7.9"
  }
 },
 "nbformat": 4,
 "nbformat_minor": 5
}
