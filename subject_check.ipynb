{
 "cells": [
  {
   "cell_type": "code",
   "execution_count": 2,
   "id": "f868ebf8-66f9-4747-bfb6-40082da1c502",
   "metadata": {},
   "outputs": [],
   "source": [
    "from cmlreaders import *"
   ]
  },
  {
   "cell_type": "code",
   "execution_count": 8,
   "id": "1a03b5bd-416a-4c95-8d4b-1abfeab8b259",
   "metadata": {},
   "outputs": [
    {
     "data": {
      "text/plain": [
       "subject_alias\n",
       "R1586T      1\n",
       "R1594E      1\n",
       "R1596T      1\n",
       "R1579T      2\n",
       "R1204T_1    3\n",
       "R1564J      3\n",
       "R1587J      3\n",
       "R1589T      4\n",
       "R1590T      4\n",
       "R1584J      6\n",
       "Name: session, dtype: int64"
      ]
     },
     "execution_count": 8,
     "metadata": {},
     "output_type": "execute_result"
    }
   ],
   "source": [
    "index = get_data_index('r1')\n",
    "index = index[index.system_version == 4]\n",
    "index[index.experiment == 'RepFR1'].groupby('subject_alias').session.count().sort_values()"
   ]
  },
  {
   "cell_type": "code",
   "execution_count": null,
   "id": "32e35400-3384-44b9-990d-3cd51f538e68",
   "metadata": {},
   "outputs": [],
   "source": []
  }
 ],
 "metadata": {
  "kernelspec": {
   "display_name": "environmentname",
   "language": "python",
   "name": "environmentname"
  },
  "language_info": {
   "codemirror_mode": {
    "name": "ipython",
    "version": 3
   },
   "file_extension": ".py",
   "mimetype": "text/x-python",
   "name": "python",
   "nbconvert_exporter": "python",
   "pygments_lexer": "ipython3",
   "version": "3.7.9"
  }
 },
 "nbformat": 4,
 "nbformat_minor": 5
}
