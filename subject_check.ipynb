{
 "cells": [
  {
   "cell_type": "code",
   "execution_count": 1,
   "id": "f868ebf8-66f9-4747-bfb6-40082da1c502",
   "metadata": {},
   "outputs": [],
   "source": [
    "from cmlreaders import *"
   ]
  },
  {
   "cell_type": "code",
   "execution_count": 3,
   "id": "1a03b5bd-416a-4c95-8d4b-1abfeab8b259",
   "metadata": {},
   "outputs": [
    {
     "data": {
      "text/plain": [
       "Recognition              0\n",
       "all_events              71\n",
       "contacts               178\n",
       "experiment             191\n",
       "import_type            191\n",
       "localization           191\n",
       "math_events              0\n",
       "montage                191\n",
       "original_experiment      0\n",
       "original_session         6\n",
       "pairs                  178\n",
       "ps4_events               0\n",
       "session                191\n",
       "subject                191\n",
       "subject_alias          191\n",
       "system_version         191\n",
       "task_events            191\n",
       "dtype: int64"
      ]
     },
     "execution_count": 3,
     "metadata": {},
     "output_type": "execute_result"
    }
   ],
   "source": [
    "index = get_data_index('r1')\n",
    "index = index[index.system_version == 4]\n",
    "index[index.experiment == 'RepFR1'].groupby('subject_alias').session.count().sort_values()"
   ]
  },
  {
   "cell_type": "code",
   "execution_count": null,
   "id": "32e35400-3384-44b9-990d-3cd51f538e68",
   "metadata": {},
   "outputs": [],
   "source": []
  }
 ],
 "metadata": {
  "kernelspec": {
   "display_name": "environmentname",
   "language": "python",
   "name": "environmentname"
  },
  "language_info": {
   "codemirror_mode": {
    "name": "ipython",
    "version": 3
   },
   "file_extension": ".py",
   "mimetype": "text/x-python",
   "name": "python",
   "nbconvert_exporter": "python",
   "pygments_lexer": "ipython3",
   "version": "3.7.9"
  }
 },
 "nbformat": 4,
 "nbformat_minor": 5
}
