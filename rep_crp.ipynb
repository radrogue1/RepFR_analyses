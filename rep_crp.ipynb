{
 "cells": [
  {
   "cell_type": "code",
   "execution_count": 1,
   "id": "98302600-7468-418a-9374-111b474b9efc",
   "metadata": {},
   "outputs": [],
   "source": [
    "import cmlreaders as cml\n",
    "import matplotlib.pyplot as plt\n",
    "import seaborn as sns\n",
    "import numpy as np\n",
    "import pandas as pd\n",
    "import warnings; warnings.simplefilter('ignore')\n",
    "pd.options.display.max_columns=None\n",
    "pd.options.display.max_rows=100\n",
    "from IPython.display import display, Markdown, HTML\n",
    "import pandas_to_pybeh as pb\n",
    "from tqdm import tqdm_notebook as lol\n",
    "import time\n",
    "import scipy\n",
    "import rep_pybeh as rpb\n",
    "from plotting import *\n",
    "error_bars ={'elinewidth':3, 'capsize':5, 'capthick':3}\n",
    "data_set = 'scalp'"
   ]
  },
  {
   "cell_type": "markdown",
   "id": "607da532-d18c-41e4-bb5d-45fb0689bcc8",
   "metadata": {
    "tags": []
   },
   "source": [
    "## Hospital Data Load"
   ]
  },
  {
   "cell_type": "code",
   "execution_count": 2,
   "id": "5a9d024c-d9a4-49ef-9d97-cda54279e8f7",
   "metadata": {},
   "outputs": [],
   "source": [
    "if data_set == 'hospital':\n",
    "    evs = []\n",
    "    data = cml.get_data_index(kind = 'r1'); data = data[data['experiment'] == 'RepFR1']\n",
    "    for subject, df in data.groupby('subject'):\n",
    "        for session in pd.unique(df['session']):\n",
    "            r = cml.CMLReader(subject=subject, experiment='RepFR1', session=session)\n",
    "            temp = r.load('task_events')\n",
    "            evs.append(temp)\n",
    "    evs = pd.concat(evs)\n",
    "    evs = evs[evs.list != 0]\n",
    "    evs = evs[evs.repeats != -999]\n",
    "\n",
    "\n",
    "    subs = evs.subject.unique()\n",
    "    print(subs)"
   ]
  },
  {
   "cell_type": "markdown",
   "id": "9ebcedfc-c360-47dc-a0b2-4b1c3139c0bc",
   "metadata": {},
   "source": [
    "## Scalp Data Load"
   ]
  },
  {
   "cell_type": "code",
   "execution_count": 3,
   "id": "9b0b132f-182e-4684-9b24-347712e6e509",
   "metadata": {},
   "outputs": [
    {
     "name": "stdout",
     "output_type": "stream",
     "text": [
      "['LTP441' 'LTP442' 'LTP443' 'LTP444' 'LTP445' 'LTP446' 'LTP447']\n"
     ]
    }
   ],
   "source": [
    "if data_set == 'scalp':\n",
    "    evs = []\n",
    "    data = cml.get_data_index(kind = 'ltp'); data = data[data['experiment'] == 'ltpRepFR']\n",
    "    for subject, df in data.groupby('subject'):\n",
    "        for session in pd.unique(df['session']):\n",
    "            r = cml.CMLReader(subject=subject, experiment='ltpRepFR', session=session)\n",
    "            temp = r.load('all_events')\n",
    "            evs.append(temp)\n",
    "    evs = pd.concat(evs)\n",
    "    evs = evs[evs.list != 0]\n",
    "    evs = evs[evs.repeats != -999]\n",
    "    subs = evs.subject.unique()\n",
    "\n",
    "\n",
    "    print(evs.subject.unique())"
   ]
  },
  {
   "cell_type": "code",
   "execution_count": 4,
   "id": "2e7d1118-01ad-47f0-ba82-48996d5e45db",
   "metadata": {
    "tags": []
   },
   "outputs": [],
   "source": [
    "evs['serialpos'] = evs.serialpos +1\n",
    "evs = evs[evs.list != 0]\n",
    "evs = evs[evs.list != 26]\n",
    "word_evs = evs[evs.type=='WORD']\n",
    "word_evs = word_evs.loc[word_evs.repeats != -999]\n",
    "rec_evs = evs[evs.type=='REC_WORD']\n",
    "rec_evs.reset_index(inplace=True)"
   ]
  },
  {
   "cell_type": "code",
   "execution_count": 5,
   "id": "50d30362-d5a2-47ff-9e68-31b79d7e5bc0",
   "metadata": {},
   "outputs": [],
   "source": [
    "rec_evs['rep_tran'] = rec_evs.groupby(['subject', 'session', 'list']).repeats.diff()\n",
    "evs = word_evs.append(rec_evs)\n",
    "evs = evs[evs['subject'] != 'R1204T']\n"
   ]
  },
  {
   "cell_type": "code",
   "execution_count": 6,
   "id": "1bc24ff8-0a56-4b9b-81eb-edd796155750",
   "metadata": {
    "tags": []
   },
   "outputs": [],
   "source": [
    "crp = []\n",
    "for sub, ahhh in evs.groupby(['subject']):\n",
    "    sub_crp = []\n",
    "    for sess, beh in ahhh.groupby('session'):\n",
    "        sess_crp = pd.DataFrame(columns = ['rep_lag', 'prob'] )\n",
    "        act_tran = np.zeros(5)\n",
    "        pos_tran = np.zeros(5)\n",
    "        for l, df in beh.groupby('list'):\n",
    "            df.drop_duplicates('item_name')\n",
    "            rec_evs = df[df['type'] == 'REC_WORD']\n",
    "            tran = rec_evs.rep_tran.to_numpy()\n",
    "            repeats = rec_evs.repeats.to_numpy()\n",
    "            num_words = [3, 3, 6]\n",
    "\n",
    "            for i, rep in enumerate(repeats):\n",
    "                num_words[rep-1] -= 1\n",
    "                try: \n",
    "                    act_tran[repeats[i+1] - rep + 2] += num_words[repeats[i+1]-1]\n",
    "                    for j, val in enumerate(num_words):\n",
    "                        pos_tran[(j+1) - rep + 2] += val\n",
    "                except Exception as e: continue\n",
    "                \n",
    "        sess_crp['prob'] = act_tran/pos_tran\n",
    "        sess_crp['rep_lag'] = pd.Series([-2, -1, 0,1,2])\n",
    "        sess_crp['subject'] = pd.Series(sub, index = sess_crp.index)\n",
    "        sess_crp['session'] = pd.Series(sess, index = sess_crp.index)\n",
    "        sub_crp.append(sess_crp)\n",
    "    crp.append(pd.concat(sub_crp))\n",
    "\n",
    "crp = pd.concat(crp).reset_index()"
   ]
  },
  {
   "cell_type": "code",
   "execution_count": 7,
   "id": "b2a6328f-17f1-4e27-bb20-d05b73c31e91",
   "metadata": {},
   "outputs": [
    {
     "data": {
      "text/plain": [
       "<matplotlib.axes._subplots.AxesSubplot at 0x2acf9c0350d0>"
      ]
     },
     "execution_count": 7,
     "metadata": {},
     "output_type": "execute_result"
    },
    {
     "data": {
      "image/png": "[encoded data removed]",
      "text/plain": [
       "<Figure size 504x504 with 1 Axes>"
      ]
     },
     "metadata": {
      "needs_background": "light"
     },
     "output_type": "display_data"
    }
   ],
   "source": [
    "set_axes(fontsize=30, xticks = [-2, -1, 0, 1, 2])\n",
    "plt.ylim(bottom=0)\n",
    "sns.lineplot(data=crp, x = 'rep_lag', y = 'prob', err_style='bars', linewidth = 3, color = 'black', err_kws = error_bars)\n",
    "sns.scatterplot(data= crp.groupby('rep_lag').mean().reset_index(), x = 'rep_lag', y = 'prob', s = 125, color= 'black')"
   ]
  },
  {
   "cell_type": "code",
   "execution_count": 8,
   "id": "5c5df2ab-f443-491b-84c8-4dcc276d3eda",
   "metadata": {},
   "outputs": [],
   "source": [
    "crp = []\n",
    "for sub, ahhh in evs.groupby(['subject']):\n",
    "    sub_crp = []\n",
    "    for sess, beh in ahhh.groupby('session'):\n",
    "        sess_crp = pd.DataFrame(columns = ['rep_lag', 'prob'] )\n",
    "        act_tran = np.zeros(5)\n",
    "        pos_tran = np.zeros(5)\n",
    "        for l, df in beh.groupby('list'):\n",
    "            df.drop_duplicates('item_name')\n",
    "            rec_evs = df[df['type'] == 'REC_WORD']\n",
    "            tran = rec_evs.rep_tran.to_numpy()\n",
    "            repeats = rec_evs.repeats.to_numpy()\n",
    "            num_words = [3, 3, 6]\n",
    "\n",
    "            for i, rep in enumerate(repeats):\n",
    "                num_words[rep-1] -= 1\n",
    "                if rep == 1:\n",
    "                    try: \n",
    "                        act_tran[repeats[i+1] - rep + 2] += num_words[repeats[i+1]-1]\n",
    "                        for j, val in enumerate(num_words):\n",
    "                            pos_tran[(j+1) - rep + 2] += val\n",
    "                    except Exception as e: continue\n",
    "        sess_crp['prob'] = act_tran/pos_tran\n",
    "        sess_crp['rep_lag'] = pd.Series([-2, -1, 0,1,2])\n",
    "        sess_crp['subject'] = pd.Series(sub, index = sess_crp.index)\n",
    "        sess_crp['session'] = pd.Series(sess, index = sess_crp.index)\n",
    "        sub_crp.append(sess_crp)\n",
    "    crp.append(pd.concat(sub_crp))\n",
    "\n",
    "crp = pd.concat(crp).reset_index()"
   ]
  },
  {
   "cell_type": "code",
   "execution_count": 9,
   "id": "88bb9d94-5831-4717-937f-06068fd61c1f",
   "metadata": {},
   "outputs": [
    {
     "data": {
      "text/plain": [
       "<matplotlib.axes._subplots.AxesSubplot at 0x2acfa05da150>"
      ]
     },
     "execution_count": 9,
     "metadata": {},
     "output_type": "execute_result"
    },
    {
     "data": {
      "image/png": "[encoded data removed]",
      "text/plain": [
       "<Figure size 504x504 with 1 Axes>"
      ]
     },
     "metadata": {
      "needs_background": "light"
     },
     "output_type": "display_data"
    }
   ],
   "source": [
    "set_axes(fontsize=30, xticks = [-2, -1, 0, 1, 2])\n",
    "_ = plt.ylim(bottom=0)\n",
    "sns.lineplot(data=crp, x = 'rep_lag', y = 'prob', err_style='bars', linewidth = 3, color = 'black', err_kws = error_bars)\n",
    "sns.scatterplot(data= crp.groupby('rep_lag').mean().reset_index(), x = 'rep_lag', y = 'prob', s = 125, color= 'black')"
   ]
  },
  {
   "cell_type": "code",
   "execution_count": 10,
   "id": "2612d5dd-e22c-497a-961c-ec99c37b2c74",
   "metadata": {},
   "outputs": [],
   "source": [
    "crp = []\n",
    "for sub, ahhh in evs.groupby(['subject']):\n",
    "    sub_crp = []\n",
    "    for sess, beh in ahhh.groupby('session'):\n",
    "        sess_crp = pd.DataFrame(columns = ['rep_lag', 'prob'] )\n",
    "        act_tran = np.zeros(5)\n",
    "        pos_tran = np.zeros(5)\n",
    "        for l, df in beh.groupby('list'):\n",
    "            df.drop_duplicates('item_name')\n",
    "            rec_evs = df[df['type'] == 'REC_WORD']\n",
    "            tran = rec_evs.rep_tran.to_numpy()\n",
    "            repeats = rec_evs.repeats.to_numpy()\n",
    "            num_words = [3, 3, 6]\n",
    "\n",
    "            for i, rep in enumerate(repeats):\n",
    "                num_words[rep-1] -= 1\n",
    "                if rep == 2:\n",
    "                    try: \n",
    "                        act_tran[repeats[i+1] - rep + 2] += num_words[repeats[i+1]-1]\n",
    "                        for j, val in enumerate(num_words):\n",
    "                            pos_tran[(j+1) - rep + 2] += val\n",
    "                    except Exception as e: continue\n",
    "        sess_crp['prob'] = act_tran/pos_tran\n",
    "        sess_crp['rep_lag'] = pd.Series([-2, -1, 0,1,2])\n",
    "        sess_crp['subject'] = pd.Series(sub, index = sess_crp.index)\n",
    "        sess_crp['session'] = pd.Series(sess, index = sess_crp.index)\n",
    "        sub_crp.append(sess_crp)\n",
    "    crp.append(pd.concat(sub_crp))\n",
    "\n",
    "crp = pd.concat(crp).reset_index()"
   ]
  },
  {
   "cell_type": "code",
   "execution_count": 11,
   "id": "9a8d9c5d-6fb2-4e17-b427-d90e3dfff634",
   "metadata": {},
   "outputs": [
    {
     "data": {
      "text/plain": [
       "<matplotlib.axes._subplots.AxesSubplot at 0x2acfa08dd310>"
      ]
     },
     "execution_count": 11,
     "metadata": {},
     "output_type": "execute_result"
    },
    {
     "data": {
      "image/png": "[encoded data removed]",
      "text/plain": [
       "<Figure size 504x504 with 1 Axes>"
      ]
     },
     "metadata": {
      "needs_background": "light"
     },
     "output_type": "display_data"
    }
   ],
   "source": [
    "set_axes(fontsize=30, xticks = [-2, -1, 0, 1, 2], ylim = [0, 1])\n",
    "sns.lineplot(data=crp, x = 'rep_lag', y = 'prob', err_style='bars', linewidth = 3, color = 'black', err_kws = error_bars)\n",
    "sns.scatterplot(data= crp.groupby('rep_lag').mean().reset_index(), x = 'rep_lag', y = 'prob', s = 125, color= 'black')"
   ]
  },
  {
   "cell_type": "code",
   "execution_count": 12,
   "id": "858a3961-ddbd-47cb-b6e9-8c2099661b89",
   "metadata": {},
   "outputs": [],
   "source": [
    "crp = []\n",
    "for sub, ahhh in evs.groupby(['subject']):\n",
    "    sub_crp = []\n",
    "    for sess, beh in ahhh.groupby('session'):\n",
    "        sess_crp = pd.DataFrame(columns = ['rep_lag', 'prob'] )\n",
    "        act_tran = np.zeros(5)\n",
    "        pos_tran = np.zeros(5)\n",
    "        for l, df in beh.groupby('list'):\n",
    "            df.drop_duplicates('item_name')\n",
    "            rec_evs = df[df['type'] == 'REC_WORD']\n",
    "            tran = rec_evs.rep_tran.to_numpy()\n",
    "            repeats = rec_evs.repeats.to_numpy()\n",
    "            num_words = [3, 3, 6]\n",
    "\n",
    "            for i, rep in enumerate(repeats):\n",
    "                num_words[rep-1] -= 1\n",
    "                if rep == 3:\n",
    "                    try: \n",
    "                        act_tran[repeats[i+1] - rep + 2] += num_words[repeats[i+1]-1]\n",
    "                        for j, val in enumerate(num_words):\n",
    "                            pos_tran[(j+1) - rep + 2] += val\n",
    "                    except Exception as e: continue\n",
    "        sess_crp['prob'] = act_tran/pos_tran\n",
    "        sess_crp['rep_lag'] = pd.Series([-2, -1, 0,1,2])\n",
    "        sess_crp['subject'] = pd.Series(sub, index = sess_crp.index)\n",
    "        sess_crp['session'] = pd.Series(sess, index = sess_crp.index)\n",
    "        sub_crp.append(sess_crp)\n",
    "    crp.append(pd.concat(sub_crp))\n",
    "\n",
    "crp = pd.concat(crp).reset_index()"
   ]
  },
  {
   "cell_type": "code",
   "execution_count": 13,
   "id": "8efe5b0b-8146-4094-bbea-bf9d7119c53b",
   "metadata": {},
   "outputs": [
    {
     "data": {
      "text/plain": [
       "<matplotlib.axes._subplots.AxesSubplot at 0x2acf9f91a450>"
      ]
     },
     "execution_count": 13,
     "metadata": {},
     "output_type": "execute_result"
    },
    {
     "data": {
      "image/png": "[encoded data removed]",
      "text/plain": [
       "<Figure size 504x504 with 1 Axes>"
      ]
     },
     "metadata": {
      "needs_background": "light"
     },
     "output_type": "display_data"
    }
   ],
   "source": [
    "set_axes(fontsize=30, xticks = [-2, -1, 0, 1, 2], ylim = [0, 1])\n",
    "sns.lineplot(data=crp, x = 'rep_lag', y = 'prob', err_style='bars', linewidth = 3, color = 'black', err_kws = error_bars)\n",
    "sns.scatterplot(data= crp.groupby('rep_lag').mean().reset_index(), x = 'rep_lag', y = 'prob', s = 125, color= 'black')"
   ]
  },
  {
   "cell_type": "raw",
   "id": "7efa4120-6857-48c6-9124-520781cdad71",
   "metadata": {
    "tags": []
   },
   "source": [
    "crp = []\n",
    "for sub, ahhh in evs.groupby(['subject']):\n",
    "    sub_crp = []\n",
    "    for sess, beh in ahhh.groupby('session'):\n",
    "        sess_crp = pd.DataFrame(columns = ['rep_lag', 'prob'] )\n",
    "        act_tran = np.zeros(3)\n",
    "        pos_tran = np.zeros(3)\n",
    "        for l, df in beh.groupby('list'):\n",
    "            df.drop_duplicates('item_name')\n",
    "            rec_evs = df[df['type'] == 'REC_WORD']\n",
    "            tran = rec_evs.rep_tran.dropna().to_numpy()\n",
    "            for i in tran:\n",
    "                try:\n",
    "                    act_tran[int(i)] += 1\n",
    "                except:\n",
    "                    continue\n",
    "            repeats = rec_evs.repeats.to_numpy()\n",
    "            num_words = [3, 3, 6]\n",
    "            \n",
    "            for i in repeats:\n",
    "                num_words[i-1] -= 1\n",
    "                for j, val in enumerate(num_words):\n",
    "                    pos_tran[abs(i-j) - 1] += val\n",
    "        sess_crp['prob'] = act_tran/pos_tran\n",
    "        sess_crp['rep_lag'] = pd.Series([0,1,2])\n",
    "        sess_crp['subject'] = pd.Series(sub, index = sess_crp.index)\n",
    "        sess_crp['session'] = pd.Series(sess, index = sess_crp.index)\n",
    "        sub_crp.append(sess_crp)\n",
    "    crp.append(pd.concat(sub_crp))\n",
    "\n",
    "crp = pd.concat(crp).reset_index()"
   ]
  },
  {
   "cell_type": "code",
   "execution_count": 230,
   "id": "54a0f12f-a695-4f2b-b96d-54913457bb5e",
   "metadata": {},
   "outputs": [
    {
     "name": "stdout",
     "output_type": "stream",
     "text": [
      "[295. 261. 371.   0.   0.]\n"
     ]
    }
   ],
   "source": [
    "print(pos_tran)"
   ]
  },
  {
   "cell_type": "code",
   "execution_count": 138,
   "id": "58ad496b-e545-4550-8d6e-f6898d92ab24",
   "metadata": {},
   "outputs": [
    {
     "name": "stdout",
     "output_type": "stream",
     "text": [
      "[ 0.  0. 14. 25. 34.]\n"
     ]
    }
   ],
   "source": [
    "print(act_tran)"
   ]
  },
  {
   "cell_type": "code",
   "execution_count": null,
   "id": "e72da8ea-0ec5-4b7b-872d-838ffd38c526",
   "metadata": {},
   "outputs": [],
   "source": []
  }
 ],
 "metadata": {
  "kernelspec": {
   "display_name": "environmentname",
   "language": "python",
   "name": "environmentname"
  },
  "language_info": {
   "codemirror_mode": {
    "name": "ipython",
    "version": 3
   },
   "file_extension": ".py",
   "mimetype": "text/x-python",
   "name": "python",
   "nbconvert_exporter": "python",
   "pygments_lexer": "ipython3",
   "version": "3.7.9"
  }
 },
 "nbformat": 4,
 "nbformat_minor": 5
}
