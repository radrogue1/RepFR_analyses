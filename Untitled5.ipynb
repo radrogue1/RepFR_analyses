{
 "cells": [
  {
   "cell_type": "code",
   "execution_count": 1,
   "id": "656a94df-3b04-41aa-a2b6-4de6b6605923",
   "metadata": {},
   "outputs": [],
   "source": [
    "import cmlreaders as cml\n",
    "import matplotlib.pyplot as plt\n",
    "import seaborn as sns\n",
    "import numpy as np\n",
    "import pandas as pd\n",
    "import warnings; warnings.simplefilter('ignore')\n",
    "pd.options.display.max_columns=None\n",
    "pd.options.display.max_rows=100\n",
    "from IPython.display import display, Markdown, HTML\n",
    "import pandas_to_pybeh as pb\n",
    "from tqdm import tqdm_notebook as lol\n",
    "import time\n",
    "import scipy\n",
    "import rep_pybeh as rpb\n",
    "from plotting import *\n",
    "error_bars ={'elinewidth':1.5, 'capsize':3, 'capthick':1.5}\n",
    "\n",
    "import os\n",
    "root = '/data/eeg/scalp/ltp/'\n",
    "experiment = 'ltpRepFR'\n",
    "with open(os.path.join(root, experiment, 'wordpool.txt'), \"r\") as f:\n",
    "    wordpool = [w.strip().upper() for w in f.readlines()]\n",
    "wordpool.pop(0)\n",
    "\n",
    "item_num_df = pd.DataFrame({'item_name': wordpool}).reset_index()\n",
    "item_num_df.rename(columns={'index': 'item_num'}, inplace=True)"
   ]
  },
  {
   "cell_type": "code",
   "execution_count": 2,
   "id": "e150a743-2f10-49cc-8345-b4f819a7f708",
   "metadata": {},
   "outputs": [],
   "source": [
    "evs = []\n",
    "data = cml.get_data_index(kind = 'ltp'); data = data[data['experiment'] == 'ltpRepFR']\n",
    "for subject, df in data.groupby('subject'):\n",
    "    for session in pd.unique(df['session']):\n",
    "        r = cml.CMLReader(subject=subject, experiment='ltpRepFR', session=session)\n",
    "        temp = r.load('all_events')\n",
    "        evs.append(temp)\n",
    "evs = pd.concat(evs)"
   ]
  },
  {
   "cell_type": "code",
   "execution_count": 3,
   "id": "b8ac3783-5ab2-403c-80fd-e6328d170c9e",
   "metadata": {},
   "outputs": [],
   "source": [
    "evs = evs[evs.list != 0]\n",
    "word_evs = evs[evs.type=='WORD']\n",
    "word_evs = word_evs.loc[word_evs.repeats != -999]\n",
    "rec_evs = evs[evs.type=='REC_WORD']\n",
    "words = word_evs.item_name.unique()"
   ]
  },
  {
   "cell_type": "code",
   "execution_count": 23,
   "id": "99950268-0a85-4b4d-9186-9049446f5c78",
   "metadata": {},
   "outputs": [],
   "source": [
    "listno = np.zeros(26)\n",
    "for i, df in evs.groupby(['subject', 'session']):\n",
    "    word_evs = df[df.type == 'WORD']\n",
    "    word_evs = word_evs.loc[word_evs.repeats != -999]\n",
    "    word_evs.drop_duplicates('item_name', inplace=True)\n",
    "    ffr = df[df.list == 26]\n",
    "    ffr = ffr[ffr.item_name.isin(words)]\n",
    "    ffr.drop_duplicates('item_name', inplace=True)\n",
    "    ffr = ffr.set_index(['item_name'])\n",
    "    ffr['list'] = word_evs.set_index('item_name').list\n",
    "    listno[int(ffr.list.iloc[0])] +=1\n",
    "listno[0] =np.nan"
   ]
  },
  {
   "cell_type": "code",
   "execution_count": 15,
   "id": "66bdb964-9783-4317-acf0-ab46c0e10c1b",
   "metadata": {},
   "outputs": [
    {
     "name": "stdout",
     "output_type": "stream",
     "text": [
      "('LTP442', 2)\n"
     ]
    }
   ],
   "source": [
    "one = np.zeros(26)\n",
    "for i, df in evs.groupby(['subject', 'session']):\n",
    "    word_evs = df[df.type == 'WORD']\n",
    "    word_evs = word_evs.loc[word_evs.repeats != -999]\n",
    "    word_evs.drop_duplicates('item_name', inplace=True)\n",
    "    ffr = df[df.list == 26]\n",
    "    ffr = ffr[ffr.item_name.isin(words)]\n",
    "    ffr = ffr[ffr.repeats==1]\n",
    "    ffr.drop_duplicates('item_name', inplace=True)\n",
    "    ffr = ffr.set_index(['item_name'])\n",
    "    ffr['list'] = word_evs.set_index('item_name').list\n",
    "    try: one[int(ffr.list.iloc[0])] +=1\n",
    "    except: print(i)\n",
    "one[0] =np.nan  "
   ]
  },
  {
   "cell_type": "code",
   "execution_count": 16,
   "id": "6a1ea777-9636-45ce-b7d2-ebce3e5b7edd",
   "metadata": {},
   "outputs": [
    {
     "name": "stdout",
     "output_type": "stream",
     "text": [
      "('LTP447', 3)\n",
      "('LTP447', 6)\n",
      "('LTP447', 7)\n"
     ]
    }
   ],
   "source": [
    "two = np.zeros(26)\n",
    "for i, df in evs.groupby(['subject', 'session']):\n",
    "    word_evs = df[df.type == 'WORD']\n",
    "    word_evs = word_evs.loc[word_evs.repeats != -999]\n",
    "    word_evs.drop_duplicates('item_name', inplace=True)\n",
    "    ffr = df[df.list == 26]\n",
    "    ffr = ffr[ffr.item_name.isin(words)]\n",
    "    ffr = ffr[ffr.repeats==2]\n",
    "    ffr.drop_duplicates('item_name', inplace=True)\n",
    "    ffr = ffr.set_index(['item_name'])\n",
    "    ffr['list'] = word_evs.set_index('item_name').list\n",
    "    try: two[int(ffr.list.iloc[0])] +=1\n",
    "    except: print(i)\n",
    "two[0] =np.nan"
   ]
  },
  {
   "cell_type": "code",
   "execution_count": 17,
   "id": "860feebd-f822-40b8-ae33-3c1879315cda",
   "metadata": {},
   "outputs": [
    {
     "name": "stdout",
     "output_type": "stream",
     "text": [
      "('LTP447', 4)\n"
     ]
    }
   ],
   "source": [
    "thr = np.zeros(26)\n",
    "for i, df in evs.groupby(['subject', 'session']):\n",
    "    word_evs = df[df.type == 'WORD']\n",
    "    word_evs = word_evs.loc[word_evs.repeats != -999]\n",
    "    word_evs.drop_duplicates('item_name', inplace=True)\n",
    "    ffr = df[df.list == 26]\n",
    "    ffr = ffr[ffr.item_name.isin(words)]\n",
    "    ffr = ffr[ffr.repeats==3]\n",
    "    ffr.drop_duplicates('item_name', inplace=True)\n",
    "    ffr = ffr.set_index(['item_name'])\n",
    "    ffr['list'] = word_evs.set_index('item_name').list\n",
    "    try: thr[int(ffr.list.iloc[0])] +=1\n",
    "    except: print(i)\n",
    "thr[0] =np.nan"
   ]
  },
  {
   "cell_type": "code",
   "execution_count": 21,
   "id": "95547d4e-c7c7-448d-8321-a3804ae3c410",
   "metadata": {},
   "outputs": [
    {
     "data": {
      "text/plain": [
       "<matplotlib.legend.Legend at 0x2b2b89961b10>"
      ]
     },
     "execution_count": 21,
     "metadata": {},
     "output_type": "execute_result"
    },
    {
     "data": {
      "image/png": "[encoded data removed]",
      "text/plain": [
       "<Figure size 792x504 with 1 Axes>"
      ]
     },
     "metadata": {
      "needs_background": "light"
     },
     "output_type": "display_data"
    }
   ],
   "source": [
    "set_axes(figsize = (11, 7), xticks = np.arange(1,26, 1))\n",
    "\n",
    "plt.plot(thr, label = \"average\", marker = 'o')\n",
    "plt.legend()"
   ]
  },
  {
   "cell_type": "code",
   "execution_count": 9,
   "id": "1d94fc13-371d-42bb-8e70-c8e5144012a1",
   "metadata": {},
   "outputs": [],
   "source": [
    "evs = []\n",
    "data = cml.get_data_index(kind = 'ltp'); data = data[data['experiment'] == 'ltpRepFR']\n",
    "for subject, df in data.groupby('subject'):\n",
    "    for session in pd.unique(df['session']):\n",
    "        r = cml.CMLReader(subject=subject, experiment='ltpRepFR', session=session)\n",
    "        temp = r.load('all_events')\n",
    "        evs.append(temp)\n",
    "evs = pd.concat(evs)"
   ]
  },
  {
   "cell_type": "code",
   "execution_count": 10,
   "id": "3485bce6-8bc8-4ee2-a741-dae6e3c0a4a5",
   "metadata": {},
   "outputs": [],
   "source": [
    "evs = evs[evs.list != 0]\n",
    "word_evs = evs[evs.type=='WORD']\n",
    "word_evs = word_evs.loc[word_evs.repeats != -999]\n",
    "rec_evs = evs[evs.type=='REC_WORD']\n",
    "words = word_evs.item_name.unique()"
   ]
  },
  {
   "cell_type": "code",
   "execution_count": 11,
   "id": "88da86c9-3d97-46a6-b887-4701a7675665",
   "metadata": {},
   "outputs": [
    {
     "data": {
      "text/plain": [
       "subject  session\n",
       "LTP441   0          138\n",
       "         2          182\n",
       "         3          195\n",
       "         4          199\n",
       "         5          183\n",
       "         6          208\n",
       "         7          223\n",
       "         8          185\n",
       "         9          197\n",
       "LTP442   0          185\n",
       "         1          155\n",
       "         2          186\n",
       "         3          161\n",
       "         4          198\n",
       "         5          192\n",
       "         6          187\n",
       "         7          200\n",
       "         8          155\n",
       "         9          226\n",
       "LTP443   0          219\n",
       "         1          240\n",
       "         2          217\n",
       "         3          218\n",
       "         4          197\n",
       "         5          230\n",
       "         6          219\n",
       "         7          230\n",
       "         8          233\n",
       "         9          253\n",
       "LTP444   0          191\n",
       "         1          204\n",
       "         2          223\n",
       "         3          237\n",
       "         4          209\n",
       "         5          275\n",
       "         6          232\n",
       "         7          211\n",
       "         8          240\n",
       "         9          188\n",
       "LTP445   0          105\n",
       "         1          141\n",
       "         2          117\n",
       "         3          135\n",
       "         4          127\n",
       "         5          136\n",
       "         6          126\n",
       "         7          153\n",
       "         9          214\n",
       "LTP446   0          177\n",
       "         1          210\n",
       "         2          215\n",
       "         3          236\n",
       "         4          220\n",
       "         5          243\n",
       "         6          225\n",
       "         7          237\n",
       "         8          223\n",
       "         9          228\n",
       "LTP447   0          168\n",
       "         1          204\n",
       "         2          198\n",
       "         3          213\n",
       "         4          198\n",
       "         5          225\n",
       "         6          211\n",
       "         7          199\n",
       "         8          202\n",
       "         9          231\n",
       "Name: item_name, dtype: int64"
      ]
     },
     "execution_count": 11,
     "metadata": {},
     "output_type": "execute_result"
    }
   ],
   "source": [
    "ffr = evs[evs.list ==26]\n",
    "ffr = ffr[ffr.item_name.isin(words)]\n",
    "ffr = ffr.drop_duplicates(['subject', 'session', 'item_name'])\n",
    "ffr.groupby(['subject','session']).item_name.count()"
   ]
  },
  {
   "cell_type": "code",
   "execution_count": null,
   "id": "3249810c-fd7f-4d88-bf7c-222cf30c2065",
   "metadata": {},
   "outputs": [],
   "source": []
  }
 ],
 "metadata": {
  "kernelspec": {
   "display_name": "environmentname",
   "language": "python",
   "name": "environmentname"
  },
  "language_info": {
   "codemirror_mode": {
    "name": "ipython",
    "version": 3
   },
   "file_extension": ".py",
   "mimetype": "text/x-python",
   "name": "python",
   "nbconvert_exporter": "python",
   "pygments_lexer": "ipython3",
   "version": "3.7.9"
  }
 },
 "nbformat": 4,
 "nbformat_minor": 5
}
