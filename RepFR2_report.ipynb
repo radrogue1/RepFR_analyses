{
 "cells": [
  {
   "cell_type": "code",
   "execution_count": null,
   "metadata": {},
   "outputs": [],
   "source": [
    "Instructions\n",
    "1. Change Subject Code in first cell, Select this cell and run \"Run all below selected cell\"\n",
    "2. Allow program to fully run then SAVE THE FILE\n",
    "3. # Run these commands to get HTML File of Report \n",
    "export SUBJECT = subject code\n",
    "jupyter nbconvert --to html --no-input RepFR_report.ipynb --output $SUBJECT\\_repfr2_report.html\n"
   ]
  },
  {
   "cell_type": "code",
   "execution_count": 130,
   "metadata": {
    "tags": []
   },
   "outputs": [],
   "source": [
    "import cmlreaders as cml\n",
    "import matplotlib.pyplot as plt\n",
    "import seaborn as sns\n",
    "import numpy as np\n",
    "import pandas as pd\n",
    "import warnings; warnings.simplefilter('ignore')\n",
    "pd.options.display.max_columns=None\n",
    "pd.options.display.max_rows=100\n",
    "from IPython.display import display, Markdown, HTML\n",
    "import pandas_to_pybeh as pb\n",
    "import matplotlib.ticker as mticker\n",
    "import time\n",
    "import glob\n",
    "from tqdm import tqdm_notebook as lol\n",
    "import repfr_crps as rcrp\n",
    "from plotting import *"
   ]
  },
  {
   "cell_type": "code",
   "execution_count": 131,
   "metadata": {},
   "outputs": [],
   "source": [
    "data = cml.get_data_index(kind = 'r1'); data = data[data['experiment'] == 'RepFR2']\n",
    "# print(\"Size of Dataset:\")\n",
    "# print(len(data), 'sessions')\n",
    "# print(len(data['subject'].unique()), 'subjects')\n",
    "# print(data['subject'].unique())\n",
    "# data[['subject', 'session']].groupby('subject').agg('count').rename(columns={'session':'# of sessions'})\n",
    "# data"
   ]
  },
  {
   "cell_type": "code",
   "execution_count": 132,
   "metadata": {},
   "outputs": [],
   "source": [
    "subject = 'R1579T'\n",
    "# session = 0\n",
    "exp = 'RepFR2'\n",
    "localization = 0\n",
    "montage = 0"
   ]
  },
  {
   "cell_type": "code",
   "execution_count": 133,
   "metadata": {},
   "outputs": [
    {
     "data": {
      "text/markdown": [
       "# R1579T RepFR2 Report"
      ],
      "text/plain": [
       "<IPython.core.display.Markdown object>"
      ]
     },
     "metadata": {},
     "output_type": "display_data"
    }
   ],
   "source": [
    "display(\n",
    "    Markdown(\n",
    "        '# '+ subject + ' RepFR2 Report'\n",
    "    )\n",
    ")"
   ]
  },
  {
   "cell_type": "code",
   "execution_count": 134,
   "metadata": {},
   "outputs": [],
   "source": [
    "evs = []\n",
    "data = cml.get_data_index(kind = 'r1'); data = data[data['experiment'] == 'RepFR2']; data = data[data['subject'] == subject]\n",
    "for session in pd.unique(data['session']):\n",
    "    r = cml.CMLReader(subject=subject, experiment='RepFR2', session=session, localization=localization, montage=montage)\n",
    "    temp = r.load('task_events')\n",
    "    evs.append(temp)\n",
    "evs = pd.concat(evs)\n",
    "evs.reset_index(inplace=True)\n",
    "evs.drop(['index'], inplace=True, axis = 1)\n",
    "word_evs = evs[evs.type=='WORD']\n",
    "rec_evs = evs[evs.phase=='retrieval']\n"
   ]
  },
  {
   "cell_type": "code",
   "execution_count": 157,
   "metadata": {},
   "outputs": [],
   "source": [
    "import os\n",
    "import json\n",
    "# pd.set_option('display.max_rows', None)\n",
    "log_dir = '/data10/RAM/subjects/' + subject +'/behavioral/' + exp + '/*/session.jsonl'\n",
    "log_dir_list = glob.glob(log_dir)\n",
    "heart_beat = []\n",
    "jsonl = []\n",
    "for log_dir in log_dir_list:\n",
    "    for i, char in enumerate(log_dir):\n",
    "        if(char == '_'):\n",
    "            sess = (log_dir[i+1])\n",
    "            break\n",
    "\n",
    "    with open(log_dir, 'r') as fr:\n",
    "        lines = fr.readlines()\n",
    "        for line in lines:\n",
    "            try:\n",
    "                jsonl.append(json.loads(line))\n",
    "            except Exception as e:\n",
    "                continue       \n",
    "    temp = pd.DataFrame(jsonl)\n",
    "    temp['session'] = pd.Series(int(sess), index = temp.index)\n",
    "    heart_beat.append(temp)\n",
    "\n",
    "heart_beat = pd.concat(heart_beat)\n",
    "\n",
    "heart_beat['message'] = heart_beat.data.apply(lambda x: dict.get(x, 'message'))\n",
    "heart_beat.dropna(inplace=True)\n",
    "heart_beat['type'] = heart_beat.message.apply(lambda x: dict.get(x, 'type'))\n",
    "heart_beat['data'] = heart_beat.message.apply(lambda x: dict.get(x, 'data'))\n",
    "heart_beat = heart_beat[heart_beat.type.isin(['HEARTBEAT', 'HEARTBEAT_OK'])]\n",
    "heart_beat['count'] = heart_beat.data.apply(lambda x: dict.get(x, 'count'))\n",
    "heart_beat = heart_beat[heart_beat['count'] > 20]\n"
   ]
  },
  {
   "cell_type": "code",
   "execution_count": 153,
   "metadata": {},
   "outputs": [
    {
     "name": "stdout",
     "output_type": "stream",
     "text": [
      "Minimum Latency: 0.69, Maximum Latency: 230.94\n",
      "Tenth Percentile Latency: 0.97, Ninetieth Percentile Latency: 10.03\n"
     ]
    },
    {
     "data": {
      "image/png": "[encoded data removed]",
      "text/plain": [
       "<Figure size 504x360 with 1 Axes>"
      ]
     },
     "metadata": {
      "needs_background": "light"
     },
     "output_type": "display_data"
    }
   ],
   "source": [
    "for sess, df in heart_beat.groupby('session'):    \n",
    "    bpm_sent = pd.DataFrame()\n",
    "    bpm_done = pd.DataFrame()\n",
    "    bpm_sent = df[df.type == 'HEARTBEAT']\n",
    "    \n",
    "    bpm_sent.drop_duplicates('count', inplace = True, keep = 'first')\n",
    "\n",
    "    bpm_done = df[df.type == 'HEARTBEAT_OK']\n",
    "    bpm_done.drop_duplicates('count', inplace = True, keep = 'first')\n",
    "    bpm_done.set_index('count', inplace = True)\n",
    "    bpm_sent.set_index('count', inplace = True)\n",
    "    bpm_err = bpm_done.time.astype(float) - bpm_sent.time.astype(float)\n",
    "    bpm_err = bpm_err[bpm_err.index > 20]\n",
    "    _max = round(bpm_err.max(), 2)\n",
    "    _min = round(bpm_err.min(), 2)\n",
    "    ten = round(bpm_err.quantile(.10), 2)\n",
    "    ninety = round(bpm_err.quantile(.90), 2)\n",
    "    print('Minimum Latency:', str(_min) + ',', 'Maximum Latency:', _max)\n",
    "    print('Tenth Percentile Latency:', str(ten)+',', 'Ninetieth Percentile Latency:', ninety)\n",
    "    \n",
    "    norm = bpm_err[bpm_err<2].count()\n",
    "    bpm_err = bpm_err[bpm_err > 2]\n",
    "    no_norm = bpm_err[bpm_err > 2].count()\n",
    "    percent = no_norm/(norm+no_norm) * 100\n",
    "    percent = round(percent, 2)\n",
    "        \n",
    "    set_axes(figsize = (7, 5))\n",
    "    _max = int(round(bpm_err.max()))\n",
    "\n",
    "    bins = range(_max+2)\n",
    "    bpm_err.plot.hist(bins = bins, label = 'Session ' + str(sess), color = 'black')\n",
    "    plt.legend()\n",
    "    plt.title(subject + ' Latency > 2ms (' + str(percent)+ ' Percent of HBs)')\n",
    "    plt.xlabel('Latency (ms)')\n",
    "#     plt.text(bpm_err.max())\n",
    "# plt.savefig('latency/'+subject+'latency_unfilt.pdf')\n",
    "# non_zero = np.where(bpm_err != 0)[0]\n",
    "# non_zero_err = bpm_err.iloc[non_zero]\n",
    "# # non_zero_err.plot.hist()\n",
    "# non_zero_err[non_zero_err['Time Discrepancy'] > 100]\n",
    "# bpm_done[bpm_done['time'] > 1e13]"
   ]
  },
  {
   "cell_type": "code",
   "execution_count": null,
   "metadata": {},
   "outputs": [],
   "source": [
    "# where = bpm_err.reset_index()['count'].to_numpy()\n",
    "# bad = beh\n",
    "# # events[~events.type.str.contains('HEART')]\n",
    "# bad['data'] = bad.message.apply(lambda x: dict.get(x, 'data'))\n",
    "# bad['count'] = bad.data.apply(lambda x: dict.get(x, 'count'))\n",
    "# indeces = bad[bad['count'].isin(where)].index - 1\n",
    "# b4_bad = bad[bad.index.isin(indeces)]\n",
    "# b4_bad.query('type != \"HEARTBEAT\"', inplace = True)\n",
    "# b4_bad.groupby('type')['data'].count().reset_index().rename(columns={'data' : 'count'}).set_index('type')\n"
   ]
  },
  {
   "cell_type": "code",
   "execution_count": null,
   "metadata": {},
   "outputs": [],
   "source": [
    "sess = evs.loc[evs['list'] != -999]\n",
    "sess = sess.loc[sess['type'] == 'WORD']\n",
    "sessions = sess.groupby('session')['list'].unique()\n",
    "sess_codes = []\n",
    "for sess in sessions.index:\n",
    "    sess_codes.append(subject+':'+exp+':'+str(sess))\n",
    "\n",
    "ddays = []\n",
    "for sess in sessions:\n",
    "    ddays.append(len(sess))\n",
    "\n",
    "timestamp = evs.groupby('session').mstime.first()/1000\n",
    "dates = []\n",
    "for sec in timestamp:\n",
    "    dates.append(time.strftime('%Y-%m-%d', time.localtime(sec)))\n",
    "\n",
    "minutes = round((evs.groupby('session').mstime.last() - evs.groupby('session').mstime.first())/1000/60, 2)\n",
    "minutes = minutes.reset_index()\n",
    "\n",
    "sessions = pd.DataFrame()\n",
    "sessions['Session Code'] = pd.Series(sess_codes)\n",
    "sessions['Date'] = pd.Series(dates)\n",
    "sessions['Length [min]'] =  minutes['mstime']\n",
    "\n",
    "sessions['Lists'] = pd.Series(ddays)\n",
    "total_lists = sessions.Lists.sum()\n",
    "\n",
    "sessions = sessions.style.hide_index()\n",
    "sessions"
   ]
  },
  {
   "cell_type": "code",
   "execution_count": null,
   "metadata": {},
   "outputs": [],
   "source": [
    "rec_evs = []\n",
    "for i, df in evs.groupby('list'):\n",
    "    words = df[df.type == 'WORD'].item_num.unique()\n",
    "    rec_df = df[df.type == 'REC_WORD']\n",
    "    rec_df['correct'] = pd.Series(False, rec_df.index)\n",
    "    correct = rec_df[rec_df.item_num.isin(words)].index\n",
    "    for j in correct:\n",
    "        rec_df.loc[j, 'correct'] = True\n",
    "    rec_evs.append(rec_df)\n",
    "rec_evs = pd.concat(rec_evs)\n",
    "np.where(evs.index.duplicated() == True)\n"
   ]
  },
  {
   "cell_type": "code",
   "execution_count": 1,
   "metadata": {},
   "outputs": [
    {
     "ename": "NameError",
     "evalue": "name 'rec_evs' is not defined",
     "output_type": "error",
     "traceback": [
      "\u001b[0;31m---------------------------------------------------------------------------\u001b[0m",
      "\u001b[0;31mNameError\u001b[0m                                 Traceback (most recent call last)",
      "\u001b[0;32m<ipython-input-1-76f2650e9e5a>\u001b[0m in \u001b[0;36m<module>\u001b[0;34m()\u001b[0m\n\u001b[1;32m      1\u001b[0m \u001b[0mwanted\u001b[0m \u001b[0;34m=\u001b[0m \u001b[0;34m[\u001b[0m\u001b[0;34m'REC_START'\u001b[0m\u001b[0;34m,\u001b[0m \u001b[0;34m'REC_END'\u001b[0m\u001b[0;34m,\u001b[0m \u001b[0;34m'STIM'\u001b[0m\u001b[0;34m,\u001b[0m \u001b[0;34m'REC_WORD'\u001b[0m\u001b[0;34m]\u001b[0m\u001b[0;34m\u001b[0m\u001b[0;34m\u001b[0m\u001b[0m\n\u001b[0;32m----> 2\u001b[0;31m \u001b[0mrec_ind\u001b[0m \u001b[0;34m=\u001b[0m \u001b[0mrec_evs\u001b[0m\u001b[0;34m.\u001b[0m\u001b[0mindex\u001b[0m\u001b[0;34m\u001b[0m\u001b[0;34m\u001b[0m\u001b[0m\n\u001b[0m\u001b[1;32m      3\u001b[0m \u001b[0mevs\u001b[0m\u001b[0;34m.\u001b[0m\u001b[0mloc\u001b[0m\u001b[0;34m[\u001b[0m\u001b[0mrec_ind\u001b[0m\u001b[0;34m,\u001b[0m \u001b[0;34m'correct'\u001b[0m\u001b[0;34m]\u001b[0m \u001b[0;34m=\u001b[0m \u001b[0mrec_evs\u001b[0m\u001b[0;34m[\u001b[0m\u001b[0;34m'correct'\u001b[0m\u001b[0;34m]\u001b[0m\u001b[0;34m\u001b[0m\u001b[0;34m\u001b[0m\u001b[0m\n\u001b[1;32m      4\u001b[0m \u001b[0mstim\u001b[0m \u001b[0;34m=\u001b[0m \u001b[0mevs\u001b[0m\u001b[0;34m[\u001b[0m\u001b[0mevs\u001b[0m\u001b[0;34m.\u001b[0m\u001b[0mtype\u001b[0m\u001b[0;34m.\u001b[0m\u001b[0misin\u001b[0m\u001b[0;34m(\u001b[0m\u001b[0mwanted\u001b[0m\u001b[0;34m)\u001b[0m\u001b[0;34m]\u001b[0m\u001b[0;34m\u001b[0m\u001b[0;34m\u001b[0m\u001b[0m\n\u001b[1;32m      5\u001b[0m \u001b[0mstim\u001b[0m \u001b[0;34m=\u001b[0m \u001b[0mstim\u001b[0m\u001b[0;34m[\u001b[0m\u001b[0mstim\u001b[0m\u001b[0;34m.\u001b[0m\u001b[0mphase\u001b[0m \u001b[0;34m!=\u001b[0m \u001b[0;34m'encoding'\u001b[0m\u001b[0;34m]\u001b[0m\u001b[0;34m\u001b[0m\u001b[0;34m\u001b[0m\u001b[0m\n",
      "\u001b[0;31mNameError\u001b[0m: name 'rec_evs' is not defined"
     ]
    }
   ],
   "source": [
    "wanted = ['REC_START', 'REC_END', 'STIM', 'REC_WORD']\n",
    "rec_ind = rec_evs.index\n",
    "evs.loc[rec_ind, 'correct'] = rec_evs['correct']\n",
    "stim = evs[evs.type.isin(wanted)]\n",
    "stim = stim[stim.phase != 'encoding']\n",
    "rec_stim = []\n",
    "no_rec_stim = []\n",
    "for i, df in stim.groupby(['session', 'list']):\n",
    "    if('STIM' in df.type.unique()):\n",
    "        df['rec_time'] = df.mstime - df.mstime.iloc[0]\n",
    "        rec_stim.append(df)\n",
    "    else:\n",
    "        df['rec_time'] = df.mstime - df.mstime.iloc[0]\n",
    "        no_rec_stim.append(df)\n",
    "rec_stim = pd.concat(rec_stim)\n",
    "no_rec_stim = pd.concat(no_rec_stim)\n",
    "rec_stim = rec_stim[rec_stim.type =='REC_WORD']\n",
    "rec_stim = rec_stim[rec_stim.correct == True]\n",
    "no_rec_stim = no_rec_stim[no_rec_stim.type == 'REC_WORD']\n",
    "no_rec_stim = no_rec_stim[no_rec_stim.correct == True]\n",
    "\n",
    "# rec_stim\n",
    "# FOR ACTUAL STIM TIMES USE THIS CODE\n",
    "# # rec_stim = rec_stim[rec_stim.type.isin(['REC_WORD', 'STIM'])]\n",
    "# count = 0\n",
    "\n",
    "# split_times = []\n",
    "# times = []\n",
    "# for i, df in rec_stim.iterrows():\n",
    "#     if df.type == 'STIM':\n",
    "#         stim_time = df.rec_time\n",
    "#         if times:\n",
    "#             times.pop(0)\n",
    "#             if times:\n",
    "#                 split_times.append(times)\n",
    "#         times = []\n",
    "    \n",
    "#     times.append(df.rec_time - stim_time)\n",
    "# split_times = [j for sub in split_times for j in sub]\n",
    "# rec_stim\n",
    "\n"
   ]
  },
  {
   "cell_type": "code",
   "execution_count": null,
   "metadata": {},
   "outputs": [],
   "source": [
    "def get_normed_times(i, value):\n",
    "    if i < value:\n",
    "        return i\n",
    "    else:\n",
    "        i = i - value\n",
    "        return get_normed_times(i, value)\n",
    "    "
   ]
  },
  {
   "cell_type": "code",
   "execution_count": null,
   "metadata": {},
   "outputs": [],
   "source": [
    "# FOR BINNING BASED JUST ON 3750 ms INTERVALS USE THIS CODE\n",
    "rec_times = rec_stim.rec_time.to_numpy()\n",
    "no_times = no_rec_stim.rec_time.to_numpy()\n",
    "stim_times = []\n",
    "sham_times = []\n",
    "for i in rec_times:\n",
    "    stim_times.append(get_normed_times(i, 3750))\n",
    "    \n",
    "for i in no_times:\n",
    "    sham_times.append(get_normed_times(i, 3750))\n",
    "xti = np.arange(11)*375\n",
    "stim_digi= np.digitize(stim_times, xti)\n",
    "sham_digi= np.digitize(sham_times, xti)\n",
    "\n",
    "\n",
    "stim_counts = np.zeros(11)\n",
    "sham_counts = np.zeros(11)\n",
    "\n",
    "for i in stim_digi:\n",
    "    stim_counts[i] += 1\n",
    "\n",
    "for i in sham_digi:\n",
    "    sham_counts[i] += 1\n",
    "\n",
    "\n"
   ]
  },
  {
   "cell_type": "code",
   "execution_count": null,
   "metadata": {},
   "outputs": [],
   "source": [
    "set_axes(figsize = (8, 5), xticks = xti, ylim = [-10, 25])\n",
    "_ = plt.ylabel('Number of Correct Recalls', fontsize = 14)\n",
    "_ = plt.xlabel('Time (ms)', fontsize = 14)\n",
    "_ = plt.axhline(y=0, color='black', linestyle='--')\n",
    "\n",
    "_ = plt.axvspan(0, 750, alpha=0.2, color='yellow', label = 'Stimulation Period')\n",
    "\n",
    "n = plt.hist((stim_times, sham_times), bins = xti, color = ['deepskyblue', 'orange'], cumulative=True, histtype = 'bar', label = ['Stim', 'No Stim'])\n",
    "# n = plt.hist(sham_times, bins = xti, color = ['navy'], cumulative=True, histtype = 'bar', label = ['No Stim'], alpha = 0.5,)\n",
    "\n",
    "\n",
    "# _ = ax2.hist(sham_times, bins = xti, label = 'No Stim', color = 'navy', cumulative=True)\n",
    "# plt.title(\"Recalls As Function of Time Binned by Stim Period (\" + subject+ \")\", fontsize=18)\n",
    "diff = stim_counts - sham_counts\n",
    "diff = pd.Series(diff, index=xti-187.5)\n",
    "diff = diff.drop(-187.5)\n",
    "diff = diff.cumsum()\n",
    "# _ = plt.bar(diff.index, diff.values, width =375, edgecolor = 'black', label = 'Difference', color = 'green', alpha = 0.5)\n",
    "_ = plt.plot(diff.index, diff.values, label = 'Cumulative Difference', color = 'black', linestyle = '--', marker='o')\n",
    "_ = plt.legend()\n",
    "\n",
    "\n",
    "# plt.bar(height = stim_digi, x = xti)\n",
    "plt.savefig(subject+'_bin_stim_cum')"
   ]
  },
  {
   "cell_type": "markdown",
   "metadata": {},
   "source": [
    "### Charts"
   ]
  },
  {
   "cell_type": "code",
   "execution_count": null,
   "metadata": {},
   "outputs": [],
   "source": [
    "trecall = word_evs.groupby(['session', 'list', 'is_stim'])['recalled'].mean().reset_index()\n",
    "trecall = trecall.groupby(['session', 'is_stim'])['recalled'].mean().reset_index()\n",
    "trecall = trecall['recalled'].mean() * 100\n",
    "pd.set_option('display.max_rows', None)\n",
    "# word_evs.loc[word_evs.stim_list != word_evs.is_stim]"
   ]
  },
  {
   "cell_type": "code",
   "execution_count": null,
   "metadata": {},
   "outputs": [],
   "source": [
    "\n",
    "recalled = pd.DataFrame(columns = ['Repeats', 'Recall Rate (%)'])\n",
    "recalled['Recall Rate (%)'] = word_evs.groupby(['repeats', 'is_stim'])['recalled'].mean() * 100\n",
    "recalled = recalled.reset_index()\n",
    "recalled['Repeats'] = recalled['repeats']\n",
    "# recalled = recalled.drop('repeats', axis = 1)\n",
    "# total = pd.DataFrame()\n",
    "# total['Repeats'] = pd.Series('Total Recall')\n",
    "# total['Recall Rate (%)'] = pd.Series(trecall)\n",
    "# recalled = recalled.append(total).reset_index().drop('index', axis = 1)\n",
    "# plt.hist(recalled['Repeats'])\n",
    "# plt.plot(recalled)\n",
    "# recalled = recalled.set_index(['is_stim', 'Repeats'])\n",
    "\n",
    "\n",
    "\n",
    "# recalled.plot.bary = 'Recall Rate (%)')\n",
    "# recalled.drop('Repeats', 1).plot.bar()\n",
    "# fig, ax = plt.subplots(figsize=(10, 9))\n",
    "\n",
    "recalled = recalled.reset_index().drop('repeats',1)\n"
   ]
  },
  {
   "cell_type": "code",
   "execution_count": null,
   "metadata": {},
   "outputs": [],
   "source": [
    "stim = []\n",
    "nostim = []\n",
    "stim_lists = []\n",
    "nostim_lists = []\n",
    "for i, df in rec_evs.groupby('list'):\n",
    "    if(np.isin('STIM', df.type.unique())):\n",
    "        stim.append(df)\n",
    "        stim_lists.append(i)\n",
    "    else:\n",
    "        nostim.append(df)\n",
    "        nostim_lists.append(i)\n",
    "\n",
    "nostim = pd.concat(nostim)\n",
    "stim_rec = pd.DataFrame()\n",
    "\n",
    "stim = word_evs.loc[word_evs['list'].isin(stim_lists)]\n",
    "nostim = word_evs.loc[word_evs['list'].isin(nostim_lists)]\n",
    "nostim['stimulation'] = pd.Series(False, index = nostim.index)\n",
    "stim['stimulation'] = pd.Series(True, index = stim.index)\n",
    "\n",
    "rec_stim = stim.append(nostim)\n",
    "# set_axes(figsize = (7, 7))\n",
    "fig, ax = plt.subplots(1,2, figsize = (14, 7))\n",
    "_ = plt.ylim([0, 1])\n",
    "_ = ax[0].set_ylim([0, 1])\n",
    "# g = sns.barplot(data = stim, x = 'repeats', y = 'recalled', color = '')\n",
    "\n",
    "g = sns.barplot(ax=ax[0], data = rec_stim, x = 'repeats', y = 'recalled', hue = 'stimulation', palette = ['deepskyblue', 'orange'],\n",
    "           ci=95, capsize = .05, errwidth=2)\n",
    "_ = ax[0].set_title('Retrieval Stimulation Recall Effect', fontsize = 14)\n",
    "_ = ax[0].set_xlabel('Number of Presentations', fontsize = 13)\n",
    "_ = ax[0].set_ylabel('Recall Proportion', fontsize = 14)\n",
    "_ = ax[0].legend(title = 'Stimulation')\n",
    "_ = ax[0].set_xticklabels(ax[0].get_xticklabels(), fontsize = 14)\n",
    "_ = ax[0].set_yticklabels(ax[0].get_yticklabels(), fontsize = 14)\n",
    "_ = ax[1].set_xticklabels(ax[1].get_xticklabels(), fontsize = 14)\n",
    "_ = ax[1].set_yticklabels(ax[1].get_yticklabels(), fontsize = 14)\n",
    "# fig.ylim[0, 1]\n",
    "# set_axes(figsize = (7, 7))\n",
    "\n",
    "\n",
    "g = sns.barplot(ax = ax[1], data = word_evs, x = 'repeats', y = 'recalled', hue = 'is_stim', palette = ['deepskyblue', 'orange'],\n",
    "               ci=95, capsize = .05, errwidth=2)\n",
    "_ = plt.title('Encoding Stimulation Recall Effect', fontsize = 16)\n",
    "_ = plt.xlabel('Number of Presentations', fontsize = 14)\n",
    "_ = plt.ylabel('Recall Proportion', fontsize = 14)\n",
    "_ = plt.legend(title = 'Stimulation')\n",
    "plt.show()"
   ]
  },
  {
   "cell_type": "code",
   "execution_count": 136,
   "metadata": {},
   "outputs": [
    {
     "data": {
      "text/html": [
       "<div>\n",
       "<style scoped>\n",
       "    .dataframe tbody tr th:only-of-type {\n",
       "        vertical-align: middle;\n",
       "    }\n",
       "\n",
       "    .dataframe tbody tr th {\n",
       "        vertical-align: top;\n",
       "    }\n",
       "\n",
       "    .dataframe thead th {\n",
       "        text-align: right;\n",
       "    }\n",
       "</style>\n",
       "<table border=\"1\" class=\"dataframe\">\n",
       "  <thead>\n",
       "    <tr style=\"text-align: right;\">\n",
       "      <th></th>\n",
       "      <th>repeats_1</th>\n",
       "      <th>repeats_2</th>\n",
       "      <th>repeats_3</th>\n",
       "    </tr>\n",
       "    <tr>\n",
       "      <th>intrusion</th>\n",
       "      <th></th>\n",
       "      <th></th>\n",
       "      <th></th>\n",
       "    </tr>\n",
       "  </thead>\n",
       "  <tbody>\n",
       "    <tr>\n",
       "      <td>-999</td>\n",
       "      <td>0</td>\n",
       "      <td>0</td>\n",
       "      <td>0</td>\n",
       "    </tr>\n",
       "    <tr>\n",
       "      <td>-1</td>\n",
       "      <td>0</td>\n",
       "      <td>0</td>\n",
       "      <td>2</td>\n",
       "    </tr>\n",
       "    <tr>\n",
       "      <td>0</td>\n",
       "      <td>13</td>\n",
       "      <td>39</td>\n",
       "      <td>82</td>\n",
       "    </tr>\n",
       "    <tr>\n",
       "      <td>1</td>\n",
       "      <td>1</td>\n",
       "      <td>2</td>\n",
       "      <td>3</td>\n",
       "    </tr>\n",
       "    <tr>\n",
       "      <td>2</td>\n",
       "      <td>1</td>\n",
       "      <td>0</td>\n",
       "      <td>0</td>\n",
       "    </tr>\n",
       "    <tr>\n",
       "      <td>3</td>\n",
       "      <td>0</td>\n",
       "      <td>1</td>\n",
       "      <td>0</td>\n",
       "    </tr>\n",
       "    <tr>\n",
       "      <td>10</td>\n",
       "      <td>1</td>\n",
       "      <td>0</td>\n",
       "      <td>0</td>\n",
       "    </tr>\n",
       "    <tr>\n",
       "      <td>13</td>\n",
       "      <td>0</td>\n",
       "      <td>1</td>\n",
       "      <td>0</td>\n",
       "    </tr>\n",
       "    <tr>\n",
       "      <td>15</td>\n",
       "      <td>1</td>\n",
       "      <td>0</td>\n",
       "      <td>0</td>\n",
       "    </tr>\n",
       "    <tr>\n",
       "      <td>16</td>\n",
       "      <td>1</td>\n",
       "      <td>0</td>\n",
       "      <td>0</td>\n",
       "    </tr>\n",
       "  </tbody>\n",
       "</table>\n",
       "</div>"
      ],
      "text/plain": [
       "           repeats_1  repeats_2  repeats_3\n",
       "intrusion                                 \n",
       "-999               0          0          0\n",
       "-1                 0          0          2\n",
       " 0                13         39         82\n",
       " 1                 1          2          3\n",
       " 2                 1          0          0\n",
       " 3                 0          1          0\n",
       " 10                1          0          0\n",
       " 13                0          1          0\n",
       " 15                1          0          0\n",
       " 16                1          0          0"
      ]
     },
     "execution_count": 136,
     "metadata": {},
     "output_type": "execute_result"
    }
   ],
   "source": [
    "pd.get_dummies(rec_evs, columns=['repeats']).groupby('intrusion').agg('sum').iloc[:, -3:]"
   ]
  },
  {
   "cell_type": "markdown",
   "metadata": {},
   "source": [
    "### Plots"
   ]
  },
  {
   "cell_type": "markdown",
   "metadata": {
    "tags": []
   },
   "source": [
    "### Lag-CRP and Minimum Lag-CRP"
   ]
  },
  {
   "cell_type": "code",
   "execution_count": 139,
   "metadata": {},
   "outputs": [],
   "source": [
    "crp = []\n",
    "num_lags = 6\n",
    "for j, df in evs.groupby('session'):\n",
    "    rec_evs = df[df.type == 'REC_WORD'].reset_index()\n",
    "    word_evs = df[df.type == 'WORD']\n",
    "    recs = rcrp.get_act_spos(rec_evs, word_evs)\n",
    "    sess_crps = rcrp.crp(recs, num_lags = num_lags, list_length = 27)\n",
    "    sess_crp = sess_crps.groupby('lag').mean()\n",
    "    crp.append(sess_crp)\n",
    "crp = pd.concat(crp)\n",
    "crp = crp.reset_index()\n",
    "crp = crp.replace([np.inf, -np.inf], 0)\n",
    "\n"
   ]
  },
  {
   "cell_type": "markdown",
   "metadata": {},
   "source": [
    "### Minimum Lag-CRP"
   ]
  },
  {
   "cell_type": "code",
   "execution_count": 140,
   "metadata": {},
   "outputs": [],
   "source": [
    "min_crp = []\n",
    "num_lags = 6\n",
    "for j, df in evs.groupby('session'):\n",
    "    rec_evs = df[df.type == 'REC_WORD'].reset_index()\n",
    "    word_evs = df[df.type == 'WORD']\n",
    "    recs = rcrp.get_act_spos(rec_evs, word_evs)\n",
    "    sess_crps = rcrp.min_crp(recs, num_lags = num_lags, list_length = 27, halfornah = 'nah')\n",
    "    sess_crp = sess_crps.groupby('lag').mean()\n",
    "    min_crp.append(sess_crp)\n",
    "min_crp = pd.concat(min_crp)\n",
    "min_crp.reset_index(inplace = True)"
   ]
  },
  {
   "cell_type": "code",
   "execution_count": 141,
   "metadata": {},
   "outputs": [
    {
     "data": {
      "image/png": "[encoded data removed]",
      "text/plain": [
       "<Figure size 1008x504 with 2 Axes>"
      ]
     },
     "metadata": {
      "needs_background": "light"
     },
     "output_type": "display_data"
    }
   ],
   "source": [
    "fig, ax = plt.subplots(1,2, figsize=(14, 7))\n",
    "error_bars ={'elinewidth':2, 'capsize':3, 'capthick':2}\n",
    "right_side = ax[0].spines[\"right\"]\n",
    "right_side.set_visible(False)\n",
    "top_side = ax[0].spines[\"top\"]\n",
    "top_side.set_visible(False)\n",
    "right_side = ax[1].spines[\"right\"]\n",
    "right_side.set_visible(False)\n",
    "top_side = ax[1].spines[\"top\"]\n",
    "top_side.set_visible(False)\n",
    "\n",
    "g = sns.lineplot(ax = ax[0], data = crp[crp.lag>0], x = 'lag', y = 'prob', err_style = 'bars', ci = 95, marker = 'o', color = 'black', err_kws=error_bars)\n",
    "g = sns.lineplot(ax = ax[0], data = crp[crp.lag<0], x = 'lag', y = 'prob', err_style = 'bars', ci = 95, marker = 'o', color = 'black', err_kws=error_bars)\n",
    "\n",
    "\n",
    "_ = ax[0].set_xticks(range(-num_lags, num_lags+1))\n",
    "\n",
    "# _ = plt.grid()\n",
    "_ = plt.xlim(-num_lags - 0.5, num_lags + 0.5)\n",
    "\n",
    "\n",
    "# _ = plt.title('Massed Lag-CRP (Hospital RepFR1)', fontsize = 18)\n",
    "_ = ax[0].set_ylabel('Conditional Response Probability', fontsize = 14)\n",
    "_ = ax[0].set_xlabel('Lag', fontsize = 14)\n",
    "_ = ax[0].set_ylim([0, 0.5])\n",
    "\n",
    "error_bars ={'elinewidth':2, 'capsize':3, 'capthick':2}\n",
    "\n",
    "\n",
    "g = sns.lineplot(ax = ax[1], data = min_crp[min_crp.lag > 0], x = 'lag', y = 'prob', err_style = 'bars', ci = 95, marker = 'o', color = 'black', err_kws=error_bars)\n",
    "g = sns.lineplot(ax = ax[1], data = min_crp[min_crp.lag < 0], x = 'lag', y = 'prob', err_style = 'bars', ci = 95, marker = 'o', color = 'black', err_kws=error_bars)\n",
    "_ = plt.xticks(range(-num_lags, num_lags+1))\n",
    "\n",
    "# _ = plt.grid()\n",
    "_ = plt.xlim(-num_lags - 0.5, num_lags + 0.5)\n",
    "\n",
    "# _ = plt.title('Massed Lag-CRP (Hospital RepFR1)', fontsize = 18)\n",
    "_ = plt.ylabel('', fontsize = 14)\n",
    "_ = plt.xlabel('Lag', fontsize = 14)\n",
    "_ = plt.ylim([0, 0.5])\n",
    "_ = ax[0].set_xticklabels(range(-num_lags, num_lags+1), fontsize = 14)\n",
    "_ = ax[0].set_yticklabels([0, 0.1, 0.2, 0.3, 0.4, 0.5], fontsize = 14)\n",
    "_ = ax[1].set_xticklabels(range(-num_lags, num_lags+1), fontsize = 14)\n",
    "_ = ax[1].set_yticklabels([0, 0.1, 0.2, 0.3, 0.4, 0.5], fontsize = 14)"
   ]
  },
  {
   "cell_type": "code",
   "execution_count": null,
   "metadata": {},
   "outputs": [],
   "source": [
    "fig, ax = plt.subplots(1,2, figsize = (14, 7))\n",
    "ax[0].set_ylim([0, 1])\n",
    "ax[1].set_ylim([0, 1])\n",
    "sns.lineplot(ax=ax[0], data=word_evs.reset_index(), y='recalled', x='repeats', color='black',\n",
    "             linestyle='--', err_style='bars', err_kws={'capsize':5}, ci=95)\n",
    "ax[0].set_xticks(ticks=[1, 2, 3])\n",
    "ax[0].set_xlabel('# of Repetitions', fontsize=16)\n",
    "ax[0].set_ylabel('Probability of Recall', fontsize=16)\n",
    "\n",
    "right_side = ax[0].spines[\"right\"]\n",
    "right_side.set_visible(False)\n",
    "top_side = ax[0].spines[\"top\"]\n",
    "top_side.set_visible(False)\n",
    "\n",
    "right_side = ax[1].spines[\"right\"]\n",
    "right_side.set_visible(False)\n",
    "top_side = ax[1].spines[\"top\"]\n",
    "top_side.set_visible(False)\n",
    "\n",
    "rec_evs['is_intrusion'] = (rec_evs.intrusion!=0).astype(int)\n",
    "sns.lineplot(ax = ax[1], data=rec_evs[rec_evs.repeats>0].reset_index(), y='is_intrusion', x='repeats', color='black',\n",
    "             linestyle='--', err_style='bars', err_kws={'capsize':5}, ci=95)\n",
    "plt.xticks(ticks=[1, 2, 3])\n",
    "plt.xlabel('# of Repetitions', fontsize=16)\n",
    "plt.ylabel('Intrusion Rate', fontsize=16)\n"
   ]
  },
  {
   "cell_type": "markdown",
   "metadata": {},
   "source": [
    "## EEG "
   ]
  },
  {
   "cell_type": "code",
   "execution_count": 144,
   "metadata": {},
   "outputs": [
    {
     "name": "stdout",
     "output_type": "stream",
     "text": [
      "Session 0\n"
     ]
    }
   ],
   "source": [
    "session = data['session'].unique()[0]\n",
    "\n",
    "subject = 'R1579T'\n",
    "print('Session ' + str(session))\n",
    "data = cml.get_data_index(kind = 'r1'); data = data[data['experiment'] == 'RepFR2']; data = data[data['subject'] == subject]\n",
    "r = cml.CMLReader(subject=subject, experiment='RepFR2', session=session, localization=localization, montage=montage)\n",
    "evs = r.load('task_events')\n",
    "\n",
    "word_evs = evs[evs.type=='WORD']\n",
    "rec_evs = evs[evs.type=='REC_WORD']"
   ]
  },
  {
   "cell_type": "code",
   "execution_count": 145,
   "metadata": {},
   "outputs": [],
   "source": [
    "pairs = r.load('pairs')\n",
    "\n"
   ]
  },
  {
   "cell_type": "code",
   "execution_count": 146,
   "metadata": {},
   "outputs": [],
   "source": [
    "word_evs['eegfile'].unique()\n",
    "\n",
    "contacts = r.load('contacts')\n",
    "buf = 500\n",
    "eeg = r.load_eeg(word_evs, rel_start=-500 - buf, rel_stop=500 + buf, scheme=contacts)\n"
   ]
  },
  {
   "cell_type": "code",
   "execution_count": 147,
   "metadata": {},
   "outputs": [],
   "source": [
    "eeg_ptsa = eeg.to_ptsa()\n",
    "# Butterworth filter to remove 60 Hz line noise + harmonic at 120\n",
    "eeg_ptsa = eeg_ptsa.filtered([58, 62])\n",
    "eeg_ptsa = eeg_ptsa.filtered([118, 122])"
   ]
  },
  {
   "cell_type": "code",
   "execution_count": 148,
   "metadata": {},
   "outputs": [
    {
     "data": {
      "image/png": "[encoded data removed]",
      "text/plain": [
       "<Figure size 864x576 with 1 Axes>"
      ]
     },
     "metadata": {
      "needs_background": "light"
     },
     "output_type": "display_data"
    }
   ],
   "source": [
    "from ptsa.data.filters import MorletWaveletFilter\n",
    "\n",
    "erp = eeg_ptsa[word_evs.recalled.astype(bool).values].mean(['event', 'channel']) - eeg_ptsa[~word_evs.recalled.astype(bool).values].mean(['event', 'channel'])\n",
    "\n",
    "plt.figure(figsize=(12, 8))\n",
    "e = erp.plot()\n",
    "\n",
    "# pows = MorletWaveletFilter(timeseries=eeg_ptsa, freqs=np.logspace(np.log10(6), np.log10(180), 8), output='power', width=4, cpus=10).filter()\n",
    "\n",
    "# pows = pows.remove_buffer(0.5)\n",
    "\n",
    "# mask = word_evs.recalled.astype(bool).values\n",
    "# sme = pows[:, mask].mean(['event', 'channel']) - pows[:, ~mask].mean(['event', 'channel'])"
   ]
  },
  {
   "cell_type": "code",
   "execution_count": 116,
   "metadata": {},
   "outputs": [],
   "source": [
    "# fig = plt.figure(figsize=(20, 10))\n",
    "# ax = plt.gca()\n",
    "# im = ax.imshow(sme, cmap='coolwarm', aspect = 20, interpolation='hamming')\n",
    "# plt.yticks(ticks = range(0, 8), labels=[f\"{f:.0f}\" for f in np.logspace(np.log10(6), np.log10(180), 8)])\n",
    "# labels = ax.get_xticklabels()\n",
    "# ax.tick_params(axis='x', labelsize=14)\n",
    "# ax.tick_params(axis='y', labelsize=14)\n",
    "# plt.xlabel('Time', fontsize=20)\n",
    "# plt.ylabel('Frequencies', fontsize=20)\n",
    "# plt.title('Subsequent Memory Effect', fontsize=24)\n",
    "# cbar = plt.colorbar(im, ax=ax, fraction = .01)\n",
    "# cbar.set_label(label='t statistic \\n (remembered - forgotten)', size=16)\n",
    "# cbar.ax.tick_params(labelsize=14)"
   ]
  },
  {
   "cell_type": "code",
   "execution_count": null,
   "metadata": {},
   "outputs": [],
   "source": []
  },
  {
   "cell_type": "code",
   "execution_count": 93,
   "metadata": {},
   "outputs": [
    {
     "data": {
      "image/png": "[encoded data removed]",
      "text/plain": [
       "<Figure size 648x648 with 1 Axes>"
      ]
     },
     "metadata": {
      "needs_background": "light"
     },
     "output_type": "display_data"
    }
   ],
   "source": [
    "# crp = word_evs.query('is_repeat == False')\n",
    "# fake_crp = []\n",
    "# crp\n",
    "\n",
    "# for i in range(total_lists):\n",
    "#     for j in range(12):\n",
    "#         fake_crp.append(j)\n",
    "# fake_crp = pd.Series(fake_crp, index = crp.index)\n",
    "\n",
    "# crp['serialpos'] = fake_crp\n",
    "# beh = crp.append(rec_evs)\n",
    "# agg = []\n",
    "# for i, df in beh.groupby('session'):\n",
    "#     agg.append(pb.pd_crp(df, itemno_column='item_num', list_index=['subject', 'session', 'list'], lag_num=6))\n",
    "\n",
    "# crp_df = pb.pd_crp(beh, itemno_column='item_num', list_index=['subject', 'session', 'list'], lag_num=6)\n",
    "\n",
    "# agg = pd.concat(agg)\n",
    "# error_bars ={'elinewidth':1.5, 'capsize':3, 'capthick':1.5}\n",
    "# _ = plt.figure(figsize=(9, 9))\n",
    "# _ = plt.title('Lag-CRP Curve (First Presentations, Reset Serial Position)', fontsize = 18)\n",
    "# _ = plt.xticks(range(-6, 7), fontsize = 12)\n",
    "# _ = plt.yticks(fontsize = 12)\n",
    "# _ = plt.grid()\n",
    "# g = sns.lineplot(data=agg.loc[agg['lag'] < 0], x='lag', y='prob', err_style = 'bars', ci = 95, marker = 'o', color = 'black', err_kws=error_bars)\n",
    "# g = sns.lineplot(data=agg.loc[agg['lag'] > 0], x='lag', y='prob', err_style = 'bars', ci = 95, marker = 'o', color = 'black', err_kws=error_bars)\n",
    "# _ = plt.xlabel('Lag', fontsize = 14)\n",
    "# _ = plt.ylabel('Conditional Response Probability', fontsize = 14)\n"
   ]
  }
 ],
 "metadata": {
  "kernelspec": {
   "display_name": "environmentname",
   "language": "python",
   "name": "environmentname"
  },
  "language_info": {
   "codemirror_mode": {
    "name": "ipython",
    "version": 3
   },
   "file_extension": ".py",
   "mimetype": "text/x-python",
   "name": "python",
   "nbconvert_exporter": "python",
   "pygments_lexer": "ipython3",
   "version": "3.7.9"
  },
  "toc-showcode": false,
  "toc-showmarkdowntxt": false,
  "toc-showtags": false
 },
 "nbformat": 4,
 "nbformat_minor": 4
}
